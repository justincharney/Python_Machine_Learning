{
  "nbformat": 4,
  "nbformat_minor": 0,
  "metadata": {
    "colab": {
      "provenance": [],
      "collapsed_sections": [
        "BLj2vFjd5nGT",
        "Ev4OTIqKXEeF",
        "kgLAf5_IXINI",
        "FdIfO5a5eAyr",
        "5EtPV6_0Qiwx",
        "-Ps9bP1aakl_",
        "oAd6JvK1mm-y",
        "XnSrXYhkzRFf",
        "0u10dkRSI5c5",
        "qItqXrVeI37f",
        "vIYDOYLnKi2-",
        "Ej44WlLtJQHv",
        "uBtEhuA3JumH"
      ],
      "toc_visible": true,
      "include_colab_link": true
    },
    "kernelspec": {
      "name": "python3",
      "display_name": "Python 3"
    },
    "language_info": {
      "name": "python"
    },
    "gpuClass": "standard",
    "accelerator": "GPU",
    "widgets": {
      "application/vnd.jupyter.widget-state+json": {
        "84122aa796c7483b99569966a3d36c50": {
          "model_module": "@jupyter-widgets/controls",
          "model_name": "HBoxModel",
          "model_module_version": "1.5.0",
          "state": {
            "_dom_classes": [],
            "_model_module": "@jupyter-widgets/controls",
            "_model_module_version": "1.5.0",
            "_model_name": "HBoxModel",
            "_view_count": null,
            "_view_module": "@jupyter-widgets/controls",
            "_view_module_version": "1.5.0",
            "_view_name": "HBoxView",
            "box_style": "",
            "children": [
              "IPY_MODEL_86a5994895094d059b4eb5dc42bd53bf",
              "IPY_MODEL_32b8109ed7c041aba109194757ca0759",
              "IPY_MODEL_833c9bfc5d0a488382691209ea4e11c9"
            ],
            "layout": "IPY_MODEL_ced0165ac3f943ee91c4650b73561701"
          }
        },
        "86a5994895094d059b4eb5dc42bd53bf": {
          "model_module": "@jupyter-widgets/controls",
          "model_name": "HTMLModel",
          "model_module_version": "1.5.0",
          "state": {
            "_dom_classes": [],
            "_model_module": "@jupyter-widgets/controls",
            "_model_module_version": "1.5.0",
            "_model_name": "HTMLModel",
            "_view_count": null,
            "_view_module": "@jupyter-widgets/controls",
            "_view_module_version": "1.5.0",
            "_view_name": "HTMLView",
            "description": "",
            "description_tooltip": null,
            "layout": "IPY_MODEL_b28c6d5846324c7cb1b0a1748c498e22",
            "placeholder": "​",
            "style": "IPY_MODEL_328a0692d35d410b851493581b8d257c",
            "value": "Downloading: 100%"
          }
        },
        "32b8109ed7c041aba109194757ca0759": {
          "model_module": "@jupyter-widgets/controls",
          "model_name": "FloatProgressModel",
          "model_module_version": "1.5.0",
          "state": {
            "_dom_classes": [],
            "_model_module": "@jupyter-widgets/controls",
            "_model_module_version": "1.5.0",
            "_model_name": "FloatProgressModel",
            "_view_count": null,
            "_view_module": "@jupyter-widgets/controls",
            "_view_module_version": "1.5.0",
            "_view_name": "ProgressView",
            "bar_style": "success",
            "description": "",
            "description_tooltip": null,
            "layout": "IPY_MODEL_ce5c239a40634b84943b8e13f02d1413",
            "max": 570,
            "min": 0,
            "orientation": "horizontal",
            "style": "IPY_MODEL_f8d69e6a2858464db3c4a3c913408806",
            "value": 570
          }
        },
        "833c9bfc5d0a488382691209ea4e11c9": {
          "model_module": "@jupyter-widgets/controls",
          "model_name": "HTMLModel",
          "model_module_version": "1.5.0",
          "state": {
            "_dom_classes": [],
            "_model_module": "@jupyter-widgets/controls",
            "_model_module_version": "1.5.0",
            "_model_name": "HTMLModel",
            "_view_count": null,
            "_view_module": "@jupyter-widgets/controls",
            "_view_module_version": "1.5.0",
            "_view_name": "HTMLView",
            "description": "",
            "description_tooltip": null,
            "layout": "IPY_MODEL_ea6ab4ac40a0426b9493af0229008374",
            "placeholder": "​",
            "style": "IPY_MODEL_639c3e1afa5a4aafa4ad689431098b8f",
            "value": " 570/570 [00:00&lt;00:00, 39.8kB/s]"
          }
        },
        "ced0165ac3f943ee91c4650b73561701": {
          "model_module": "@jupyter-widgets/base",
          "model_name": "LayoutModel",
          "model_module_version": "1.2.0",
          "state": {
            "_model_module": "@jupyter-widgets/base",
            "_model_module_version": "1.2.0",
            "_model_name": "LayoutModel",
            "_view_count": null,
            "_view_module": "@jupyter-widgets/base",
            "_view_module_version": "1.2.0",
            "_view_name": "LayoutView",
            "align_content": null,
            "align_items": null,
            "align_self": null,
            "border": null,
            "bottom": null,
            "display": null,
            "flex": null,
            "flex_flow": null,
            "grid_area": null,
            "grid_auto_columns": null,
            "grid_auto_flow": null,
            "grid_auto_rows": null,
            "grid_column": null,
            "grid_gap": null,
            "grid_row": null,
            "grid_template_areas": null,
            "grid_template_columns": null,
            "grid_template_rows": null,
            "height": null,
            "justify_content": null,
            "justify_items": null,
            "left": null,
            "margin": null,
            "max_height": null,
            "max_width": null,
            "min_height": null,
            "min_width": null,
            "object_fit": null,
            "object_position": null,
            "order": null,
            "overflow": null,
            "overflow_x": null,
            "overflow_y": null,
            "padding": null,
            "right": null,
            "top": null,
            "visibility": null,
            "width": null
          }
        },
        "b28c6d5846324c7cb1b0a1748c498e22": {
          "model_module": "@jupyter-widgets/base",
          "model_name": "LayoutModel",
          "model_module_version": "1.2.0",
          "state": {
            "_model_module": "@jupyter-widgets/base",
            "_model_module_version": "1.2.0",
            "_model_name": "LayoutModel",
            "_view_count": null,
            "_view_module": "@jupyter-widgets/base",
            "_view_module_version": "1.2.0",
            "_view_name": "LayoutView",
            "align_content": null,
            "align_items": null,
            "align_self": null,
            "border": null,
            "bottom": null,
            "display": null,
            "flex": null,
            "flex_flow": null,
            "grid_area": null,
            "grid_auto_columns": null,
            "grid_auto_flow": null,
            "grid_auto_rows": null,
            "grid_column": null,
            "grid_gap": null,
            "grid_row": null,
            "grid_template_areas": null,
            "grid_template_columns": null,
            "grid_template_rows": null,
            "height": null,
            "justify_content": null,
            "justify_items": null,
            "left": null,
            "margin": null,
            "max_height": null,
            "max_width": null,
            "min_height": null,
            "min_width": null,
            "object_fit": null,
            "object_position": null,
            "order": null,
            "overflow": null,
            "overflow_x": null,
            "overflow_y": null,
            "padding": null,
            "right": null,
            "top": null,
            "visibility": null,
            "width": null
          }
        },
        "328a0692d35d410b851493581b8d257c": {
          "model_module": "@jupyter-widgets/controls",
          "model_name": "DescriptionStyleModel",
          "model_module_version": "1.5.0",
          "state": {
            "_model_module": "@jupyter-widgets/controls",
            "_model_module_version": "1.5.0",
            "_model_name": "DescriptionStyleModel",
            "_view_count": null,
            "_view_module": "@jupyter-widgets/base",
            "_view_module_version": "1.2.0",
            "_view_name": "StyleView",
            "description_width": ""
          }
        },
        "ce5c239a40634b84943b8e13f02d1413": {
          "model_module": "@jupyter-widgets/base",
          "model_name": "LayoutModel",
          "model_module_version": "1.2.0",
          "state": {
            "_model_module": "@jupyter-widgets/base",
            "_model_module_version": "1.2.0",
            "_model_name": "LayoutModel",
            "_view_count": null,
            "_view_module": "@jupyter-widgets/base",
            "_view_module_version": "1.2.0",
            "_view_name": "LayoutView",
            "align_content": null,
            "align_items": null,
            "align_self": null,
            "border": null,
            "bottom": null,
            "display": null,
            "flex": null,
            "flex_flow": null,
            "grid_area": null,
            "grid_auto_columns": null,
            "grid_auto_flow": null,
            "grid_auto_rows": null,
            "grid_column": null,
            "grid_gap": null,
            "grid_row": null,
            "grid_template_areas": null,
            "grid_template_columns": null,
            "grid_template_rows": null,
            "height": null,
            "justify_content": null,
            "justify_items": null,
            "left": null,
            "margin": null,
            "max_height": null,
            "max_width": null,
            "min_height": null,
            "min_width": null,
            "object_fit": null,
            "object_position": null,
            "order": null,
            "overflow": null,
            "overflow_x": null,
            "overflow_y": null,
            "padding": null,
            "right": null,
            "top": null,
            "visibility": null,
            "width": null
          }
        },
        "f8d69e6a2858464db3c4a3c913408806": {
          "model_module": "@jupyter-widgets/controls",
          "model_name": "ProgressStyleModel",
          "model_module_version": "1.5.0",
          "state": {
            "_model_module": "@jupyter-widgets/controls",
            "_model_module_version": "1.5.0",
            "_model_name": "ProgressStyleModel",
            "_view_count": null,
            "_view_module": "@jupyter-widgets/base",
            "_view_module_version": "1.2.0",
            "_view_name": "StyleView",
            "bar_color": null,
            "description_width": ""
          }
        },
        "ea6ab4ac40a0426b9493af0229008374": {
          "model_module": "@jupyter-widgets/base",
          "model_name": "LayoutModel",
          "model_module_version": "1.2.0",
          "state": {
            "_model_module": "@jupyter-widgets/base",
            "_model_module_version": "1.2.0",
            "_model_name": "LayoutModel",
            "_view_count": null,
            "_view_module": "@jupyter-widgets/base",
            "_view_module_version": "1.2.0",
            "_view_name": "LayoutView",
            "align_content": null,
            "align_items": null,
            "align_self": null,
            "border": null,
            "bottom": null,
            "display": null,
            "flex": null,
            "flex_flow": null,
            "grid_area": null,
            "grid_auto_columns": null,
            "grid_auto_flow": null,
            "grid_auto_rows": null,
            "grid_column": null,
            "grid_gap": null,
            "grid_row": null,
            "grid_template_areas": null,
            "grid_template_columns": null,
            "grid_template_rows": null,
            "height": null,
            "justify_content": null,
            "justify_items": null,
            "left": null,
            "margin": null,
            "max_height": null,
            "max_width": null,
            "min_height": null,
            "min_width": null,
            "object_fit": null,
            "object_position": null,
            "order": null,
            "overflow": null,
            "overflow_x": null,
            "overflow_y": null,
            "padding": null,
            "right": null,
            "top": null,
            "visibility": null,
            "width": null
          }
        },
        "639c3e1afa5a4aafa4ad689431098b8f": {
          "model_module": "@jupyter-widgets/controls",
          "model_name": "DescriptionStyleModel",
          "model_module_version": "1.5.0",
          "state": {
            "_model_module": "@jupyter-widgets/controls",
            "_model_module_version": "1.5.0",
            "_model_name": "DescriptionStyleModel",
            "_view_count": null,
            "_view_module": "@jupyter-widgets/base",
            "_view_module_version": "1.2.0",
            "_view_name": "StyleView",
            "description_width": ""
          }
        },
        "4c4b38df90d34048b3ee1ff2489fac88": {
          "model_module": "@jupyter-widgets/controls",
          "model_name": "HBoxModel",
          "model_module_version": "1.5.0",
          "state": {
            "_dom_classes": [],
            "_model_module": "@jupyter-widgets/controls",
            "_model_module_version": "1.5.0",
            "_model_name": "HBoxModel",
            "_view_count": null,
            "_view_module": "@jupyter-widgets/controls",
            "_view_module_version": "1.5.0",
            "_view_name": "HBoxView",
            "box_style": "",
            "children": [
              "IPY_MODEL_38abbe410d4e43d99d6aab3ba6bef3bd",
              "IPY_MODEL_49bc35cc9c35484787336f102302fba2",
              "IPY_MODEL_01772e33c02d47b4a4a5ed9ecd13ca41"
            ],
            "layout": "IPY_MODEL_6bd72a9e1f614a6ebc363a0b0dc7a21c"
          }
        },
        "38abbe410d4e43d99d6aab3ba6bef3bd": {
          "model_module": "@jupyter-widgets/controls",
          "model_name": "HTMLModel",
          "model_module_version": "1.5.0",
          "state": {
            "_dom_classes": [],
            "_model_module": "@jupyter-widgets/controls",
            "_model_module_version": "1.5.0",
            "_model_name": "HTMLModel",
            "_view_count": null,
            "_view_module": "@jupyter-widgets/controls",
            "_view_module_version": "1.5.0",
            "_view_name": "HTMLView",
            "description": "",
            "description_tooltip": null,
            "layout": "IPY_MODEL_9803767f71724981ab1d80c95be17ed8",
            "placeholder": "​",
            "style": "IPY_MODEL_cb435c213c3a45e2a17c5e23f5ad4ea4",
            "value": "Downloading: 100%"
          }
        },
        "49bc35cc9c35484787336f102302fba2": {
          "model_module": "@jupyter-widgets/controls",
          "model_name": "FloatProgressModel",
          "model_module_version": "1.5.0",
          "state": {
            "_dom_classes": [],
            "_model_module": "@jupyter-widgets/controls",
            "_model_module_version": "1.5.0",
            "_model_name": "FloatProgressModel",
            "_view_count": null,
            "_view_module": "@jupyter-widgets/controls",
            "_view_module_version": "1.5.0",
            "_view_name": "ProgressView",
            "bar_style": "success",
            "description": "",
            "description_tooltip": null,
            "layout": "IPY_MODEL_d6f5ed944bf4445aaf9126378b2e94d7",
            "max": 440473133,
            "min": 0,
            "orientation": "horizontal",
            "style": "IPY_MODEL_5b76f4282b1c4374b0c22a51ea973697",
            "value": 440473133
          }
        },
        "01772e33c02d47b4a4a5ed9ecd13ca41": {
          "model_module": "@jupyter-widgets/controls",
          "model_name": "HTMLModel",
          "model_module_version": "1.5.0",
          "state": {
            "_dom_classes": [],
            "_model_module": "@jupyter-widgets/controls",
            "_model_module_version": "1.5.0",
            "_model_name": "HTMLModel",
            "_view_count": null,
            "_view_module": "@jupyter-widgets/controls",
            "_view_module_version": "1.5.0",
            "_view_name": "HTMLView",
            "description": "",
            "description_tooltip": null,
            "layout": "IPY_MODEL_7c6fd7d5ff0b4d33b5a87100546055f0",
            "placeholder": "​",
            "style": "IPY_MODEL_def2c99d52d94ecdb26ce0d1ed42ff6d",
            "value": " 440M/440M [00:05&lt;00:00, 80.3MB/s]"
          }
        },
        "6bd72a9e1f614a6ebc363a0b0dc7a21c": {
          "model_module": "@jupyter-widgets/base",
          "model_name": "LayoutModel",
          "model_module_version": "1.2.0",
          "state": {
            "_model_module": "@jupyter-widgets/base",
            "_model_module_version": "1.2.0",
            "_model_name": "LayoutModel",
            "_view_count": null,
            "_view_module": "@jupyter-widgets/base",
            "_view_module_version": "1.2.0",
            "_view_name": "LayoutView",
            "align_content": null,
            "align_items": null,
            "align_self": null,
            "border": null,
            "bottom": null,
            "display": null,
            "flex": null,
            "flex_flow": null,
            "grid_area": null,
            "grid_auto_columns": null,
            "grid_auto_flow": null,
            "grid_auto_rows": null,
            "grid_column": null,
            "grid_gap": null,
            "grid_row": null,
            "grid_template_areas": null,
            "grid_template_columns": null,
            "grid_template_rows": null,
            "height": null,
            "justify_content": null,
            "justify_items": null,
            "left": null,
            "margin": null,
            "max_height": null,
            "max_width": null,
            "min_height": null,
            "min_width": null,
            "object_fit": null,
            "object_position": null,
            "order": null,
            "overflow": null,
            "overflow_x": null,
            "overflow_y": null,
            "padding": null,
            "right": null,
            "top": null,
            "visibility": null,
            "width": null
          }
        },
        "9803767f71724981ab1d80c95be17ed8": {
          "model_module": "@jupyter-widgets/base",
          "model_name": "LayoutModel",
          "model_module_version": "1.2.0",
          "state": {
            "_model_module": "@jupyter-widgets/base",
            "_model_module_version": "1.2.0",
            "_model_name": "LayoutModel",
            "_view_count": null,
            "_view_module": "@jupyter-widgets/base",
            "_view_module_version": "1.2.0",
            "_view_name": "LayoutView",
            "align_content": null,
            "align_items": null,
            "align_self": null,
            "border": null,
            "bottom": null,
            "display": null,
            "flex": null,
            "flex_flow": null,
            "grid_area": null,
            "grid_auto_columns": null,
            "grid_auto_flow": null,
            "grid_auto_rows": null,
            "grid_column": null,
            "grid_gap": null,
            "grid_row": null,
            "grid_template_areas": null,
            "grid_template_columns": null,
            "grid_template_rows": null,
            "height": null,
            "justify_content": null,
            "justify_items": null,
            "left": null,
            "margin": null,
            "max_height": null,
            "max_width": null,
            "min_height": null,
            "min_width": null,
            "object_fit": null,
            "object_position": null,
            "order": null,
            "overflow": null,
            "overflow_x": null,
            "overflow_y": null,
            "padding": null,
            "right": null,
            "top": null,
            "visibility": null,
            "width": null
          }
        },
        "cb435c213c3a45e2a17c5e23f5ad4ea4": {
          "model_module": "@jupyter-widgets/controls",
          "model_name": "DescriptionStyleModel",
          "model_module_version": "1.5.0",
          "state": {
            "_model_module": "@jupyter-widgets/controls",
            "_model_module_version": "1.5.0",
            "_model_name": "DescriptionStyleModel",
            "_view_count": null,
            "_view_module": "@jupyter-widgets/base",
            "_view_module_version": "1.2.0",
            "_view_name": "StyleView",
            "description_width": ""
          }
        },
        "d6f5ed944bf4445aaf9126378b2e94d7": {
          "model_module": "@jupyter-widgets/base",
          "model_name": "LayoutModel",
          "model_module_version": "1.2.0",
          "state": {
            "_model_module": "@jupyter-widgets/base",
            "_model_module_version": "1.2.0",
            "_model_name": "LayoutModel",
            "_view_count": null,
            "_view_module": "@jupyter-widgets/base",
            "_view_module_version": "1.2.0",
            "_view_name": "LayoutView",
            "align_content": null,
            "align_items": null,
            "align_self": null,
            "border": null,
            "bottom": null,
            "display": null,
            "flex": null,
            "flex_flow": null,
            "grid_area": null,
            "grid_auto_columns": null,
            "grid_auto_flow": null,
            "grid_auto_rows": null,
            "grid_column": null,
            "grid_gap": null,
            "grid_row": null,
            "grid_template_areas": null,
            "grid_template_columns": null,
            "grid_template_rows": null,
            "height": null,
            "justify_content": null,
            "justify_items": null,
            "left": null,
            "margin": null,
            "max_height": null,
            "max_width": null,
            "min_height": null,
            "min_width": null,
            "object_fit": null,
            "object_position": null,
            "order": null,
            "overflow": null,
            "overflow_x": null,
            "overflow_y": null,
            "padding": null,
            "right": null,
            "top": null,
            "visibility": null,
            "width": null
          }
        },
        "5b76f4282b1c4374b0c22a51ea973697": {
          "model_module": "@jupyter-widgets/controls",
          "model_name": "ProgressStyleModel",
          "model_module_version": "1.5.0",
          "state": {
            "_model_module": "@jupyter-widgets/controls",
            "_model_module_version": "1.5.0",
            "_model_name": "ProgressStyleModel",
            "_view_count": null,
            "_view_module": "@jupyter-widgets/base",
            "_view_module_version": "1.2.0",
            "_view_name": "StyleView",
            "bar_color": null,
            "description_width": ""
          }
        },
        "7c6fd7d5ff0b4d33b5a87100546055f0": {
          "model_module": "@jupyter-widgets/base",
          "model_name": "LayoutModel",
          "model_module_version": "1.2.0",
          "state": {
            "_model_module": "@jupyter-widgets/base",
            "_model_module_version": "1.2.0",
            "_model_name": "LayoutModel",
            "_view_count": null,
            "_view_module": "@jupyter-widgets/base",
            "_view_module_version": "1.2.0",
            "_view_name": "LayoutView",
            "align_content": null,
            "align_items": null,
            "align_self": null,
            "border": null,
            "bottom": null,
            "display": null,
            "flex": null,
            "flex_flow": null,
            "grid_area": null,
            "grid_auto_columns": null,
            "grid_auto_flow": null,
            "grid_auto_rows": null,
            "grid_column": null,
            "grid_gap": null,
            "grid_row": null,
            "grid_template_areas": null,
            "grid_template_columns": null,
            "grid_template_rows": null,
            "height": null,
            "justify_content": null,
            "justify_items": null,
            "left": null,
            "margin": null,
            "max_height": null,
            "max_width": null,
            "min_height": null,
            "min_width": null,
            "object_fit": null,
            "object_position": null,
            "order": null,
            "overflow": null,
            "overflow_x": null,
            "overflow_y": null,
            "padding": null,
            "right": null,
            "top": null,
            "visibility": null,
            "width": null
          }
        },
        "def2c99d52d94ecdb26ce0d1ed42ff6d": {
          "model_module": "@jupyter-widgets/controls",
          "model_name": "DescriptionStyleModel",
          "model_module_version": "1.5.0",
          "state": {
            "_model_module": "@jupyter-widgets/controls",
            "_model_module_version": "1.5.0",
            "_model_name": "DescriptionStyleModel",
            "_view_count": null,
            "_view_module": "@jupyter-widgets/base",
            "_view_module_version": "1.2.0",
            "_view_name": "StyleView",
            "description_width": ""
          }
        }
      }
    }
  },
  "cells": [
    {
      "cell_type": "markdown",
      "metadata": {
        "id": "view-in-github",
        "colab_type": "text"
      },
      "source": [
        "<a href=\"https://colab.research.google.com/github/justincharney/Python_Machine_Learning/blob/main/BERT_IMDB.ipynb\" target=\"_parent\"><img src=\"https://colab.research.google.com/assets/colab-badge.svg\" alt=\"Open In Colab\"/></a>"
      ]
    },
    {
      "cell_type": "markdown",
      "source": [
        "#Loading the Data"
      ],
      "metadata": {
        "id": "ClG2aK-4zMn1"
      }
    },
    {
      "cell_type": "markdown",
      "source": [
        "## Setup (importing data and packages)"
      ],
      "metadata": {
        "id": "BLj2vFjd5nGT"
      }
    },
    {
      "cell_type": "code",
      "source": [
        "!pip install -Uq transformers"
      ],
      "metadata": {
        "id": "Oshe62tLpdWw"
      },
      "execution_count": null,
      "outputs": []
    },
    {
      "cell_type": "code",
      "source": [
        "from transformers import AutoTokenizer, AutoModelForSequenceClassification"
      ],
      "metadata": {
        "id": "Y6Nlko6SpbjU"
      },
      "execution_count": null,
      "outputs": []
    },
    {
      "cell_type": "code",
      "source": [
        "from fastai.learner import Learner\n",
        "from fastai.text.all import *\n",
        "import torch"
      ],
      "metadata": {
        "id": "ZhzfsLKuA_HQ"
      },
      "execution_count": null,
      "outputs": []
    },
    {
      "cell_type": "code",
      "source": [
        "device = torch.device('cuda:0')"
      ],
      "metadata": {
        "id": "OBcvIs4hpk7Y"
      },
      "execution_count": null,
      "outputs": []
    },
    {
      "cell_type": "code",
      "source": [
        "path = untar_data(URLs.IMDB) #IMDB_SAMPLE\n",
        "path.ls()"
      ],
      "metadata": {
        "id": "Pp1CvyebBQN3",
        "outputId": "16ad19f2-6f8e-4331-8fe9-fc0a25cfe830",
        "colab": {
          "base_uri": "https://localhost:8080/"
        }
      },
      "execution_count": null,
      "outputs": [
        {
          "output_type": "execute_result",
          "data": {
            "text/plain": [
              "(#7) [Path('/root/.fastai/data/imdb/README'),Path('/root/.fastai/data/imdb/tmp_lm'),Path('/root/.fastai/data/imdb/tmp_clas'),Path('/root/.fastai/data/imdb/test'),Path('/root/.fastai/data/imdb/train'),Path('/root/.fastai/data/imdb/unsup'),Path('/root/.fastai/data/imdb/imdb.vocab')]"
            ]
          },
          "metadata": {},
          "execution_count": 5
        }
      ]
    },
    {
      "cell_type": "code",
      "source": [
        "(path/'train/pos').ls()"
      ],
      "metadata": {
        "colab": {
          "base_uri": "https://localhost:8080/"
        },
        "id": "QOjuPSD2B-QJ",
        "outputId": "41bc1f13-0869-4fe8-b75f-3badc898f9c6"
      },
      "execution_count": null,
      "outputs": [
        {
          "output_type": "execute_result",
          "data": {
            "text/plain": [
              "(#12500) [Path('/root/.fastai/data/imdb/train/pos/8034_10.txt'),Path('/root/.fastai/data/imdb/train/pos/11109_9.txt'),Path('/root/.fastai/data/imdb/train/pos/3071_9.txt'),Path('/root/.fastai/data/imdb/train/pos/10563_7.txt'),Path('/root/.fastai/data/imdb/train/pos/10547_9.txt'),Path('/root/.fastai/data/imdb/train/pos/4978_7.txt'),Path('/root/.fastai/data/imdb/train/pos/2180_8.txt'),Path('/root/.fastai/data/imdb/train/pos/8833_9.txt'),Path('/root/.fastai/data/imdb/train/pos/8459_10.txt'),Path('/root/.fastai/data/imdb/train/pos/11700_10.txt')...]"
            ]
          },
          "metadata": {},
          "execution_count": 6
        }
      ]
    },
    {
      "cell_type": "code",
      "source": [
        "(path/'train/neg').ls()"
      ],
      "metadata": {
        "colab": {
          "base_uri": "https://localhost:8080/"
        },
        "id": "8XVBmyvmCMDA",
        "outputId": "eceec25d-d45a-42fd-db07-79bc172cfc9c"
      },
      "execution_count": null,
      "outputs": [
        {
          "output_type": "execute_result",
          "data": {
            "text/plain": [
              "(#12500) [Path('/root/.fastai/data/imdb/train/neg/5826_1.txt'),Path('/root/.fastai/data/imdb/train/neg/10541_4.txt'),Path('/root/.fastai/data/imdb/train/neg/2330_4.txt'),Path('/root/.fastai/data/imdb/train/neg/2128_3.txt'),Path('/root/.fastai/data/imdb/train/neg/6977_4.txt'),Path('/root/.fastai/data/imdb/train/neg/2278_4.txt'),Path('/root/.fastai/data/imdb/train/neg/12306_2.txt'),Path('/root/.fastai/data/imdb/train/neg/315_1.txt'),Path('/root/.fastai/data/imdb/train/neg/1589_1.txt'),Path('/root/.fastai/data/imdb/train/neg/1370_2.txt')...]"
            ]
          },
          "metadata": {},
          "execution_count": 7
        }
      ]
    },
    {
      "cell_type": "markdown",
      "source": [
        "## Train DF"
      ],
      "metadata": {
        "id": "Ev4OTIqKXEeF"
      }
    },
    {
      "cell_type": "code",
      "source": [
        "import os, glob, csv\n",
        "from tqdm import tqdm"
      ],
      "metadata": {
        "id": "KO5l_ShlBkFr"
      },
      "execution_count": null,
      "outputs": []
    },
    {
      "cell_type": "code",
      "source": [
        "# Define relative path to folder containing the text files\n",
        "\n",
        "files_folder = path/'train/pos'\n",
        "\n",
        "file_list = glob.glob(os.path.join(os.getcwd(), files_folder, \"*.txt\"))\n",
        "\n",
        "corpus = []\n",
        "\n",
        "for file_path in file_list:\n",
        "    with open(file_path) as f_input:\n",
        "        corpus.append(f_input.read())"
      ],
      "metadata": {
        "id": "NCS2Bbc4BnXz"
      },
      "execution_count": null,
      "outputs": []
    },
    {
      "cell_type": "code",
      "source": [
        "df = pd.DataFrame(corpus, columns=[\"Text\"])"
      ],
      "metadata": {
        "id": "y9YCYAaKKFQz"
      },
      "execution_count": null,
      "outputs": []
    },
    {
      "cell_type": "code",
      "source": [
        "df['Label'] = 1\n",
        "df"
      ],
      "metadata": {
        "colab": {
          "base_uri": "https://localhost:8080/"
        },
        "id": "e5QETZFsN3m9",
        "outputId": "44e6a4cc-9d21-49de-f370-d4dd7879fcb6"
      },
      "execution_count": null,
      "outputs": [
        {
          "output_type": "execute_result",
          "data": {
            "text/plain": [
              "                                                                                                                                                                                                                                                                                                                                                                                                                                                                                                                                                                                                                          Text  \\\n",
              "0                                                                                                                                                                                                  There are few movies that appear to provide enterntainment as well as realism. If you've ever wondered about the role of snipers in modern war, take a look at this one. <br /><br />I just loved the scene where hundred soldiers get shooting at the jungle, no-one quite sure where that shot came?<br /><br />And, they nicked one scene to Saving Private Ryan, so it has to have some merit in the scene.<br /><br />   \n",
              "1      The Sopranos stands out as an airtight, dynamic exploration of American life, and how the American experience is shaped and defined by money. By setting the story in the milieu of the underworld, David Chase eliminates all barriers to a grunt, low to the ground and outright mean deconstruction of the post-modern era. <br /><br />Every character represents a facet of American industry. Tony Soprano exemplifies the beleaguered working stiff, torn between familial duty and a need to keep his \"business\" on an even keel. The convergence of these two things is the imperative that keeps the story...   \n",
              "2                                                                                                                                                                                                                                           Panic delivers the goods ten fold with Oscar caliber performances from William H Macy, Neve Campbell, and Donald Sutherland. In a movie about the choices we make and the consequences we live with. Chillingly Honest and thought provoking, Panic is easily one of the best film to come out of Hollywood in years. The impact stays with you right after you leave the theater.   \n",
              "3      Wow... what... a whirlwind. The 30's is a decade with plenty of movies of every type I can imagine, especially during the early talkies phase. There were movies which are painfully static and dull, like \"Dracula\" with Bella Lugosi, and there were those that just don't give it a rest, sometimes in a good way and other times not. This is one of the films that don't stop for a minute, and that is both a wonder and a pity. Lloyd Bacon, who also directed \"42nd Street\", must have been the king of the Depression Era musicals and he was probably excited with the possibilities sound brought to the ...   \n",
              "4      I watched the trailer on the DVD after seeing the film, and I think anyone who saw it before watching the film would be very surprised and possibly disappointed. It made much of the fact that the film was \"by the director of Cube\" and made it look like a horror film, when in fact it is an Absurdist comedy (IMDB's spell checker doesn't seem to think that Absurdist is a word, but it is), reminiscent of Rosencrantz and Guildernstern are Dead.<br /><br />I love the way the story builds up slowly at first, then gradually escalates. I also enjoy the fact that no explanation is given for what hap...   \n",
              "...                                                                                                                                                                                                                                                                                                                                                                                                                                                                                                                                                                                                                        ...   \n",
              "12495  Sure, it was cheesy and nonsensical and at times corny, but at least the filmmakers didn't try. While most TV movies border on the brink of mediocrity, this film actually has some redeeming qualities to it. The cinematography was pretty good for a TV film, and Viggo Mortensen displays shades of Aragorn in a film about a man who played by his own rules. Most of the flashback sequences were kind of cheesy, but the scene with the mountain lion was intense. I was kind of annoyed by Jason Priestly's role in the film as a rebellious shock-jock, but then again, it's a TV MOVIE! Despite all of the...   \n",
              "12496  I loved this movie. The scenery was breathtaking, the plot had some nice twists and turns, and the characters were well rounded. On two fronts, however, \"Rob Roy\" scored far above average. First, I have rarely seen a \"popular\" film in which the quality of dialogue was so high. There were many verbal slashes and thrusts to accompany the brilliantly choreographed swordplay. I could give numerous examples, but why should I? Just watch the film. Second, this movie understood a principle rarely acknowledged any more. For a drama to succeed, it needs not only a hero, but a really believable vill...   \n",
              "12497  Anne Brontes epic novel THE TENANT OF WILDFELL HALL should be studied and read throughout schools and libraries and peoples living rooms. Its a fantastic story and tells the \"real\" truth on alcoholism and ruined marriages and a mothers fight to keep her son away from her brutal husband. Its so alike todays stories that we see and hear and I believe people can learn a lot from reading this book. Based on possible true experiences that the author had back in the 1840s.<br /><br />Do watch this film, its a great version of the book and very moving indeed. I'm sure Anne herself would have been...   \n",
              "12498  Never viewed this film and consider it a great Classic with great veteran actors. In the period that this film was made, people in America were different, there was no TV or all the modern things we have today, except the Radio and the starting out of great films being made in Hollywood. Sweet innocent tales of young romance between a young girl or guy was viewed differently than it is today. Ann Shirley,\"Murder My Sweet\",'44 played a young orphan gal who was called Carrot Top because of her red hair and found herself being taken into a home of two elderly folks, who were like two wise owl...   \n",
              "12499  If I could go back, even as an adult and relive the days of my Summer's spent at camp...I would be there so fast. The Camps I went to weren't even this great. They were in Texas where the mosquitoes actually carry people off but we had horses and fishing. The movie cinematography was astounding, the characters funny and believable especially Perkins, Pollack and Arkin. Sam Raimi's character and sub-antics were priceless. So who ever thought this movie was lame...I have deep pity for because they can't suspend their disbelief long enough to imagine camp life again as an adult or they never ...   \n",
              "\n",
              "       Label  \n",
              "0          1  \n",
              "1          1  \n",
              "2          1  \n",
              "3          1  \n",
              "4          1  \n",
              "...      ...  \n",
              "12495      1  \n",
              "12496      1  \n",
              "12497      1  \n",
              "12498      1  \n",
              "12499      1  \n",
              "\n",
              "[12500 rows x 2 columns]"
            ],
            "text/html": [
              "\n",
              "  <div id=\"df-ece51526-8339-43c4-8781-c9ea8acf331f\">\n",
              "    <div class=\"colab-df-container\">\n",
              "      <div>\n",
              "<style scoped>\n",
              "    .dataframe tbody tr th:only-of-type {\n",
              "        vertical-align: middle;\n",
              "    }\n",
              "\n",
              "    .dataframe tbody tr th {\n",
              "        vertical-align: top;\n",
              "    }\n",
              "\n",
              "    .dataframe thead th {\n",
              "        text-align: right;\n",
              "    }\n",
              "</style>\n",
              "<table border=\"1\" class=\"dataframe\">\n",
              "  <thead>\n",
              "    <tr style=\"text-align: right;\">\n",
              "      <th></th>\n",
              "      <th>Text</th>\n",
              "      <th>Label</th>\n",
              "    </tr>\n",
              "  </thead>\n",
              "  <tbody>\n",
              "    <tr>\n",
              "      <th>0</th>\n",
              "      <td>There are few movies that appear to provide enterntainment as well as realism. If you've ever wondered about the role of snipers in modern war, take a look at this one. &lt;br /&gt;&lt;br /&gt;I just loved the scene where hundred soldiers get shooting at the jungle, no-one quite sure where that shot came?&lt;br /&gt;&lt;br /&gt;And, they nicked one scene to Saving Private Ryan, so it has to have some merit in the scene.&lt;br /&gt;&lt;br /&gt;</td>\n",
              "      <td>1</td>\n",
              "    </tr>\n",
              "    <tr>\n",
              "      <th>1</th>\n",
              "      <td>The Sopranos stands out as an airtight, dynamic exploration of American life, and how the American experience is shaped and defined by money. By setting the story in the milieu of the underworld, David Chase eliminates all barriers to a grunt, low to the ground and outright mean deconstruction of the post-modern era. &lt;br /&gt;&lt;br /&gt;Every character represents a facet of American industry. Tony Soprano exemplifies the beleaguered working stiff, torn between familial duty and a need to keep his \"business\" on an even keel. The convergence of these two things is the imperative that keeps the story...</td>\n",
              "      <td>1</td>\n",
              "    </tr>\n",
              "    <tr>\n",
              "      <th>2</th>\n",
              "      <td>Panic delivers the goods ten fold with Oscar caliber performances from William H Macy, Neve Campbell, and Donald Sutherland. In a movie about the choices we make and the consequences we live with. Chillingly Honest and thought provoking, Panic is easily one of the best film to come out of Hollywood in years. The impact stays with you right after you leave the theater.</td>\n",
              "      <td>1</td>\n",
              "    </tr>\n",
              "    <tr>\n",
              "      <th>3</th>\n",
              "      <td>Wow... what... a whirlwind. The 30's is a decade with plenty of movies of every type I can imagine, especially during the early talkies phase. There were movies which are painfully static and dull, like \"Dracula\" with Bella Lugosi, and there were those that just don't give it a rest, sometimes in a good way and other times not. This is one of the films that don't stop for a minute, and that is both a wonder and a pity. Lloyd Bacon, who also directed \"42nd Street\", must have been the king of the Depression Era musicals and he was probably excited with the possibilities sound brought to the ...</td>\n",
              "      <td>1</td>\n",
              "    </tr>\n",
              "    <tr>\n",
              "      <th>4</th>\n",
              "      <td>I watched the trailer on the DVD after seeing the film, and I think anyone who saw it before watching the film would be very surprised and possibly disappointed. It made much of the fact that the film was \"by the director of Cube\" and made it look like a horror film, when in fact it is an Absurdist comedy (IMDB's spell checker doesn't seem to think that Absurdist is a word, but it is), reminiscent of Rosencrantz and Guildernstern are Dead.&lt;br /&gt;&lt;br /&gt;I love the way the story builds up slowly at first, then gradually escalates. I also enjoy the fact that no explanation is given for what hap...</td>\n",
              "      <td>1</td>\n",
              "    </tr>\n",
              "    <tr>\n",
              "      <th>...</th>\n",
              "      <td>...</td>\n",
              "      <td>...</td>\n",
              "    </tr>\n",
              "    <tr>\n",
              "      <th>12495</th>\n",
              "      <td>Sure, it was cheesy and nonsensical and at times corny, but at least the filmmakers didn't try. While most TV movies border on the brink of mediocrity, this film actually has some redeeming qualities to it. The cinematography was pretty good for a TV film, and Viggo Mortensen displays shades of Aragorn in a film about a man who played by his own rules. Most of the flashback sequences were kind of cheesy, but the scene with the mountain lion was intense. I was kind of annoyed by Jason Priestly's role in the film as a rebellious shock-jock, but then again, it's a TV MOVIE! Despite all of the...</td>\n",
              "      <td>1</td>\n",
              "    </tr>\n",
              "    <tr>\n",
              "      <th>12496</th>\n",
              "      <td>I loved this movie. The scenery was breathtaking, the plot had some nice twists and turns, and the characters were well rounded. On two fronts, however, \"Rob Roy\" scored far above average. First, I have rarely seen a \"popular\" film in which the quality of dialogue was so high. There were many verbal slashes and thrusts to accompany the brilliantly choreographed swordplay. I could give numerous examples, but why should I? Just watch the film. Second, this movie understood a principle rarely acknowledged any more. For a drama to succeed, it needs not only a hero, but a really believable vill...</td>\n",
              "      <td>1</td>\n",
              "    </tr>\n",
              "    <tr>\n",
              "      <th>12497</th>\n",
              "      <td>Anne Brontes epic novel THE TENANT OF WILDFELL HALL should be studied and read throughout schools and libraries and peoples living rooms. Its a fantastic story and tells the \"real\" truth on alcoholism and ruined marriages and a mothers fight to keep her son away from her brutal husband. Its so alike todays stories that we see and hear and I believe people can learn a lot from reading this book. Based on possible true experiences that the author had back in the 1840s.&lt;br /&gt;&lt;br /&gt;Do watch this film, its a great version of the book and very moving indeed. I'm sure Anne herself would have been...</td>\n",
              "      <td>1</td>\n",
              "    </tr>\n",
              "    <tr>\n",
              "      <th>12498</th>\n",
              "      <td>Never viewed this film and consider it a great Classic with great veteran actors. In the period that this film was made, people in America were different, there was no TV or all the modern things we have today, except the Radio and the starting out of great films being made in Hollywood. Sweet innocent tales of young romance between a young girl or guy was viewed differently than it is today. Ann Shirley,\"Murder My Sweet\",'44 played a young orphan gal who was called Carrot Top because of her red hair and found herself being taken into a home of two elderly folks, who were like two wise owl...</td>\n",
              "      <td>1</td>\n",
              "    </tr>\n",
              "    <tr>\n",
              "      <th>12499</th>\n",
              "      <td>If I could go back, even as an adult and relive the days of my Summer's spent at camp...I would be there so fast. The Camps I went to weren't even this great. They were in Texas where the mosquitoes actually carry people off but we had horses and fishing. The movie cinematography was astounding, the characters funny and believable especially Perkins, Pollack and Arkin. Sam Raimi's character and sub-antics were priceless. So who ever thought this movie was lame...I have deep pity for because they can't suspend their disbelief long enough to imagine camp life again as an adult or they never ...</td>\n",
              "      <td>1</td>\n",
              "    </tr>\n",
              "  </tbody>\n",
              "</table>\n",
              "<p>12500 rows × 2 columns</p>\n",
              "</div>\n",
              "      <button class=\"colab-df-convert\" onclick=\"convertToInteractive('df-ece51526-8339-43c4-8781-c9ea8acf331f')\"\n",
              "              title=\"Convert this dataframe to an interactive table.\"\n",
              "              style=\"display:none;\">\n",
              "        \n",
              "  <svg xmlns=\"http://www.w3.org/2000/svg\" height=\"24px\"viewBox=\"0 0 24 24\"\n",
              "       width=\"24px\">\n",
              "    <path d=\"M0 0h24v24H0V0z\" fill=\"none\"/>\n",
              "    <path d=\"M18.56 5.44l.94 2.06.94-2.06 2.06-.94-2.06-.94-.94-2.06-.94 2.06-2.06.94zm-11 1L8.5 8.5l.94-2.06 2.06-.94-2.06-.94L8.5 2.5l-.94 2.06-2.06.94zm10 10l.94 2.06.94-2.06 2.06-.94-2.06-.94-.94-2.06-.94 2.06-2.06.94z\"/><path d=\"M17.41 7.96l-1.37-1.37c-.4-.4-.92-.59-1.43-.59-.52 0-1.04.2-1.43.59L10.3 9.45l-7.72 7.72c-.78.78-.78 2.05 0 2.83L4 21.41c.39.39.9.59 1.41.59.51 0 1.02-.2 1.41-.59l7.78-7.78 2.81-2.81c.8-.78.8-2.07 0-2.86zM5.41 20L4 18.59l7.72-7.72 1.47 1.35L5.41 20z\"/>\n",
              "  </svg>\n",
              "      </button>\n",
              "      \n",
              "  <style>\n",
              "    .colab-df-container {\n",
              "      display:flex;\n",
              "      flex-wrap:wrap;\n",
              "      gap: 12px;\n",
              "    }\n",
              "\n",
              "    .colab-df-convert {\n",
              "      background-color: #E8F0FE;\n",
              "      border: none;\n",
              "      border-radius: 50%;\n",
              "      cursor: pointer;\n",
              "      display: none;\n",
              "      fill: #1967D2;\n",
              "      height: 32px;\n",
              "      padding: 0 0 0 0;\n",
              "      width: 32px;\n",
              "    }\n",
              "\n",
              "    .colab-df-convert:hover {\n",
              "      background-color: #E2EBFA;\n",
              "      box-shadow: 0px 1px 2px rgba(60, 64, 67, 0.3), 0px 1px 3px 1px rgba(60, 64, 67, 0.15);\n",
              "      fill: #174EA6;\n",
              "    }\n",
              "\n",
              "    [theme=dark] .colab-df-convert {\n",
              "      background-color: #3B4455;\n",
              "      fill: #D2E3FC;\n",
              "    }\n",
              "\n",
              "    [theme=dark] .colab-df-convert:hover {\n",
              "      background-color: #434B5C;\n",
              "      box-shadow: 0px 1px 3px 1px rgba(0, 0, 0, 0.15);\n",
              "      filter: drop-shadow(0px 1px 2px rgba(0, 0, 0, 0.3));\n",
              "      fill: #FFFFFF;\n",
              "    }\n",
              "  </style>\n",
              "\n",
              "      <script>\n",
              "        const buttonEl =\n",
              "          document.querySelector('#df-ece51526-8339-43c4-8781-c9ea8acf331f button.colab-df-convert');\n",
              "        buttonEl.style.display =\n",
              "          google.colab.kernel.accessAllowed ? 'block' : 'none';\n",
              "\n",
              "        async function convertToInteractive(key) {\n",
              "          const element = document.querySelector('#df-ece51526-8339-43c4-8781-c9ea8acf331f');\n",
              "          const dataTable =\n",
              "            await google.colab.kernel.invokeFunction('convertToInteractive',\n",
              "                                                     [key], {});\n",
              "          if (!dataTable) return;\n",
              "\n",
              "          const docLinkHtml = 'Like what you see? Visit the ' +\n",
              "            '<a target=\"_blank\" href=https://colab.research.google.com/notebooks/data_table.ipynb>data table notebook</a>'\n",
              "            + ' to learn more about interactive tables.';\n",
              "          element.innerHTML = '';\n",
              "          dataTable['output_type'] = 'display_data';\n",
              "          await google.colab.output.renderOutput(dataTable, element);\n",
              "          const docLink = document.createElement('div');\n",
              "          docLink.innerHTML = docLinkHtml;\n",
              "          element.appendChild(docLink);\n",
              "        }\n",
              "      </script>\n",
              "    </div>\n",
              "  </div>\n",
              "  "
            ]
          },
          "metadata": {},
          "execution_count": 11
        }
      ]
    },
    {
      "cell_type": "code",
      "source": [
        "# Define relative path to folder containing the text files\n",
        "\n",
        "files_folder = path/'train/neg'\n",
        "\n",
        "file_list = glob.glob(os.path.join(os.getcwd(), files_folder, \"*.txt\"))\n",
        "\n",
        "corpus = []\n",
        "\n",
        "for file_path in file_list:\n",
        "    with open(file_path) as f_input:\n",
        "        corpus.append(f_input.read())"
      ],
      "metadata": {
        "id": "O7jjYLkyCdml"
      },
      "execution_count": null,
      "outputs": []
    },
    {
      "cell_type": "code",
      "source": [
        "df2 = pd.DataFrame(corpus, columns=[\"Text\"])"
      ],
      "metadata": {
        "id": "C_ls3kDLP6WZ"
      },
      "execution_count": null,
      "outputs": []
    },
    {
      "cell_type": "code",
      "source": [
        "df2['Label'] = 0\n",
        "\n",
        "train_df = pd.concat([df, df2], axis=0, ignore_index=True)\n",
        "train_df"
      ],
      "metadata": {
        "colab": {
          "base_uri": "https://localhost:8080/"
        },
        "id": "hLn20qa0P8cM",
        "outputId": "316ad6c7-9623-4ba8-d510-ea896229d002"
      },
      "execution_count": null,
      "outputs": [
        {
          "output_type": "execute_result",
          "data": {
            "text/plain": [
              "                                                                                                                                                                                                                                                                                                                                                                                                                                                                                                                                                                                                                          Text  \\\n",
              "0                                                                                                                                                                                                  There are few movies that appear to provide enterntainment as well as realism. If you've ever wondered about the role of snipers in modern war, take a look at this one. <br /><br />I just loved the scene where hundred soldiers get shooting at the jungle, no-one quite sure where that shot came?<br /><br />And, they nicked one scene to Saving Private Ryan, so it has to have some merit in the scene.<br /><br />   \n",
              "1      The Sopranos stands out as an airtight, dynamic exploration of American life, and how the American experience is shaped and defined by money. By setting the story in the milieu of the underworld, David Chase eliminates all barriers to a grunt, low to the ground and outright mean deconstruction of the post-modern era. <br /><br />Every character represents a facet of American industry. Tony Soprano exemplifies the beleaguered working stiff, torn between familial duty and a need to keep his \"business\" on an even keel. The convergence of these two things is the imperative that keeps the story...   \n",
              "2                                                                                                                                                                                                                                           Panic delivers the goods ten fold with Oscar caliber performances from William H Macy, Neve Campbell, and Donald Sutherland. In a movie about the choices we make and the consequences we live with. Chillingly Honest and thought provoking, Panic is easily one of the best film to come out of Hollywood in years. The impact stays with you right after you leave the theater.   \n",
              "3      Wow... what... a whirlwind. The 30's is a decade with plenty of movies of every type I can imagine, especially during the early talkies phase. There were movies which are painfully static and dull, like \"Dracula\" with Bella Lugosi, and there were those that just don't give it a rest, sometimes in a good way and other times not. This is one of the films that don't stop for a minute, and that is both a wonder and a pity. Lloyd Bacon, who also directed \"42nd Street\", must have been the king of the Depression Era musicals and he was probably excited with the possibilities sound brought to the ...   \n",
              "4      I watched the trailer on the DVD after seeing the film, and I think anyone who saw it before watching the film would be very surprised and possibly disappointed. It made much of the fact that the film was \"by the director of Cube\" and made it look like a horror film, when in fact it is an Absurdist comedy (IMDB's spell checker doesn't seem to think that Absurdist is a word, but it is), reminiscent of Rosencrantz and Guildernstern are Dead.<br /><br />I love the way the story builds up slowly at first, then gradually escalates. I also enjoy the fact that no explanation is given for what hap...   \n",
              "...                                                                                                                                                                                                                                                                                                                                                                                                                                                                                                                                                                                                                        ...   \n",
              "24995  Not even Bob Hope, escorted by a raft of fine character actors, can save this poorly written attempt at wartime comedy, as his patented timing has little which which to work. The plot involves a Hollywood film star named Don Bolton (Hope), and his attempt to evade military service at the beginning of World War II, followed by his enlistment by mistake in a confused attempt to court a colonel's daughter (Dorothy Lamour). Bolton's agent, played by Lynne Overman, and his assistant, portrayed by Eddie Bracken, enlist with him and the three are involved in various escapades regarding training e...   \n",
              "24996  Set in South Africa, a young black guy tries to land a part in a 'gangsta' movie. But with no knowledge of street life, he's told to find out what that life is really like or he won't get the part. He manages to work his way into a gang led by an old friend of his from school and his chances of appearing in the film decline as he commits crimes to be accepted. But for the gang's leader, the burgeoning disaster of his new friend's life suggests a golden opportunity to do something better with his own.<br /><br />While that may sound relatively interesting, it's anything but. The first half ...   \n",
              "24997  This film essentially deals with Inspector Gadget's arch-nemesis Doctor Claw who has returned after many years to the now-peaceful city of Metropolis. Claw's plan is to foil Gadget once and for all by using a newer \"cooler\" crimefighter to help destroy Gadget's popularity. Sadly the film fails miserably, the series was great, but it was revived nearly 20 years later with tragic results. Without the voice of Don Adams as Inspector Gadget it just doesn't cut it anymore; Dr. Claw is not only visually less frightening, but sounds more like a wrestler with a cold, than his original intimidating...   \n",
              "24998  Wowwwwww, about an hour ago I finally finished watching this terrible movie!!! I wanted to turn it off within the first like 10 minutes but I figured I'd give it a chance because it just hadddd to get better. Or at least have some redeeming qualities, like I figured at the very least it would be a make you think type movie, or like really intelligent, or very well filmed or something...Needless to say, that was not the case and I wasted about an hour and a half of my life. Im not even going to get into why its terrible because its a waste of my time to explain that this \"may contain spoile...   \n",
              "24999  This movie sucks ass. Something about a heatwave in some European country, complete trash. There's nothing going for this movie whatsoever. maybe 30 seconds of sex but that's it. There is a very annoying chick who hitches rides with people and really pisses me off. This movie is complete rash and you shouldn't subject yourself to watching it. I regret it it's very boring. I would rate it zero but i can't. No body in their right mind should see this. i'm sure you'll regret it completely i did. How could they think up something this bad. Even Mystery men was better. MYSTERY MEN. That sucks. ...   \n",
              "\n",
              "       Label  \n",
              "0          1  \n",
              "1          1  \n",
              "2          1  \n",
              "3          1  \n",
              "4          1  \n",
              "...      ...  \n",
              "24995      0  \n",
              "24996      0  \n",
              "24997      0  \n",
              "24998      0  \n",
              "24999      0  \n",
              "\n",
              "[25000 rows x 2 columns]"
            ],
            "text/html": [
              "\n",
              "  <div id=\"df-19e4cfb1-c561-4847-b2ec-4cb4f751d9fc\">\n",
              "    <div class=\"colab-df-container\">\n",
              "      <div>\n",
              "<style scoped>\n",
              "    .dataframe tbody tr th:only-of-type {\n",
              "        vertical-align: middle;\n",
              "    }\n",
              "\n",
              "    .dataframe tbody tr th {\n",
              "        vertical-align: top;\n",
              "    }\n",
              "\n",
              "    .dataframe thead th {\n",
              "        text-align: right;\n",
              "    }\n",
              "</style>\n",
              "<table border=\"1\" class=\"dataframe\">\n",
              "  <thead>\n",
              "    <tr style=\"text-align: right;\">\n",
              "      <th></th>\n",
              "      <th>Text</th>\n",
              "      <th>Label</th>\n",
              "    </tr>\n",
              "  </thead>\n",
              "  <tbody>\n",
              "    <tr>\n",
              "      <th>0</th>\n",
              "      <td>There are few movies that appear to provide enterntainment as well as realism. If you've ever wondered about the role of snipers in modern war, take a look at this one. &lt;br /&gt;&lt;br /&gt;I just loved the scene where hundred soldiers get shooting at the jungle, no-one quite sure where that shot came?&lt;br /&gt;&lt;br /&gt;And, they nicked one scene to Saving Private Ryan, so it has to have some merit in the scene.&lt;br /&gt;&lt;br /&gt;</td>\n",
              "      <td>1</td>\n",
              "    </tr>\n",
              "    <tr>\n",
              "      <th>1</th>\n",
              "      <td>The Sopranos stands out as an airtight, dynamic exploration of American life, and how the American experience is shaped and defined by money. By setting the story in the milieu of the underworld, David Chase eliminates all barriers to a grunt, low to the ground and outright mean deconstruction of the post-modern era. &lt;br /&gt;&lt;br /&gt;Every character represents a facet of American industry. Tony Soprano exemplifies the beleaguered working stiff, torn between familial duty and a need to keep his \"business\" on an even keel. The convergence of these two things is the imperative that keeps the story...</td>\n",
              "      <td>1</td>\n",
              "    </tr>\n",
              "    <tr>\n",
              "      <th>2</th>\n",
              "      <td>Panic delivers the goods ten fold with Oscar caliber performances from William H Macy, Neve Campbell, and Donald Sutherland. In a movie about the choices we make and the consequences we live with. Chillingly Honest and thought provoking, Panic is easily one of the best film to come out of Hollywood in years. The impact stays with you right after you leave the theater.</td>\n",
              "      <td>1</td>\n",
              "    </tr>\n",
              "    <tr>\n",
              "      <th>3</th>\n",
              "      <td>Wow... what... a whirlwind. The 30's is a decade with plenty of movies of every type I can imagine, especially during the early talkies phase. There were movies which are painfully static and dull, like \"Dracula\" with Bella Lugosi, and there were those that just don't give it a rest, sometimes in a good way and other times not. This is one of the films that don't stop for a minute, and that is both a wonder and a pity. Lloyd Bacon, who also directed \"42nd Street\", must have been the king of the Depression Era musicals and he was probably excited with the possibilities sound brought to the ...</td>\n",
              "      <td>1</td>\n",
              "    </tr>\n",
              "    <tr>\n",
              "      <th>4</th>\n",
              "      <td>I watched the trailer on the DVD after seeing the film, and I think anyone who saw it before watching the film would be very surprised and possibly disappointed. It made much of the fact that the film was \"by the director of Cube\" and made it look like a horror film, when in fact it is an Absurdist comedy (IMDB's spell checker doesn't seem to think that Absurdist is a word, but it is), reminiscent of Rosencrantz and Guildernstern are Dead.&lt;br /&gt;&lt;br /&gt;I love the way the story builds up slowly at first, then gradually escalates. I also enjoy the fact that no explanation is given for what hap...</td>\n",
              "      <td>1</td>\n",
              "    </tr>\n",
              "    <tr>\n",
              "      <th>...</th>\n",
              "      <td>...</td>\n",
              "      <td>...</td>\n",
              "    </tr>\n",
              "    <tr>\n",
              "      <th>24995</th>\n",
              "      <td>Not even Bob Hope, escorted by a raft of fine character actors, can save this poorly written attempt at wartime comedy, as his patented timing has little which which to work. The plot involves a Hollywood film star named Don Bolton (Hope), and his attempt to evade military service at the beginning of World War II, followed by his enlistment by mistake in a confused attempt to court a colonel's daughter (Dorothy Lamour). Bolton's agent, played by Lynne Overman, and his assistant, portrayed by Eddie Bracken, enlist with him and the three are involved in various escapades regarding training e...</td>\n",
              "      <td>0</td>\n",
              "    </tr>\n",
              "    <tr>\n",
              "      <th>24996</th>\n",
              "      <td>Set in South Africa, a young black guy tries to land a part in a 'gangsta' movie. But with no knowledge of street life, he's told to find out what that life is really like or he won't get the part. He manages to work his way into a gang led by an old friend of his from school and his chances of appearing in the film decline as he commits crimes to be accepted. But for the gang's leader, the burgeoning disaster of his new friend's life suggests a golden opportunity to do something better with his own.&lt;br /&gt;&lt;br /&gt;While that may sound relatively interesting, it's anything but. The first half ...</td>\n",
              "      <td>0</td>\n",
              "    </tr>\n",
              "    <tr>\n",
              "      <th>24997</th>\n",
              "      <td>This film essentially deals with Inspector Gadget's arch-nemesis Doctor Claw who has returned after many years to the now-peaceful city of Metropolis. Claw's plan is to foil Gadget once and for all by using a newer \"cooler\" crimefighter to help destroy Gadget's popularity. Sadly the film fails miserably, the series was great, but it was revived nearly 20 years later with tragic results. Without the voice of Don Adams as Inspector Gadget it just doesn't cut it anymore; Dr. Claw is not only visually less frightening, but sounds more like a wrestler with a cold, than his original intimidating...</td>\n",
              "      <td>0</td>\n",
              "    </tr>\n",
              "    <tr>\n",
              "      <th>24998</th>\n",
              "      <td>Wowwwwww, about an hour ago I finally finished watching this terrible movie!!! I wanted to turn it off within the first like 10 minutes but I figured I'd give it a chance because it just hadddd to get better. Or at least have some redeeming qualities, like I figured at the very least it would be a make you think type movie, or like really intelligent, or very well filmed or something...Needless to say, that was not the case and I wasted about an hour and a half of my life. Im not even going to get into why its terrible because its a waste of my time to explain that this \"may contain spoile...</td>\n",
              "      <td>0</td>\n",
              "    </tr>\n",
              "    <tr>\n",
              "      <th>24999</th>\n",
              "      <td>This movie sucks ass. Something about a heatwave in some European country, complete trash. There's nothing going for this movie whatsoever. maybe 30 seconds of sex but that's it. There is a very annoying chick who hitches rides with people and really pisses me off. This movie is complete rash and you shouldn't subject yourself to watching it. I regret it it's very boring. I would rate it zero but i can't. No body in their right mind should see this. i'm sure you'll regret it completely i did. How could they think up something this bad. Even Mystery men was better. MYSTERY MEN. That sucks. ...</td>\n",
              "      <td>0</td>\n",
              "    </tr>\n",
              "  </tbody>\n",
              "</table>\n",
              "<p>25000 rows × 2 columns</p>\n",
              "</div>\n",
              "      <button class=\"colab-df-convert\" onclick=\"convertToInteractive('df-19e4cfb1-c561-4847-b2ec-4cb4f751d9fc')\"\n",
              "              title=\"Convert this dataframe to an interactive table.\"\n",
              "              style=\"display:none;\">\n",
              "        \n",
              "  <svg xmlns=\"http://www.w3.org/2000/svg\" height=\"24px\"viewBox=\"0 0 24 24\"\n",
              "       width=\"24px\">\n",
              "    <path d=\"M0 0h24v24H0V0z\" fill=\"none\"/>\n",
              "    <path d=\"M18.56 5.44l.94 2.06.94-2.06 2.06-.94-2.06-.94-.94-2.06-.94 2.06-2.06.94zm-11 1L8.5 8.5l.94-2.06 2.06-.94-2.06-.94L8.5 2.5l-.94 2.06-2.06.94zm10 10l.94 2.06.94-2.06 2.06-.94-2.06-.94-.94-2.06-.94 2.06-2.06.94z\"/><path d=\"M17.41 7.96l-1.37-1.37c-.4-.4-.92-.59-1.43-.59-.52 0-1.04.2-1.43.59L10.3 9.45l-7.72 7.72c-.78.78-.78 2.05 0 2.83L4 21.41c.39.39.9.59 1.41.59.51 0 1.02-.2 1.41-.59l7.78-7.78 2.81-2.81c.8-.78.8-2.07 0-2.86zM5.41 20L4 18.59l7.72-7.72 1.47 1.35L5.41 20z\"/>\n",
              "  </svg>\n",
              "      </button>\n",
              "      \n",
              "  <style>\n",
              "    .colab-df-container {\n",
              "      display:flex;\n",
              "      flex-wrap:wrap;\n",
              "      gap: 12px;\n",
              "    }\n",
              "\n",
              "    .colab-df-convert {\n",
              "      background-color: #E8F0FE;\n",
              "      border: none;\n",
              "      border-radius: 50%;\n",
              "      cursor: pointer;\n",
              "      display: none;\n",
              "      fill: #1967D2;\n",
              "      height: 32px;\n",
              "      padding: 0 0 0 0;\n",
              "      width: 32px;\n",
              "    }\n",
              "\n",
              "    .colab-df-convert:hover {\n",
              "      background-color: #E2EBFA;\n",
              "      box-shadow: 0px 1px 2px rgba(60, 64, 67, 0.3), 0px 1px 3px 1px rgba(60, 64, 67, 0.15);\n",
              "      fill: #174EA6;\n",
              "    }\n",
              "\n",
              "    [theme=dark] .colab-df-convert {\n",
              "      background-color: #3B4455;\n",
              "      fill: #D2E3FC;\n",
              "    }\n",
              "\n",
              "    [theme=dark] .colab-df-convert:hover {\n",
              "      background-color: #434B5C;\n",
              "      box-shadow: 0px 1px 3px 1px rgba(0, 0, 0, 0.15);\n",
              "      filter: drop-shadow(0px 1px 2px rgba(0, 0, 0, 0.3));\n",
              "      fill: #FFFFFF;\n",
              "    }\n",
              "  </style>\n",
              "\n",
              "      <script>\n",
              "        const buttonEl =\n",
              "          document.querySelector('#df-19e4cfb1-c561-4847-b2ec-4cb4f751d9fc button.colab-df-convert');\n",
              "        buttonEl.style.display =\n",
              "          google.colab.kernel.accessAllowed ? 'block' : 'none';\n",
              "\n",
              "        async function convertToInteractive(key) {\n",
              "          const element = document.querySelector('#df-19e4cfb1-c561-4847-b2ec-4cb4f751d9fc');\n",
              "          const dataTable =\n",
              "            await google.colab.kernel.invokeFunction('convertToInteractive',\n",
              "                                                     [key], {});\n",
              "          if (!dataTable) return;\n",
              "\n",
              "          const docLinkHtml = 'Like what you see? Visit the ' +\n",
              "            '<a target=\"_blank\" href=https://colab.research.google.com/notebooks/data_table.ipynb>data table notebook</a>'\n",
              "            + ' to learn more about interactive tables.';\n",
              "          element.innerHTML = '';\n",
              "          dataTable['output_type'] = 'display_data';\n",
              "          await google.colab.output.renderOutput(dataTable, element);\n",
              "          const docLink = document.createElement('div');\n",
              "          docLink.innerHTML = docLinkHtml;\n",
              "          element.appendChild(docLink);\n",
              "        }\n",
              "      </script>\n",
              "    </div>\n",
              "  </div>\n",
              "  "
            ]
          },
          "metadata": {},
          "execution_count": 14
        }
      ]
    },
    {
      "cell_type": "markdown",
      "source": [
        "## Valid DF"
      ],
      "metadata": {
        "id": "kgLAf5_IXINI"
      }
    },
    {
      "cell_type": "code",
      "source": [
        "files_folder = path/'test/pos'\n",
        "\n",
        "file_list = glob.glob(os.path.join(os.getcwd(), files_folder, \"*.txt\"))\n",
        "\n",
        "corpus = []\n",
        "\n",
        "for file_path in file_list:\n",
        "    with open(file_path) as f_input:\n",
        "        corpus.append(f_input.read())"
      ],
      "metadata": {
        "id": "41ZlStbmXKNA"
      },
      "execution_count": null,
      "outputs": []
    },
    {
      "cell_type": "code",
      "source": [
        "df3 = pd.DataFrame(corpus, columns=[\"Text\"])\n",
        "df3['Label'] = 1"
      ],
      "metadata": {
        "id": "tURdBRCNXuoO"
      },
      "execution_count": null,
      "outputs": []
    },
    {
      "cell_type": "code",
      "source": [
        "files_folder = path/'test/neg'\n",
        "\n",
        "file_list = glob.glob(os.path.join(os.getcwd(), files_folder, \"*.txt\"))\n",
        "\n",
        "corpus = []\n",
        "\n",
        "for file_path in file_list:\n",
        "    with open(file_path) as f_input:\n",
        "        corpus.append(f_input.read())"
      ],
      "metadata": {
        "id": "XQspJCIYX4Fu"
      },
      "execution_count": null,
      "outputs": []
    },
    {
      "cell_type": "code",
      "source": [
        "df4 = pd.DataFrame(corpus, columns=[\"Text\"])\n",
        "df4['Label'] = 0"
      ],
      "metadata": {
        "id": "ZcoOeGeiX6Jc"
      },
      "execution_count": null,
      "outputs": []
    },
    {
      "cell_type": "code",
      "source": [
        "test_df = pd.concat([df3, df4], axis=0, ignore_index=True)\n",
        "test_df"
      ],
      "metadata": {
        "id": "W0g1DKaXX_E0",
        "colab": {
          "base_uri": "https://localhost:8080/"
        },
        "outputId": "7b45071f-7329-42cb-a3a9-f03a78986121"
      },
      "execution_count": null,
      "outputs": [
        {
          "output_type": "execute_result",
          "data": {
            "text/plain": [
              "                                                                                                                                                                                                                                                                                                                                                                                                                                                                                                                                                                                                                          Text  \\\n",
              "0             A remarkable film, bringing to the surface all sorts of feelings I had when I was much, much younger. I loved it, and the Elton John music. I remember seeing in in the movies when I was a kid, and for some reason (limited release?) I've never known anyone else who saw this film when it was released.<br /><br />The dreams it inspired in me from decades ago have never left me, and seeing the film again recently brought it all rushing back, I confess, however, that my kids (in their 20's) have not experienced a similar emotional rush. A generational thing?<br /><br />Why is it not on DVD?   \n",
              "1                                                                                                                                                                                                                                                                                      We really liked this movie. It wasn't trying to be outrageous, controversial, clever or profound. It was just entertaining and was what it said on the box a charming romantic comedy. Every other Brit film maker seems to want to change the world, nice to see one that just concentrates on telling a good yarn with elegant style.   \n",
              "2                                           One of the best movies ever, the idea of a double interpretation involves we all. <br /><br />Would be Prot a schizophrenic or an E.T? (No doubt in my opinion, but let's keep the question open...). Kevin Spacey, the big screen monster, plays Prot as it should be done. Let's not forget Jeff Bridges and his great psychiatric. <br /><br />Lastly, a masterpiece that speakes for itself. Can keep our eyes wide open from the beginning to the credits and our minds thinking even when the movie is over. If you still didn't watch it, go right now! And again, again...   \n",
              "3      FIVE STAR FINAL was one of the best films of the early 1930s. It starred Edward G. Robinson and was a very gritty story about a sleazy newspaper and their willingness to do anything...ANYTHING to sell newspapers. In particular, an old story of an innocent woman is plastered across the pages and helps to destroy her now happy life--many years after she was inadvertently involved in a scandal. The reason I loved the film so much was that it was unflinching and pulled no punches--showing just how low the publishers can be to sell papers.<br /><br />Here in TWO AGAINST THE WORLD, it is a remak...   \n",
              "4      i was part of the cast of Space Odyssey, playing FIDO in mission control. i just want to say that none of us actors, specially those in mission control who had to react to a green screen most of the time, had any idea how amazing it would turn out to be. i knew it was going to be good, if only for the sheer camaraderie and professionalism that the production team at Impossible Pictures provided for everyone involved. but when we all saw it for the first time at the screening at the Curzon Mayfair, well, i for one felt very proud. I was so glad that none of us looked like we were in Star Tr...   \n",
              "...                                                                                                                                                                                                                                                                                                                                                                                                                                                                                                                                                                                                                        ...   \n",
              "24995  Awful film. Terrible acting, cheesy, totally unrealistic, embarrassing to anyone who has played the game. For a start that guy is not a hooker, he would be snapped in two. As for ''I score, that's my job'' well no it's not. For the the uneducated American audience it might come across as a good film. For me, well, that's a few hours of my life I'll never get back. I read through the reviews and came across one where the guy sounded like he knew what he was talking about. Then I read - <br /><br />''And while American rugby may never reach the level of talent that New Zealand or South Afric...   \n",
              "24996  This movie was thoroughly unwholesome, unsettling and unsatisfying. Apart from a few nice shots of Italy, there's nothing to recommend this movie. As usual, Hollywood draws the wrong conclusion from a fractured existence--the _next_ guy you meet, whom you sleep with after knowing for a few hours, _he_ must be Mr. Right. As for humor, there is some in the movie, but I can't see how anyone could possibly label this a romantic _comedy_ since about three-quarters of the movie is totally depressing! My recommendation? Skip it in the theaters, wait till it comes out on DVD, then skip it there al...   \n",
              "24997  Critters 3 starts on the open road as Clifford (John Calvin) his teenage daughter Annie (Aimee Brooks) & his young son Johnny (the IMDb list two actor's Christian & Josephh Cousins, identical twins perhaps?) are heading back home from a vacation. Suddenly the tyre on their van blows & they have to stop at a public rest area to fix it. While there Annie & Johnny meet a kid named Josh (Leonardo DiCaprio, yes that one) who in turn all run into Charlie McFadden (the films co-producer Don Keith Opper) from the previous two Critter films. Charlie tells them the story of the Critters & the town o...   \n",
              "24998                                                                                                                                                                                       Crazy director....Yeah, you need to be crazy to make a near movie. Rob Lowe was bad in his character, Ice-t is always bad and Burt Reynolds had nothing to do in the movie. Crazy six is an unknown movie, with some known actors...this is pretty weird. A bad movie with some good actors in it. It looks like the bad movie did an influence to their performance...It did! Crazy people.....I give it *and a half out of *****   \n",
              "24999  What really amazed me about this film was that it ringed so false. First of all, who in the late 80's (when the film takes place)lived like this family? A college professor wouldn't make enough money to support the lifestyle I saw on the film. Hence, he and his stay home wife would be plagued by financial woes, especially when she gets cancer. Second, Streep is my age, and most women, particularly in her class (educated, white, well off) experienced the feminist movement. Yet this woman seems oblivious to her anachronistic behavior. I actually felt that she was a very controlling woman who...   \n",
              "\n",
              "       Label  \n",
              "0          1  \n",
              "1          1  \n",
              "2          1  \n",
              "3          1  \n",
              "4          1  \n",
              "...      ...  \n",
              "24995      0  \n",
              "24996      0  \n",
              "24997      0  \n",
              "24998      0  \n",
              "24999      0  \n",
              "\n",
              "[25000 rows x 2 columns]"
            ],
            "text/html": [
              "\n",
              "  <div id=\"df-59aae778-dd18-425f-be4f-275869a443e8\">\n",
              "    <div class=\"colab-df-container\">\n",
              "      <div>\n",
              "<style scoped>\n",
              "    .dataframe tbody tr th:only-of-type {\n",
              "        vertical-align: middle;\n",
              "    }\n",
              "\n",
              "    .dataframe tbody tr th {\n",
              "        vertical-align: top;\n",
              "    }\n",
              "\n",
              "    .dataframe thead th {\n",
              "        text-align: right;\n",
              "    }\n",
              "</style>\n",
              "<table border=\"1\" class=\"dataframe\">\n",
              "  <thead>\n",
              "    <tr style=\"text-align: right;\">\n",
              "      <th></th>\n",
              "      <th>Text</th>\n",
              "      <th>Label</th>\n",
              "    </tr>\n",
              "  </thead>\n",
              "  <tbody>\n",
              "    <tr>\n",
              "      <th>0</th>\n",
              "      <td>A remarkable film, bringing to the surface all sorts of feelings I had when I was much, much younger. I loved it, and the Elton John music. I remember seeing in in the movies when I was a kid, and for some reason (limited release?) I've never known anyone else who saw this film when it was released.&lt;br /&gt;&lt;br /&gt;The dreams it inspired in me from decades ago have never left me, and seeing the film again recently brought it all rushing back, I confess, however, that my kids (in their 20's) have not experienced a similar emotional rush. A generational thing?&lt;br /&gt;&lt;br /&gt;Why is it not on DVD?</td>\n",
              "      <td>1</td>\n",
              "    </tr>\n",
              "    <tr>\n",
              "      <th>1</th>\n",
              "      <td>We really liked this movie. It wasn't trying to be outrageous, controversial, clever or profound. It was just entertaining and was what it said on the box a charming romantic comedy. Every other Brit film maker seems to want to change the world, nice to see one that just concentrates on telling a good yarn with elegant style.</td>\n",
              "      <td>1</td>\n",
              "    </tr>\n",
              "    <tr>\n",
              "      <th>2</th>\n",
              "      <td>One of the best movies ever, the idea of a double interpretation involves we all. &lt;br /&gt;&lt;br /&gt;Would be Prot a schizophrenic or an E.T? (No doubt in my opinion, but let's keep the question open...). Kevin Spacey, the big screen monster, plays Prot as it should be done. Let's not forget Jeff Bridges and his great psychiatric. &lt;br /&gt;&lt;br /&gt;Lastly, a masterpiece that speakes for itself. Can keep our eyes wide open from the beginning to the credits and our minds thinking even when the movie is over. If you still didn't watch it, go right now! And again, again...</td>\n",
              "      <td>1</td>\n",
              "    </tr>\n",
              "    <tr>\n",
              "      <th>3</th>\n",
              "      <td>FIVE STAR FINAL was one of the best films of the early 1930s. It starred Edward G. Robinson and was a very gritty story about a sleazy newspaper and their willingness to do anything...ANYTHING to sell newspapers. In particular, an old story of an innocent woman is plastered across the pages and helps to destroy her now happy life--many years after she was inadvertently involved in a scandal. The reason I loved the film so much was that it was unflinching and pulled no punches--showing just how low the publishers can be to sell papers.&lt;br /&gt;&lt;br /&gt;Here in TWO AGAINST THE WORLD, it is a remak...</td>\n",
              "      <td>1</td>\n",
              "    </tr>\n",
              "    <tr>\n",
              "      <th>4</th>\n",
              "      <td>i was part of the cast of Space Odyssey, playing FIDO in mission control. i just want to say that none of us actors, specially those in mission control who had to react to a green screen most of the time, had any idea how amazing it would turn out to be. i knew it was going to be good, if only for the sheer camaraderie and professionalism that the production team at Impossible Pictures provided for everyone involved. but when we all saw it for the first time at the screening at the Curzon Mayfair, well, i for one felt very proud. I was so glad that none of us looked like we were in Star Tr...</td>\n",
              "      <td>1</td>\n",
              "    </tr>\n",
              "    <tr>\n",
              "      <th>...</th>\n",
              "      <td>...</td>\n",
              "      <td>...</td>\n",
              "    </tr>\n",
              "    <tr>\n",
              "      <th>24995</th>\n",
              "      <td>Awful film. Terrible acting, cheesy, totally unrealistic, embarrassing to anyone who has played the game. For a start that guy is not a hooker, he would be snapped in two. As for ''I score, that's my job'' well no it's not. For the the uneducated American audience it might come across as a good film. For me, well, that's a few hours of my life I'll never get back. I read through the reviews and came across one where the guy sounded like he knew what he was talking about. Then I read - &lt;br /&gt;&lt;br /&gt;''And while American rugby may never reach the level of talent that New Zealand or South Afric...</td>\n",
              "      <td>0</td>\n",
              "    </tr>\n",
              "    <tr>\n",
              "      <th>24996</th>\n",
              "      <td>This movie was thoroughly unwholesome, unsettling and unsatisfying. Apart from a few nice shots of Italy, there's nothing to recommend this movie. As usual, Hollywood draws the wrong conclusion from a fractured existence--the _next_ guy you meet, whom you sleep with after knowing for a few hours, _he_ must be Mr. Right. As for humor, there is some in the movie, but I can't see how anyone could possibly label this a romantic _comedy_ since about three-quarters of the movie is totally depressing! My recommendation? Skip it in the theaters, wait till it comes out on DVD, then skip it there al...</td>\n",
              "      <td>0</td>\n",
              "    </tr>\n",
              "    <tr>\n",
              "      <th>24997</th>\n",
              "      <td>Critters 3 starts on the open road as Clifford (John Calvin) his teenage daughter Annie (Aimee Brooks) &amp; his young son Johnny (the IMDb list two actor's Christian &amp; Josephh Cousins, identical twins perhaps?) are heading back home from a vacation. Suddenly the tyre on their van blows &amp; they have to stop at a public rest area to fix it. While there Annie &amp; Johnny meet a kid named Josh (Leonardo DiCaprio, yes that one) who in turn all run into Charlie McFadden (the films co-producer Don Keith Opper) from the previous two Critter films. Charlie tells them the story of the Critters &amp; the town o...</td>\n",
              "      <td>0</td>\n",
              "    </tr>\n",
              "    <tr>\n",
              "      <th>24998</th>\n",
              "      <td>Crazy director....Yeah, you need to be crazy to make a near movie. Rob Lowe was bad in his character, Ice-t is always bad and Burt Reynolds had nothing to do in the movie. Crazy six is an unknown movie, with some known actors...this is pretty weird. A bad movie with some good actors in it. It looks like the bad movie did an influence to their performance...It did! Crazy people.....I give it *and a half out of *****</td>\n",
              "      <td>0</td>\n",
              "    </tr>\n",
              "    <tr>\n",
              "      <th>24999</th>\n",
              "      <td>What really amazed me about this film was that it ringed so false. First of all, who in the late 80's (when the film takes place)lived like this family? A college professor wouldn't make enough money to support the lifestyle I saw on the film. Hence, he and his stay home wife would be plagued by financial woes, especially when she gets cancer. Second, Streep is my age, and most women, particularly in her class (educated, white, well off) experienced the feminist movement. Yet this woman seems oblivious to her anachronistic behavior. I actually felt that she was a very controlling woman who...</td>\n",
              "      <td>0</td>\n",
              "    </tr>\n",
              "  </tbody>\n",
              "</table>\n",
              "<p>25000 rows × 2 columns</p>\n",
              "</div>\n",
              "      <button class=\"colab-df-convert\" onclick=\"convertToInteractive('df-59aae778-dd18-425f-be4f-275869a443e8')\"\n",
              "              title=\"Convert this dataframe to an interactive table.\"\n",
              "              style=\"display:none;\">\n",
              "        \n",
              "  <svg xmlns=\"http://www.w3.org/2000/svg\" height=\"24px\"viewBox=\"0 0 24 24\"\n",
              "       width=\"24px\">\n",
              "    <path d=\"M0 0h24v24H0V0z\" fill=\"none\"/>\n",
              "    <path d=\"M18.56 5.44l.94 2.06.94-2.06 2.06-.94-2.06-.94-.94-2.06-.94 2.06-2.06.94zm-11 1L8.5 8.5l.94-2.06 2.06-.94-2.06-.94L8.5 2.5l-.94 2.06-2.06.94zm10 10l.94 2.06.94-2.06 2.06-.94-2.06-.94-.94-2.06-.94 2.06-2.06.94z\"/><path d=\"M17.41 7.96l-1.37-1.37c-.4-.4-.92-.59-1.43-.59-.52 0-1.04.2-1.43.59L10.3 9.45l-7.72 7.72c-.78.78-.78 2.05 0 2.83L4 21.41c.39.39.9.59 1.41.59.51 0 1.02-.2 1.41-.59l7.78-7.78 2.81-2.81c.8-.78.8-2.07 0-2.86zM5.41 20L4 18.59l7.72-7.72 1.47 1.35L5.41 20z\"/>\n",
              "  </svg>\n",
              "      </button>\n",
              "      \n",
              "  <style>\n",
              "    .colab-df-container {\n",
              "      display:flex;\n",
              "      flex-wrap:wrap;\n",
              "      gap: 12px;\n",
              "    }\n",
              "\n",
              "    .colab-df-convert {\n",
              "      background-color: #E8F0FE;\n",
              "      border: none;\n",
              "      border-radius: 50%;\n",
              "      cursor: pointer;\n",
              "      display: none;\n",
              "      fill: #1967D2;\n",
              "      height: 32px;\n",
              "      padding: 0 0 0 0;\n",
              "      width: 32px;\n",
              "    }\n",
              "\n",
              "    .colab-df-convert:hover {\n",
              "      background-color: #E2EBFA;\n",
              "      box-shadow: 0px 1px 2px rgba(60, 64, 67, 0.3), 0px 1px 3px 1px rgba(60, 64, 67, 0.15);\n",
              "      fill: #174EA6;\n",
              "    }\n",
              "\n",
              "    [theme=dark] .colab-df-convert {\n",
              "      background-color: #3B4455;\n",
              "      fill: #D2E3FC;\n",
              "    }\n",
              "\n",
              "    [theme=dark] .colab-df-convert:hover {\n",
              "      background-color: #434B5C;\n",
              "      box-shadow: 0px 1px 3px 1px rgba(0, 0, 0, 0.15);\n",
              "      filter: drop-shadow(0px 1px 2px rgba(0, 0, 0, 0.3));\n",
              "      fill: #FFFFFF;\n",
              "    }\n",
              "  </style>\n",
              "\n",
              "      <script>\n",
              "        const buttonEl =\n",
              "          document.querySelector('#df-59aae778-dd18-425f-be4f-275869a443e8 button.colab-df-convert');\n",
              "        buttonEl.style.display =\n",
              "          google.colab.kernel.accessAllowed ? 'block' : 'none';\n",
              "\n",
              "        async function convertToInteractive(key) {\n",
              "          const element = document.querySelector('#df-59aae778-dd18-425f-be4f-275869a443e8');\n",
              "          const dataTable =\n",
              "            await google.colab.kernel.invokeFunction('convertToInteractive',\n",
              "                                                     [key], {});\n",
              "          if (!dataTable) return;\n",
              "\n",
              "          const docLinkHtml = 'Like what you see? Visit the ' +\n",
              "            '<a target=\"_blank\" href=https://colab.research.google.com/notebooks/data_table.ipynb>data table notebook</a>'\n",
              "            + ' to learn more about interactive tables.';\n",
              "          element.innerHTML = '';\n",
              "          dataTable['output_type'] = 'display_data';\n",
              "          await google.colab.output.renderOutput(dataTable, element);\n",
              "          const docLink = document.createElement('div');\n",
              "          docLink.innerHTML = docLinkHtml;\n",
              "          element.appendChild(docLink);\n",
              "        }\n",
              "      </script>\n",
              "    </div>\n",
              "  </div>\n",
              "  "
            ]
          },
          "metadata": {},
          "execution_count": 19
        }
      ]
    },
    {
      "cell_type": "markdown",
      "source": [
        "## Setup model and tokenizer"
      ],
      "metadata": {
        "id": "AaFGIEP35MlM"
      }
    },
    {
      "cell_type": "code",
      "source": [
        "hf_tokenizer = AutoTokenizer.from_pretrained(\"distilbert-base-uncased\")"
      ],
      "metadata": {
        "id": "ZhtH7eRTQw6U"
      },
      "execution_count": null,
      "outputs": []
    },
    {
      "cell_type": "code",
      "source": [
        "class HF_Dataset(torch.utils.data.Dataset):\n",
        "    def __init__(self, df, hf_tokenizer):\n",
        "        self.df = df\n",
        "        self.hf_tokenizer = hf_tokenizer\n",
        "        \n",
        "    def __len__(self):\n",
        "        return len(self.df)\n",
        "\n",
        "    def decode(self, token_ids):\n",
        "        return ' '.join([hf_tokenizer.decode(x) for x in tokenizer_outputs['input_ids']])\n",
        "\n",
        "    def __getitem__(self, index):\n",
        "        text, label = self.df.iloc[index]\n",
        "        label = torch.tensor(label)\n",
        "\n",
        "        tokenizer_output = self.hf_tokenizer(text, return_tensors=\"pt\", padding='max_length', truncation=True, max_length=512)\n",
        "        \n",
        "        tokenizer_output['input_ids'].squeeze_()\n",
        "        tokenizer_output['attention_mask'].squeeze_()\n",
        "        \n",
        "        return tokenizer_output.to(device), label.to(device)"
      ],
      "metadata": {
        "id": "3_qc2Z1PRwFh"
      },
      "execution_count": null,
      "outputs": []
    },
    {
      "cell_type": "code",
      "source": [
        "train_dataset = HF_Dataset(train_df, hf_tokenizer)\n",
        "valid_dataset = HF_Dataset(test_df, hf_tokenizer)"
      ],
      "metadata": {
        "id": "pA0M21uHSCni"
      },
      "execution_count": null,
      "outputs": []
    },
    {
      "cell_type": "code",
      "source": [
        "len(train_dataset), len(valid_dataset)"
      ],
      "metadata": {
        "id": "cmuS1wnvSPKW",
        "colab": {
          "base_uri": "https://localhost:8080/"
        },
        "outputId": "993f7b97-848d-45f6-c9a4-d58f7ebf8d69"
      },
      "execution_count": null,
      "outputs": [
        {
          "output_type": "execute_result",
          "data": {
            "text/plain": [
              "(25000, 25000)"
            ]
          },
          "metadata": {},
          "execution_count": 23
        }
      ]
    },
    {
      "cell_type": "code",
      "source": [
        "tokenizer_outputs, label = train_dataset[0]\n",
        "tokenizer_outputs.keys(), label"
      ],
      "metadata": {
        "id": "5m5nbH6uSVTm",
        "colab": {
          "base_uri": "https://localhost:8080/"
        },
        "outputId": "dbadb27d-0fd9-4ea7-bfcb-86fbe9f61c13"
      },
      "execution_count": null,
      "outputs": [
        {
          "output_type": "execute_result",
          "data": {
            "text/plain": [
              "(dict_keys(['input_ids', 'attention_mask']), tensor(1, device='cuda:0'))"
            ]
          },
          "metadata": {},
          "execution_count": 24
        }
      ]
    },
    {
      "cell_type": "code",
      "source": [
        "train_dataset.decode(tokenizer_outputs['input_ids'])[:500]"
      ],
      "metadata": {
        "id": "9p72kssPSxbW",
        "colab": {
          "base_uri": "https://localhost:8080/"
        },
        "outputId": "487749e9-be87-4083-b1cf-2b9059fd48f3"
      },
      "execution_count": null,
      "outputs": [
        {
          "output_type": "execute_result",
          "data": {
            "text/plain": [
              "\"[CLS] there are few movies that appear to provide enter ##nta ##in ##ment as well as realism . if you ' ve ever wondered about the role of sniper ##s in modern war , take a look at this one . < br / > < br / > i just loved the scene where hundred soldiers get shooting at the jungle , no - one quite sure where that shot came ? < br / > < br / > and , they nick ##ed one scene to saving private ryan , so it has to have some merit in the scene . < br / > < br / > [SEP] [PAD] [PAD] [PAD] [PAD] [PAD] \""
            ],
            "application/vnd.google.colaboratory.intrinsic+json": {
              "type": "string"
            }
          },
          "metadata": {},
          "execution_count": 25
        }
      ]
    },
    {
      "cell_type": "code",
      "source": [
        "train_dl = DataLoader(train_dataset, bs=32, shuffle=True)\n",
        "valid_dl = DataLoader(valid_dataset, bs=32)\n",
        "dls = DataLoaders(train_dl, valid_dl)"
      ],
      "metadata": {
        "id": "SSfx38gpTAsu"
      },
      "execution_count": null,
      "outputs": []
    },
    {
      "cell_type": "markdown",
      "source": [
        "## Batched Data"
      ],
      "metadata": {
        "id": "FdIfO5a5eAyr"
      }
    },
    {
      "cell_type": "code",
      "source": [
        "batched_data, batched_labels = train_dl.one_batch()\n",
        "batched_data.keys(), batched_data['input_ids'].shape, batched_labels.shape"
      ],
      "metadata": {
        "id": "9sTOtWZmTN26",
        "colab": {
          "base_uri": "https://localhost:8080/"
        },
        "outputId": "a7ccdb9c-6b34-4225-d33d-08e53c94d810"
      },
      "execution_count": null,
      "outputs": [
        {
          "output_type": "execute_result",
          "data": {
            "text/plain": [
              "(dict_keys(['input_ids', 'attention_mask']),\n",
              " torch.Size([32, 512]),\n",
              " torch.Size([32]))"
            ]
          },
          "metadata": {},
          "execution_count": 27
        }
      ]
    },
    {
      "cell_type": "code",
      "source": [
        "class HF_Model(nn.Module):\n",
        "  \n",
        "    def __init__(self, hf_model):\n",
        "        super().__init__()\n",
        "        \n",
        "        self.hf_model = hf_model\n",
        "        \n",
        "    def forward(self, tokenizer_outputs):\n",
        "        model_output = self.hf_model(**tokenizer_outputs)\n",
        "        \n",
        "        return model_output.logits"
      ],
      "metadata": {
        "id": "U7D_wPcqTxA-"
      },
      "execution_count": null,
      "outputs": []
    },
    {
      "cell_type": "markdown",
      "source": [
        "# Testing saved model performance"
      ],
      "metadata": {
        "id": "-u90f6cYeiX9"
      }
    },
    {
      "cell_type": "code",
      "source": [
        "from google.colab import drive\n",
        "drive.mount('/content/drive')\n",
        "\n",
        "#--------Define your working directory here-------------------------------------\n",
        "working_directory = \"/content/drive/MyDrive/COMP 551/\"\n",
        "#-------------------------------------------------------------------------------"
      ],
      "metadata": {
        "colab": {
          "base_uri": "https://localhost:8080/"
        },
        "id": "XOEWxQ8hO0bI",
        "outputId": "3c8b2b2c-0698-40b3-f514-e0656411c2b9"
      },
      "execution_count": null,
      "outputs": [
        {
          "output_type": "stream",
          "name": "stdout",
          "text": [
            "Drive already mounted at /content/drive; to attempt to forcibly remount, call drive.mount(\"/content/drive\", force_remount=True).\n"
          ]
        }
      ]
    },
    {
      "cell_type": "code",
      "source": [
        "lg_model = AutoModelForSequenceClassification.from_pretrained(\"bert-base-uncased\").to(device)\n",
        "model = HF_Model(lg_model).to(device)"
      ],
      "metadata": {
        "colab": {
          "base_uri": "https://localhost:8080/"
        },
        "id": "uNE5eKDrhQFE",
        "outputId": "0739c31e-62f1-450f-8062-7290724a9d98"
      },
      "execution_count": null,
      "outputs": [
        {
          "output_type": "stream",
          "name": "stderr",
          "text": [
            "Some weights of the model checkpoint at bert-base-uncased were not used when initializing BertForSequenceClassification: ['cls.predictions.decoder.weight', 'cls.predictions.bias', 'cls.predictions.transform.dense.weight', 'cls.predictions.transform.LayerNorm.bias', 'cls.seq_relationship.weight', 'cls.predictions.transform.dense.bias', 'cls.predictions.transform.LayerNorm.weight', 'cls.seq_relationship.bias']\n",
            "- This IS expected if you are initializing BertForSequenceClassification from the checkpoint of a model trained on another task or with another architecture (e.g. initializing a BertForSequenceClassification model from a BertForPreTraining model).\n",
            "- This IS NOT expected if you are initializing BertForSequenceClassification from the checkpoint of a model that you expect to be exactly identical (initializing a BertForSequenceClassification model from a BertForSequenceClassification model).\n",
            "Some weights of BertForSequenceClassification were not initialized from the model checkpoint at bert-base-uncased and are newly initialized: ['classifier.weight', 'classifier.bias']\n",
            "You should probably TRAIN this model on a down-stream task to be able to use it for predictions and inference.\n"
          ]
        }
      ]
    },
    {
      "cell_type": "code",
      "source": [
        "valid_dl = DataLoader(valid_dataset, bs=64, shuffle=False)"
      ],
      "metadata": {
        "id": "9woieKhpnRo6"
      },
      "execution_count": null,
      "outputs": []
    },
    {
      "cell_type": "code",
      "source": [
        "import sklearn.metrics as skm\n",
        "#-------loading learners onto GPU change device=None to load to CPU-------------\n",
        "FullBERT_learner = Learner.load(self=Learner(dls, model, loss_func=CrossEntropyLossFlat()), file=str(working_directory+\"AdamW_FullBERT\"), device=device, with_opt=True, strict=True)"
      ],
      "metadata": {
        "id": "b6V7Z6xAPOul",
        "colab": {
          "base_uri": "https://localhost:8080/"
        },
        "outputId": "fcf500c7-6c4f-476a-c21d-02d174260106"
      },
      "execution_count": null,
      "outputs": [
        {
          "output_type": "stream",
          "name": "stderr",
          "text": [
            "/usr/local/lib/python3.8/dist-packages/fastai/learner.py:57: UserWarning: Could not load the optimizer state.\n",
            "  if with_opt: warn(\"Could not load the optimizer state.\")\n"
          ]
        }
      ]
    },
    {
      "cell_type": "code",
      "source": [
        "predictions2 = FullBERT_learner.get_preds(dl=valid_dl)\n",
        "predictions2"
      ],
      "metadata": {
        "id": "PkPJvve-cn72",
        "colab": {
          "base_uri": "https://localhost:8080/",
          "height": 144
        },
        "outputId": "da7ca192-3a59-4e43-da71-4f903d5ac9fe"
      },
      "execution_count": null,
      "outputs": [
        {
          "output_type": "display_data",
          "data": {
            "text/plain": [
              "<IPython.core.display.HTML object>"
            ],
            "text/html": [
              "\n",
              "<style>\n",
              "    /* Turns off some styling */\n",
              "    progress {\n",
              "        /* gets rid of default border in Firefox and Opera. */\n",
              "        border: none;\n",
              "        /* Needs to be in here for Safari polyfill so background images work as expected. */\n",
              "        background-size: auto;\n",
              "    }\n",
              "    progress:not([value]), progress:not([value])::-webkit-progress-bar {\n",
              "        background: repeating-linear-gradient(45deg, #7e7e7e, #7e7e7e 10px, #5c5c5c 10px, #5c5c5c 20px);\n",
              "    }\n",
              "    .progress-bar-interrupted, .progress-bar-interrupted::-webkit-progress-bar {\n",
              "        background: #F44336;\n",
              "    }\n",
              "</style>\n"
            ]
          },
          "metadata": {}
        },
        {
          "output_type": "display_data",
          "data": {
            "text/plain": [
              "<IPython.core.display.HTML object>"
            ],
            "text/html": []
          },
          "metadata": {}
        },
        {
          "output_type": "execute_result",
          "data": {
            "text/plain": [
              "(tensor([[1.5915e-03, 9.9841e-01],\n",
              "         [1.2762e-03, 9.9872e-01],\n",
              "         [2.0652e-03, 9.9793e-01],\n",
              "         ...,\n",
              "         [9.9969e-01, 3.1409e-04],\n",
              "         [9.9057e-01, 9.4265e-03],\n",
              "         [9.9433e-01, 5.6651e-03]]), tensor([1, 1, 1,  ..., 0, 0, 0]))"
            ]
          },
          "metadata": {},
          "execution_count": 41
        }
      ]
    },
    {
      "cell_type": "code",
      "source": [
        "print(f\"AUROC= {skm.roc_auc_score(test_df['Label'], predictions2[0][:,1])}\")\n",
        "print(f\"Accuracy= {skm.accuracy_score(test_df['Label'], (predictions2[0][:,1]>0.5))}\")"
      ],
      "metadata": {
        "colab": {
          "base_uri": "https://localhost:8080/"
        },
        "id": "a-fwj8aePbfA",
        "outputId": "7df93c55-07f0-4c0e-f545-8677c180af88"
      },
      "execution_count": null,
      "outputs": [
        {
          "output_type": "stream",
          "name": "stdout",
          "text": [
            "AUROC= 0.9738551744\n",
            "Accuracy= 0.94136\n"
          ]
        }
      ]
    },
    {
      "cell_type": "markdown",
      "source": [
        "# Model Training Code"
      ],
      "metadata": {
        "id": "vIv69iBLOPll"
      }
    },
    {
      "cell_type": "markdown",
      "source": [
        "## Small BERT ULMFit (experiments)\n"
      ],
      "metadata": {
        "id": "5EtPV6_0Qiwx"
      }
    },
    {
      "cell_type": "code",
      "source": [
        "hf_model = AutoModelForSequenceClassification.from_pretrained(\"distilbert-base-uncased\").to(device) #only use .to(device) if a gpu is connected\n",
        "model = HF_Model(hf_model).to(device)"
      ],
      "metadata": {
        "id": "aGEUfF3chkl5"
      },
      "execution_count": null,
      "outputs": []
    },
    {
      "cell_type": "markdown",
      "source": [
        "### Fit one cycle"
      ],
      "metadata": {
        "id": "-Ps9bP1aakl_"
      }
    },
    {
      "cell_type": "code",
      "source": [
        "#learn = Learner(dls, model, loss_func=CrossEntropyLossFlat(), metrics=[accuracy])"
      ],
      "metadata": {
        "id": "HMsJGJYGUbtv"
      },
      "execution_count": null,
      "outputs": []
    },
    {
      "cell_type": "code",
      "source": [
        "#learn.fit_one_cycle(4, 2e-5)"
      ],
      "metadata": {
        "id": "qx2KfQiSLh_F"
      },
      "execution_count": null,
      "outputs": []
    },
    {
      "cell_type": "code",
      "source": [
        "# SAVE AND LOAD MODEL\n",
        "#learn.save('BERT')\n",
        "\n",
        "#loaded_learn = Learner.load('BERT')"
      ],
      "metadata": {
        "id": "qvH3db2FboAK"
      },
      "execution_count": null,
      "outputs": []
    },
    {
      "cell_type": "markdown",
      "source": [
        "### Gradual Unfreezing and Discriminative learning rates"
      ],
      "metadata": {
        "id": "oAd6JvK1mm-y"
      }
    },
    {
      "cell_type": "code",
      "source": [
        "def my_splitter(m): return L(m.hf_model.distilbert.embeddings, \n",
        "                             m.hf_model.distilbert.transformer.layer[0],\n",
        "                             m.hf_model.distilbert.transformer.layer[1],\n",
        "                             m.hf_model.distilbert.transformer.layer[2],\n",
        "                             m.hf_model.distilbert.transformer.layer[3],\n",
        "                             m.hf_model.distilbert.transformer.layer[4],\n",
        "                             m.hf_model.distilbert.transformer.layer[5],      \n",
        "                             m.hf_model.pre_classifier).map(params)"
      ],
      "metadata": {
        "id": "GjC0ZyWgpGTd"
      },
      "execution_count": null,
      "outputs": []
    },
    {
      "cell_type": "markdown",
      "source": [
        "Using the ranger optimizer here, but it is worth trying just with Adam too"
      ],
      "metadata": {
        "id": "P6hU2CTur5TS"
      }
    },
    {
      "cell_type": "code",
      "source": [
        "#learn = Learner(dls, model, loss_func=CrossEntropyLossFlat(), splitter=my_splitter, opt_func=ranger, metrics=[accuracy]).to_fp16()"
      ],
      "metadata": {
        "id": "DsnvJxg3pI-R"
      },
      "execution_count": null,
      "outputs": []
    },
    {
      "cell_type": "code",
      "source": [
        "from torch import optim\n",
        "\n",
        "learn = Learner(dls, model, loss_func=CrossEntropyLossFlat(), splitter=my_splitter, opt_func=None, metrics=[accuracy], cbs=[MixedPrecision,FP16TestCallback])\n",
        "learn.opt=OptimWrapper(opt=optim.AdamW(model.parameters(), lr=1e-3))"
      ],
      "metadata": {
        "id": "AUzRf3Bh9SRN"
      },
      "execution_count": null,
      "outputs": []
    },
    {
      "cell_type": "markdown",
      "source": [
        "Based on https://arxiv.org/abs/1801.06146"
      ],
      "metadata": {
        "id": "z2jmwVALq3Ha"
      }
    },
    {
      "cell_type": "code",
      "source": [
        "learn.freeze_to(-1)\n",
        "learn.lr_find()"
      ],
      "metadata": {
        "id": "rQMJiZT-n2A8",
        "colab": {
          "base_uri": "https://localhost:8080/",
          "height": 339
        },
        "outputId": "ab48ab92-cb43-4919-8e3f-f5a85ecbefe9"
      },
      "execution_count": null,
      "outputs": [
        {
          "output_type": "display_data",
          "data": {
            "text/plain": [
              "<IPython.core.display.HTML object>"
            ],
            "text/html": [
              "\n",
              "<style>\n",
              "    /* Turns off some styling */\n",
              "    progress {\n",
              "        /* gets rid of default border in Firefox and Opera. */\n",
              "        border: none;\n",
              "        /* Needs to be in here for Safari polyfill so background images work as expected. */\n",
              "        background-size: auto;\n",
              "    }\n",
              "    progress:not([value]), progress:not([value])::-webkit-progress-bar {\n",
              "        background: repeating-linear-gradient(45deg, #7e7e7e, #7e7e7e 10px, #5c5c5c 10px, #5c5c5c 20px);\n",
              "    }\n",
              "    .progress-bar-interrupted, .progress-bar-interrupted::-webkit-progress-bar {\n",
              "        background: #F44336;\n",
              "    }\n",
              "</style>\n"
            ]
          },
          "metadata": {}
        },
        {
          "output_type": "display_data",
          "data": {
            "text/plain": [
              "<IPython.core.display.HTML object>"
            ],
            "text/html": []
          },
          "metadata": {}
        },
        {
          "output_type": "error",
          "ename": "IndexError",
          "evalue": "ignored",
          "traceback": [
            "\u001b[0;31m---------------------------------------------------------------------------\u001b[0m",
            "\u001b[0;31mIndexError\u001b[0m                                Traceback (most recent call last)",
            "\u001b[0;32m<ipython-input-46-931f6c46ee18>\u001b[0m in \u001b[0;36m<module>\u001b[0;34m\u001b[0m\n\u001b[1;32m      1\u001b[0m \u001b[0mlearn\u001b[0m\u001b[0;34m.\u001b[0m\u001b[0mfreeze_to\u001b[0m\u001b[0;34m(\u001b[0m\u001b[0;34m-\u001b[0m\u001b[0;36m1\u001b[0m\u001b[0;34m)\u001b[0m\u001b[0;34m\u001b[0m\u001b[0;34m\u001b[0m\u001b[0m\n\u001b[0;32m----> 2\u001b[0;31m \u001b[0mlearn\u001b[0m\u001b[0;34m.\u001b[0m\u001b[0mlr_find\u001b[0m\u001b[0;34m(\u001b[0m\u001b[0;34m)\u001b[0m\u001b[0;34m\u001b[0m\u001b[0;34m\u001b[0m\u001b[0m\n\u001b[0m",
            "\u001b[0;32m/usr/local/lib/python3.8/dist-packages/fastai/callback/schedule.py\u001b[0m in \u001b[0;36mlr_find\u001b[0;34m(self, start_lr, end_lr, num_it, stop_div, show_plot, suggest_funcs)\u001b[0m\n\u001b[1;32m    302\u001b[0m         \u001b[0;32mfor\u001b[0m \u001b[0mfunc\u001b[0m \u001b[0;32min\u001b[0m \u001b[0mtuplify\u001b[0m\u001b[0;34m(\u001b[0m\u001b[0msuggest_funcs\u001b[0m\u001b[0;34m)\u001b[0m\u001b[0;34m:\u001b[0m\u001b[0;34m\u001b[0m\u001b[0;34m\u001b[0m\u001b[0m\n\u001b[1;32m    303\u001b[0m             \u001b[0mnms\u001b[0m\u001b[0;34m.\u001b[0m\u001b[0mappend\u001b[0m\u001b[0;34m(\u001b[0m\u001b[0mfunc\u001b[0m\u001b[0;34m.\u001b[0m\u001b[0m__name__\u001b[0m \u001b[0;32mif\u001b[0m \u001b[0;32mnot\u001b[0m \u001b[0misinstance\u001b[0m\u001b[0;34m(\u001b[0m\u001b[0mfunc\u001b[0m\u001b[0;34m,\u001b[0m \u001b[0mpartial\u001b[0m\u001b[0;34m)\u001b[0m \u001b[0;32melse\u001b[0m \u001b[0mfunc\u001b[0m\u001b[0;34m.\u001b[0m\u001b[0mfunc\u001b[0m\u001b[0;34m.\u001b[0m\u001b[0m__name__\u001b[0m\u001b[0;34m)\u001b[0m \u001b[0;31m# deal with partials\u001b[0m\u001b[0;34m\u001b[0m\u001b[0;34m\u001b[0m\u001b[0m\n\u001b[0;32m--> 304\u001b[0;31m             \u001b[0m_suggestions\u001b[0m\u001b[0;34m.\u001b[0m\u001b[0mappend\u001b[0m\u001b[0;34m(\u001b[0m\u001b[0mfunc\u001b[0m\u001b[0;34m(\u001b[0m\u001b[0mlrs\u001b[0m\u001b[0;34m,\u001b[0m \u001b[0mlosses\u001b[0m\u001b[0;34m,\u001b[0m \u001b[0mnum_it\u001b[0m\u001b[0;34m)\u001b[0m\u001b[0;34m)\u001b[0m\u001b[0;34m\u001b[0m\u001b[0;34m\u001b[0m\u001b[0m\n\u001b[0m\u001b[1;32m    305\u001b[0m \u001b[0;34m\u001b[0m\u001b[0m\n\u001b[1;32m    306\u001b[0m         \u001b[0mSuggestedLRs\u001b[0m \u001b[0;34m=\u001b[0m \u001b[0mcollections\u001b[0m\u001b[0;34m.\u001b[0m\u001b[0mnamedtuple\u001b[0m\u001b[0;34m(\u001b[0m\u001b[0;34m'SuggestedLRs'\u001b[0m\u001b[0;34m,\u001b[0m \u001b[0mnms\u001b[0m\u001b[0;34m)\u001b[0m\u001b[0;34m\u001b[0m\u001b[0;34m\u001b[0m\u001b[0m\n",
            "\u001b[0;32m/usr/local/lib/python3.8/dist-packages/fastai/callback/schedule.py\u001b[0m in \u001b[0;36mvalley\u001b[0;34m(lrs, losses, num_it)\u001b[0m\n\u001b[1;32m    229\u001b[0m     \u001b[0midx\u001b[0m \u001b[0;34m=\u001b[0m \u001b[0mmax_start\u001b[0m \u001b[0;34m+\u001b[0m \u001b[0mint\u001b[0m\u001b[0;34m(\u001b[0m\u001b[0msections\u001b[0m\u001b[0;34m)\u001b[0m \u001b[0;34m+\u001b[0m \u001b[0mint\u001b[0m\u001b[0;34m(\u001b[0m\u001b[0msections\u001b[0m\u001b[0;34m/\u001b[0m\u001b[0;36m2\u001b[0m\u001b[0;34m)\u001b[0m\u001b[0;34m\u001b[0m\u001b[0;34m\u001b[0m\u001b[0m\n\u001b[1;32m    230\u001b[0m \u001b[0;34m\u001b[0m\u001b[0m\n\u001b[0;32m--> 231\u001b[0;31m     \u001b[0;32mreturn\u001b[0m \u001b[0mfloat\u001b[0m\u001b[0;34m(\u001b[0m\u001b[0mlrs\u001b[0m\u001b[0;34m[\u001b[0m\u001b[0midx\u001b[0m\u001b[0;34m]\u001b[0m\u001b[0;34m)\u001b[0m\u001b[0;34m,\u001b[0m \u001b[0;34m(\u001b[0m\u001b[0mfloat\u001b[0m\u001b[0;34m(\u001b[0m\u001b[0mlrs\u001b[0m\u001b[0;34m[\u001b[0m\u001b[0midx\u001b[0m\u001b[0;34m]\u001b[0m\u001b[0;34m)\u001b[0m\u001b[0;34m,\u001b[0m \u001b[0mlosses\u001b[0m\u001b[0;34m[\u001b[0m\u001b[0midx\u001b[0m\u001b[0;34m]\u001b[0m\u001b[0;34m)\u001b[0m\u001b[0;34m\u001b[0m\u001b[0;34m\u001b[0m\u001b[0m\n\u001b[0m\u001b[1;32m    232\u001b[0m \u001b[0;34m\u001b[0m\u001b[0m\n\u001b[1;32m    233\u001b[0m \u001b[0;31m# %% ../../nbs/14_callback.schedule.ipynb 81\u001b[0m\u001b[0;34m\u001b[0m\u001b[0;34m\u001b[0m\u001b[0;34m\u001b[0m\u001b[0m\n",
            "\u001b[0;31mIndexError\u001b[0m: index 0 is out of bounds for dimension 0 with size 0"
          ]
        }
      ]
    },
    {
      "cell_type": "code",
      "source": [
        "lr = 3e-5\n",
        "learn.fit_flat_cos(1, lr) #cbs=ParamScheduler({'lr': lr_scheduler})"
      ],
      "metadata": {
        "id": "XzISwOJbp1lc",
        "colab": {
          "base_uri": "https://localhost:8080/",
          "height": 81
        },
        "outputId": "10619c77-6a27-4779-ed09-3463e0dadcdf"
      },
      "execution_count": null,
      "outputs": [
        {
          "output_type": "display_data",
          "data": {
            "text/plain": [
              "<IPython.core.display.HTML object>"
            ],
            "text/html": [
              "\n",
              "<style>\n",
              "    /* Turns off some styling */\n",
              "    progress {\n",
              "        /* gets rid of default border in Firefox and Opera. */\n",
              "        border: none;\n",
              "        /* Needs to be in here for Safari polyfill so background images work as expected. */\n",
              "        background-size: auto;\n",
              "    }\n",
              "    progress:not([value]), progress:not([value])::-webkit-progress-bar {\n",
              "        background: repeating-linear-gradient(45deg, #7e7e7e, #7e7e7e 10px, #5c5c5c 10px, #5c5c5c 20px);\n",
              "    }\n",
              "    .progress-bar-interrupted, .progress-bar-interrupted::-webkit-progress-bar {\n",
              "        background: #F44336;\n",
              "    }\n",
              "</style>\n"
            ]
          },
          "metadata": {}
        },
        {
          "output_type": "display_data",
          "data": {
            "text/plain": [
              "<IPython.core.display.HTML object>"
            ],
            "text/html": [
              "<table border=\"1\" class=\"dataframe\">\n",
              "  <thead>\n",
              "    <tr style=\"text-align: left;\">\n",
              "      <th>epoch</th>\n",
              "      <th>train_loss</th>\n",
              "      <th>valid_loss</th>\n",
              "      <th>accuracy</th>\n",
              "      <th>time</th>\n",
              "    </tr>\n",
              "  </thead>\n",
              "  <tbody>\n",
              "    <tr>\n",
              "      <td>0</td>\n",
              "      <td>0.182550</td>\n",
              "      <td>0.181624</td>\n",
              "      <td>0.930040</td>\n",
              "      <td>03:10</td>\n",
              "    </tr>\n",
              "  </tbody>\n",
              "</table>"
            ]
          },
          "metadata": {}
        }
      ]
    },
    {
      "cell_type": "code",
      "source": [
        "#lr /= 2\n",
        "lr = 1e-7\n",
        "learn.freeze_to(-2)\n",
        "learn.fit_flat_cos(1, slice(lr/(2.6**4),lr))"
      ],
      "metadata": {
        "id": "0Wky5LdPqxfi",
        "colab": {
          "base_uri": "https://localhost:8080/",
          "height": 81
        },
        "outputId": "881ff458-7d49-4e95-8094-d0e5966796b8"
      },
      "execution_count": null,
      "outputs": [
        {
          "output_type": "display_data",
          "data": {
            "text/plain": [
              "<IPython.core.display.HTML object>"
            ],
            "text/html": [
              "\n",
              "<style>\n",
              "    /* Turns off some styling */\n",
              "    progress {\n",
              "        /* gets rid of default border in Firefox and Opera. */\n",
              "        border: none;\n",
              "        /* Needs to be in here for Safari polyfill so background images work as expected. */\n",
              "        background-size: auto;\n",
              "    }\n",
              "    progress:not([value]), progress:not([value])::-webkit-progress-bar {\n",
              "        background: repeating-linear-gradient(45deg, #7e7e7e, #7e7e7e 10px, #5c5c5c 10px, #5c5c5c 20px);\n",
              "    }\n",
              "    .progress-bar-interrupted, .progress-bar-interrupted::-webkit-progress-bar {\n",
              "        background: #F44336;\n",
              "    }\n",
              "</style>\n"
            ]
          },
          "metadata": {}
        },
        {
          "output_type": "display_data",
          "data": {
            "text/plain": [
              "<IPython.core.display.HTML object>"
            ],
            "text/html": [
              "<table border=\"1\" class=\"dataframe\">\n",
              "  <thead>\n",
              "    <tr style=\"text-align: left;\">\n",
              "      <th>epoch</th>\n",
              "      <th>train_loss</th>\n",
              "      <th>valid_loss</th>\n",
              "      <th>accuracy</th>\n",
              "      <th>time</th>\n",
              "    </tr>\n",
              "  </thead>\n",
              "  <tbody>\n",
              "    <tr>\n",
              "      <td>0</td>\n",
              "      <td>0.003957</td>\n",
              "      <td>0.332507</td>\n",
              "      <td>0.933200</td>\n",
              "      <td>03:11</td>\n",
              "    </tr>\n",
              "  </tbody>\n",
              "</table>"
            ]
          },
          "metadata": {}
        }
      ]
    },
    {
      "cell_type": "code",
      "source": [
        "lr /= 2 \n",
        "learn.freeze_to(-3)\n",
        "learn.fit_flat_cos(1, slice(lr/(2.6**4),lr))"
      ],
      "metadata": {
        "id": "KeMTA29erO8Y",
        "colab": {
          "base_uri": "https://localhost:8080/",
          "height": 81
        },
        "outputId": "353b0a24-8c7c-4735-b3a3-8c1a77b2b310"
      },
      "execution_count": null,
      "outputs": [
        {
          "output_type": "display_data",
          "data": {
            "text/plain": [
              "<IPython.core.display.HTML object>"
            ],
            "text/html": [
              "\n",
              "<style>\n",
              "    /* Turns off some styling */\n",
              "    progress {\n",
              "        /* gets rid of default border in Firefox and Opera. */\n",
              "        border: none;\n",
              "        /* Needs to be in here for Safari polyfill so background images work as expected. */\n",
              "        background-size: auto;\n",
              "    }\n",
              "    progress:not([value]), progress:not([value])::-webkit-progress-bar {\n",
              "        background: repeating-linear-gradient(45deg, #7e7e7e, #7e7e7e 10px, #5c5c5c 10px, #5c5c5c 20px);\n",
              "    }\n",
              "    .progress-bar-interrupted, .progress-bar-interrupted::-webkit-progress-bar {\n",
              "        background: #F44336;\n",
              "    }\n",
              "</style>\n"
            ]
          },
          "metadata": {}
        },
        {
          "output_type": "display_data",
          "data": {
            "text/plain": [
              "<IPython.core.display.HTML object>"
            ],
            "text/html": [
              "<table border=\"1\" class=\"dataframe\">\n",
              "  <thead>\n",
              "    <tr style=\"text-align: left;\">\n",
              "      <th>epoch</th>\n",
              "      <th>train_loss</th>\n",
              "      <th>valid_loss</th>\n",
              "      <th>accuracy</th>\n",
              "      <th>time</th>\n",
              "    </tr>\n",
              "  </thead>\n",
              "  <tbody>\n",
              "    <tr>\n",
              "      <td>0</td>\n",
              "      <td>0.082014</td>\n",
              "      <td>0.200152</td>\n",
              "      <td>0.932720</td>\n",
              "      <td>03:13</td>\n",
              "    </tr>\n",
              "  </tbody>\n",
              "</table>"
            ]
          },
          "metadata": {}
        }
      ]
    },
    {
      "cell_type": "code",
      "source": [
        "lr /= 2 \n",
        "learn.freeze_to(-4)\n",
        "learn.fit_one_cycle(1, slice(lr/(2.6**4),lr))"
      ],
      "metadata": {
        "id": "nnvk9uerrQhr",
        "colab": {
          "base_uri": "https://localhost:8080/",
          "height": 81
        },
        "outputId": "23e8ab79-54e8-407d-c7ee-55e0d585b9bc"
      },
      "execution_count": null,
      "outputs": [
        {
          "output_type": "display_data",
          "data": {
            "text/plain": [
              "<IPython.core.display.HTML object>"
            ],
            "text/html": [
              "\n",
              "<style>\n",
              "    /* Turns off some styling */\n",
              "    progress {\n",
              "        /* gets rid of default border in Firefox and Opera. */\n",
              "        border: none;\n",
              "        /* Needs to be in here for Safari polyfill so background images work as expected. */\n",
              "        background-size: auto;\n",
              "    }\n",
              "    progress:not([value]), progress:not([value])::-webkit-progress-bar {\n",
              "        background: repeating-linear-gradient(45deg, #7e7e7e, #7e7e7e 10px, #5c5c5c 10px, #5c5c5c 20px);\n",
              "    }\n",
              "    .progress-bar-interrupted, .progress-bar-interrupted::-webkit-progress-bar {\n",
              "        background: #F44336;\n",
              "    }\n",
              "</style>\n"
            ]
          },
          "metadata": {}
        },
        {
          "output_type": "display_data",
          "data": {
            "text/plain": [
              "<IPython.core.display.HTML object>"
            ],
            "text/html": [
              "<table border=\"1\" class=\"dataframe\">\n",
              "  <thead>\n",
              "    <tr style=\"text-align: left;\">\n",
              "      <th>epoch</th>\n",
              "      <th>train_loss</th>\n",
              "      <th>valid_loss</th>\n",
              "      <th>accuracy</th>\n",
              "      <th>time</th>\n",
              "    </tr>\n",
              "  </thead>\n",
              "  <tbody>\n",
              "    <tr>\n",
              "      <td>0</td>\n",
              "      <td>0.066425</td>\n",
              "      <td>0.219886</td>\n",
              "      <td>0.932640</td>\n",
              "      <td>03:13</td>\n",
              "    </tr>\n",
              "  </tbody>\n",
              "</table>"
            ]
          },
          "metadata": {}
        }
      ]
    },
    {
      "cell_type": "code",
      "source": [
        "lr /= 2\n",
        "learn.freeze_to(-5)\n",
        "learn.fit_one_cycle(1, slice(lr/(2.6**4),lr))"
      ],
      "metadata": {
        "id": "d0awAEizrR8K",
        "colab": {
          "base_uri": "https://localhost:8080/",
          "height": 81
        },
        "outputId": "fe17736b-1968-4be8-969b-601af7d40351"
      },
      "execution_count": null,
      "outputs": [
        {
          "output_type": "display_data",
          "data": {
            "text/plain": [
              "<IPython.core.display.HTML object>"
            ],
            "text/html": [
              "\n",
              "<style>\n",
              "    /* Turns off some styling */\n",
              "    progress {\n",
              "        /* gets rid of default border in Firefox and Opera. */\n",
              "        border: none;\n",
              "        /* Needs to be in here for Safari polyfill so background images work as expected. */\n",
              "        background-size: auto;\n",
              "    }\n",
              "    progress:not([value]), progress:not([value])::-webkit-progress-bar {\n",
              "        background: repeating-linear-gradient(45deg, #7e7e7e, #7e7e7e 10px, #5c5c5c 10px, #5c5c5c 20px);\n",
              "    }\n",
              "    .progress-bar-interrupted, .progress-bar-interrupted::-webkit-progress-bar {\n",
              "        background: #F44336;\n",
              "    }\n",
              "</style>\n"
            ]
          },
          "metadata": {}
        },
        {
          "output_type": "display_data",
          "data": {
            "text/plain": [
              "<IPython.core.display.HTML object>"
            ],
            "text/html": [
              "<table border=\"1\" class=\"dataframe\">\n",
              "  <thead>\n",
              "    <tr style=\"text-align: left;\">\n",
              "      <th>epoch</th>\n",
              "      <th>train_loss</th>\n",
              "      <th>valid_loss</th>\n",
              "      <th>accuracy</th>\n",
              "      <th>time</th>\n",
              "    </tr>\n",
              "  </thead>\n",
              "  <tbody>\n",
              "    <tr>\n",
              "      <td>0</td>\n",
              "      <td>0.046423</td>\n",
              "      <td>0.236074</td>\n",
              "      <td>0.932400</td>\n",
              "      <td>03:14</td>\n",
              "    </tr>\n",
              "  </tbody>\n",
              "</table>"
            ]
          },
          "metadata": {}
        }
      ]
    },
    {
      "cell_type": "code",
      "source": [
        "lr /= 2 \n",
        "learn.freeze_to(-6)\n",
        "learn.fit_one_cycle(1, slice(lr/(2.6**4),lr))"
      ],
      "metadata": {
        "id": "3yRlZ9ACrTIG",
        "colab": {
          "base_uri": "https://localhost:8080/",
          "height": 81
        },
        "outputId": "767a1133-d55e-449d-8829-5adfe4e6ad5c"
      },
      "execution_count": null,
      "outputs": [
        {
          "output_type": "display_data",
          "data": {
            "text/plain": [
              "<IPython.core.display.HTML object>"
            ],
            "text/html": [
              "\n",
              "<style>\n",
              "    /* Turns off some styling */\n",
              "    progress {\n",
              "        /* gets rid of default border in Firefox and Opera. */\n",
              "        border: none;\n",
              "        /* Needs to be in here for Safari polyfill so background images work as expected. */\n",
              "        background-size: auto;\n",
              "    }\n",
              "    progress:not([value]), progress:not([value])::-webkit-progress-bar {\n",
              "        background: repeating-linear-gradient(45deg, #7e7e7e, #7e7e7e 10px, #5c5c5c 10px, #5c5c5c 20px);\n",
              "    }\n",
              "    .progress-bar-interrupted, .progress-bar-interrupted::-webkit-progress-bar {\n",
              "        background: #F44336;\n",
              "    }\n",
              "</style>\n"
            ]
          },
          "metadata": {}
        },
        {
          "output_type": "display_data",
          "data": {
            "text/plain": [
              "<IPython.core.display.HTML object>"
            ],
            "text/html": [
              "<table border=\"1\" class=\"dataframe\">\n",
              "  <thead>\n",
              "    <tr style=\"text-align: left;\">\n",
              "      <th>epoch</th>\n",
              "      <th>train_loss</th>\n",
              "      <th>valid_loss</th>\n",
              "      <th>accuracy</th>\n",
              "      <th>time</th>\n",
              "    </tr>\n",
              "  </thead>\n",
              "  <tbody>\n",
              "    <tr>\n",
              "      <td>0</td>\n",
              "      <td>0.042065</td>\n",
              "      <td>0.247319</td>\n",
              "      <td>0.933560</td>\n",
              "      <td>03:13</td>\n",
              "    </tr>\n",
              "  </tbody>\n",
              "</table>"
            ]
          },
          "metadata": {}
        }
      ]
    },
    {
      "cell_type": "code",
      "source": [
        "lr /= 2 \n",
        "learn.freeze_to(-7)\n",
        "learn.fit_one_cycle(1, slice(lr/(2.6**4),lr))"
      ],
      "metadata": {
        "id": "xxa7xWQHsX1e",
        "colab": {
          "base_uri": "https://localhost:8080/",
          "height": 81
        },
        "outputId": "9f82a42c-d985-4640-b1af-563bfd767853"
      },
      "execution_count": null,
      "outputs": [
        {
          "output_type": "display_data",
          "data": {
            "text/plain": [
              "<IPython.core.display.HTML object>"
            ],
            "text/html": [
              "\n",
              "<style>\n",
              "    /* Turns off some styling */\n",
              "    progress {\n",
              "        /* gets rid of default border in Firefox and Opera. */\n",
              "        border: none;\n",
              "        /* Needs to be in here for Safari polyfill so background images work as expected. */\n",
              "        background-size: auto;\n",
              "    }\n",
              "    progress:not([value]), progress:not([value])::-webkit-progress-bar {\n",
              "        background: repeating-linear-gradient(45deg, #7e7e7e, #7e7e7e 10px, #5c5c5c 10px, #5c5c5c 20px);\n",
              "    }\n",
              "    .progress-bar-interrupted, .progress-bar-interrupted::-webkit-progress-bar {\n",
              "        background: #F44336;\n",
              "    }\n",
              "</style>\n"
            ]
          },
          "metadata": {}
        },
        {
          "output_type": "display_data",
          "data": {
            "text/plain": [
              "<IPython.core.display.HTML object>"
            ],
            "text/html": [
              "<table border=\"1\" class=\"dataframe\">\n",
              "  <thead>\n",
              "    <tr style=\"text-align: left;\">\n",
              "      <th>epoch</th>\n",
              "      <th>train_loss</th>\n",
              "      <th>valid_loss</th>\n",
              "      <th>accuracy</th>\n",
              "      <th>time</th>\n",
              "    </tr>\n",
              "  </thead>\n",
              "  <tbody>\n",
              "    <tr>\n",
              "      <td>0</td>\n",
              "      <td>0.016336</td>\n",
              "      <td>0.251004</td>\n",
              "      <td>0.932000</td>\n",
              "      <td>03:13</td>\n",
              "    </tr>\n",
              "  </tbody>\n",
              "</table>"
            ]
          },
          "metadata": {}
        }
      ]
    },
    {
      "cell_type": "code",
      "source": [
        "lr /= 2 \n",
        "learn.unfreeze()\n",
        "learn.fit_one_cycle(1, slice(lr/(2.6**4),lr))"
      ],
      "metadata": {
        "id": "zUqtYal4scdm",
        "colab": {
          "base_uri": "https://localhost:8080/",
          "height": 81
        },
        "outputId": "38bdecb3-5123-4ce5-c31c-4f9fa3cc94e9"
      },
      "execution_count": null,
      "outputs": [
        {
          "output_type": "display_data",
          "data": {
            "text/plain": [
              "<IPython.core.display.HTML object>"
            ],
            "text/html": [
              "\n",
              "<style>\n",
              "    /* Turns off some styling */\n",
              "    progress {\n",
              "        /* gets rid of default border in Firefox and Opera. */\n",
              "        border: none;\n",
              "        /* Needs to be in here for Safari polyfill so background images work as expected. */\n",
              "        background-size: auto;\n",
              "    }\n",
              "    progress:not([value]), progress:not([value])::-webkit-progress-bar {\n",
              "        background: repeating-linear-gradient(45deg, #7e7e7e, #7e7e7e 10px, #5c5c5c 10px, #5c5c5c 20px);\n",
              "    }\n",
              "    .progress-bar-interrupted, .progress-bar-interrupted::-webkit-progress-bar {\n",
              "        background: #F44336;\n",
              "    }\n",
              "</style>\n"
            ]
          },
          "metadata": {}
        },
        {
          "output_type": "display_data",
          "data": {
            "text/plain": [
              "<IPython.core.display.HTML object>"
            ],
            "text/html": [
              "<table border=\"1\" class=\"dataframe\">\n",
              "  <thead>\n",
              "    <tr style=\"text-align: left;\">\n",
              "      <th>epoch</th>\n",
              "      <th>train_loss</th>\n",
              "      <th>valid_loss</th>\n",
              "      <th>accuracy</th>\n",
              "      <th>time</th>\n",
              "    </tr>\n",
              "  </thead>\n",
              "  <tbody>\n",
              "    <tr>\n",
              "      <td>0</td>\n",
              "      <td>0.024343</td>\n",
              "      <td>0.254143</td>\n",
              "      <td>0.933000</td>\n",
              "      <td>03:14</td>\n",
              "    </tr>\n",
              "  </tbody>\n",
              "</table>"
            ]
          },
          "metadata": {}
        }
      ]
    },
    {
      "cell_type": "code",
      "source": [
        "from google.colab import drive\n",
        "drive.mount('/content/drive')"
      ],
      "metadata": {
        "id": "z_K_8XeMtfsI",
        "colab": {
          "base_uri": "https://localhost:8080/"
        },
        "outputId": "40c9ed0e-4a40-4ddb-b047-1734f8b0133f"
      },
      "execution_count": null,
      "outputs": [
        {
          "output_type": "stream",
          "name": "stdout",
          "text": [
            "Mounted at /content/drive\n"
          ]
        }
      ]
    },
    {
      "cell_type": "code",
      "source": [
        "# Saving the model\n",
        "learn.save(\"/content/drive/MyDrive/COMP 551/ULMFit_AdamW_BERT.pth\")"
      ],
      "metadata": {
        "id": "1RsSUQSYthJG",
        "colab": {
          "base_uri": "https://localhost:8080/"
        },
        "outputId": "dcff10bd-e870-4689-a913-f0fa5b5681d6"
      },
      "execution_count": null,
      "outputs": [
        {
          "output_type": "execute_result",
          "data": {
            "text/plain": [
              "Path('/content/drive/MyDrive/COMP 551/ULMFit_AdamW_BERT.pth.pth')"
            ]
          },
          "metadata": {},
          "execution_count": 53
        }
      ]
    },
    {
      "cell_type": "markdown",
      "source": [
        "## Full BERT (Best Performance)"
      ],
      "metadata": {
        "id": "XnSrXYhkzRFf"
      }
    },
    {
      "cell_type": "markdown",
      "source": [
        "### Model Creation"
      ],
      "metadata": {
        "id": "0u10dkRSI5c5"
      }
    },
    {
      "cell_type": "code",
      "source": [
        "#lg_tokenizer = AutoTokenizer.from_pretrained(\"bert-base-uncased\")\n",
        "lg_model = AutoModelForSequenceClassification.from_pretrained(\"bert-base-uncased\").to(device)"
      ],
      "metadata": {
        "id": "vs6ryLUxtqLh",
        "colab": {
          "base_uri": "https://localhost:8080/",
          "height": 192,
          "referenced_widgets": [
            "84122aa796c7483b99569966a3d36c50",
            "86a5994895094d059b4eb5dc42bd53bf",
            "32b8109ed7c041aba109194757ca0759",
            "833c9bfc5d0a488382691209ea4e11c9",
            "ced0165ac3f943ee91c4650b73561701",
            "b28c6d5846324c7cb1b0a1748c498e22",
            "328a0692d35d410b851493581b8d257c",
            "ce5c239a40634b84943b8e13f02d1413",
            "f8d69e6a2858464db3c4a3c913408806",
            "ea6ab4ac40a0426b9493af0229008374",
            "639c3e1afa5a4aafa4ad689431098b8f",
            "4c4b38df90d34048b3ee1ff2489fac88",
            "38abbe410d4e43d99d6aab3ba6bef3bd",
            "49bc35cc9c35484787336f102302fba2",
            "01772e33c02d47b4a4a5ed9ecd13ca41",
            "6bd72a9e1f614a6ebc363a0b0dc7a21c",
            "9803767f71724981ab1d80c95be17ed8",
            "cb435c213c3a45e2a17c5e23f5ad4ea4",
            "d6f5ed944bf4445aaf9126378b2e94d7",
            "5b76f4282b1c4374b0c22a51ea973697",
            "7c6fd7d5ff0b4d33b5a87100546055f0",
            "def2c99d52d94ecdb26ce0d1ed42ff6d"
          ]
        },
        "outputId": "331b0811-49cd-40b6-8cde-02fcab3b6854"
      },
      "execution_count": null,
      "outputs": [
        {
          "output_type": "display_data",
          "data": {
            "text/plain": [
              "Downloading:   0%|          | 0.00/570 [00:00<?, ?B/s]"
            ],
            "application/vnd.jupyter.widget-view+json": {
              "version_major": 2,
              "version_minor": 0,
              "model_id": "84122aa796c7483b99569966a3d36c50"
            }
          },
          "metadata": {}
        },
        {
          "output_type": "display_data",
          "data": {
            "text/plain": [
              "Downloading:   0%|          | 0.00/440M [00:00<?, ?B/s]"
            ],
            "application/vnd.jupyter.widget-view+json": {
              "version_major": 2,
              "version_minor": 0,
              "model_id": "4c4b38df90d34048b3ee1ff2489fac88"
            }
          },
          "metadata": {}
        },
        {
          "output_type": "stream",
          "name": "stderr",
          "text": [
            "Some weights of the model checkpoint at bert-base-uncased were not used when initializing BertForSequenceClassification: ['cls.predictions.decoder.weight', 'cls.predictions.transform.dense.bias', 'cls.predictions.transform.LayerNorm.weight', 'cls.seq_relationship.bias', 'cls.seq_relationship.weight', 'cls.predictions.transform.dense.weight', 'cls.predictions.bias', 'cls.predictions.transform.LayerNorm.bias']\n",
            "- This IS expected if you are initializing BertForSequenceClassification from the checkpoint of a model trained on another task or with another architecture (e.g. initializing a BertForSequenceClassification model from a BertForPreTraining model).\n",
            "- This IS NOT expected if you are initializing BertForSequenceClassification from the checkpoint of a model that you expect to be exactly identical (initializing a BertForSequenceClassification model from a BertForSequenceClassification model).\n",
            "Some weights of BertForSequenceClassification were not initialized from the model checkpoint at bert-base-uncased and are newly initialized: ['classifier.weight', 'classifier.bias']\n",
            "You should probably TRAIN this model on a down-stream task to be able to use it for predictions and inference.\n"
          ]
        }
      ]
    },
    {
      "cell_type": "code",
      "source": [
        "# model\n",
        "model = HF_Model(lg_model).to(device)\n",
        "model"
      ],
      "metadata": {
        "id": "DAlHtmTnF3-X",
        "colab": {
          "base_uri": "https://localhost:8080/"
        },
        "outputId": "3768fe82-fc9e-492e-a5f8-27b88f5abd56"
      },
      "execution_count": null,
      "outputs": [
        {
          "output_type": "execute_result",
          "data": {
            "text/plain": [
              "HF_Model(\n",
              "  (hf_model): BertForSequenceClassification(\n",
              "    (bert): BertModel(\n",
              "      (embeddings): BertEmbeddings(\n",
              "        (word_embeddings): Embedding(30522, 768, padding_idx=0)\n",
              "        (position_embeddings): Embedding(512, 768)\n",
              "        (token_type_embeddings): Embedding(2, 768)\n",
              "        (LayerNorm): LayerNorm((768,), eps=1e-12, elementwise_affine=True)\n",
              "        (dropout): Dropout(p=0.1, inplace=False)\n",
              "      )\n",
              "      (encoder): BertEncoder(\n",
              "        (layer): ModuleList(\n",
              "          (0): BertLayer(\n",
              "            (attention): BertAttention(\n",
              "              (self): BertSelfAttention(\n",
              "                (query): Linear(in_features=768, out_features=768, bias=True)\n",
              "                (key): Linear(in_features=768, out_features=768, bias=True)\n",
              "                (value): Linear(in_features=768, out_features=768, bias=True)\n",
              "                (dropout): Dropout(p=0.1, inplace=False)\n",
              "              )\n",
              "              (output): BertSelfOutput(\n",
              "                (dense): Linear(in_features=768, out_features=768, bias=True)\n",
              "                (LayerNorm): LayerNorm((768,), eps=1e-12, elementwise_affine=True)\n",
              "                (dropout): Dropout(p=0.1, inplace=False)\n",
              "              )\n",
              "            )\n",
              "            (intermediate): BertIntermediate(\n",
              "              (dense): Linear(in_features=768, out_features=3072, bias=True)\n",
              "              (intermediate_act_fn): GELUActivation()\n",
              "            )\n",
              "            (output): BertOutput(\n",
              "              (dense): Linear(in_features=3072, out_features=768, bias=True)\n",
              "              (LayerNorm): LayerNorm((768,), eps=1e-12, elementwise_affine=True)\n",
              "              (dropout): Dropout(p=0.1, inplace=False)\n",
              "            )\n",
              "          )\n",
              "          (1): BertLayer(\n",
              "            (attention): BertAttention(\n",
              "              (self): BertSelfAttention(\n",
              "                (query): Linear(in_features=768, out_features=768, bias=True)\n",
              "                (key): Linear(in_features=768, out_features=768, bias=True)\n",
              "                (value): Linear(in_features=768, out_features=768, bias=True)\n",
              "                (dropout): Dropout(p=0.1, inplace=False)\n",
              "              )\n",
              "              (output): BertSelfOutput(\n",
              "                (dense): Linear(in_features=768, out_features=768, bias=True)\n",
              "                (LayerNorm): LayerNorm((768,), eps=1e-12, elementwise_affine=True)\n",
              "                (dropout): Dropout(p=0.1, inplace=False)\n",
              "              )\n",
              "            )\n",
              "            (intermediate): BertIntermediate(\n",
              "              (dense): Linear(in_features=768, out_features=3072, bias=True)\n",
              "              (intermediate_act_fn): GELUActivation()\n",
              "            )\n",
              "            (output): BertOutput(\n",
              "              (dense): Linear(in_features=3072, out_features=768, bias=True)\n",
              "              (LayerNorm): LayerNorm((768,), eps=1e-12, elementwise_affine=True)\n",
              "              (dropout): Dropout(p=0.1, inplace=False)\n",
              "            )\n",
              "          )\n",
              "          (2): BertLayer(\n",
              "            (attention): BertAttention(\n",
              "              (self): BertSelfAttention(\n",
              "                (query): Linear(in_features=768, out_features=768, bias=True)\n",
              "                (key): Linear(in_features=768, out_features=768, bias=True)\n",
              "                (value): Linear(in_features=768, out_features=768, bias=True)\n",
              "                (dropout): Dropout(p=0.1, inplace=False)\n",
              "              )\n",
              "              (output): BertSelfOutput(\n",
              "                (dense): Linear(in_features=768, out_features=768, bias=True)\n",
              "                (LayerNorm): LayerNorm((768,), eps=1e-12, elementwise_affine=True)\n",
              "                (dropout): Dropout(p=0.1, inplace=False)\n",
              "              )\n",
              "            )\n",
              "            (intermediate): BertIntermediate(\n",
              "              (dense): Linear(in_features=768, out_features=3072, bias=True)\n",
              "              (intermediate_act_fn): GELUActivation()\n",
              "            )\n",
              "            (output): BertOutput(\n",
              "              (dense): Linear(in_features=3072, out_features=768, bias=True)\n",
              "              (LayerNorm): LayerNorm((768,), eps=1e-12, elementwise_affine=True)\n",
              "              (dropout): Dropout(p=0.1, inplace=False)\n",
              "            )\n",
              "          )\n",
              "          (3): BertLayer(\n",
              "            (attention): BertAttention(\n",
              "              (self): BertSelfAttention(\n",
              "                (query): Linear(in_features=768, out_features=768, bias=True)\n",
              "                (key): Linear(in_features=768, out_features=768, bias=True)\n",
              "                (value): Linear(in_features=768, out_features=768, bias=True)\n",
              "                (dropout): Dropout(p=0.1, inplace=False)\n",
              "              )\n",
              "              (output): BertSelfOutput(\n",
              "                (dense): Linear(in_features=768, out_features=768, bias=True)\n",
              "                (LayerNorm): LayerNorm((768,), eps=1e-12, elementwise_affine=True)\n",
              "                (dropout): Dropout(p=0.1, inplace=False)\n",
              "              )\n",
              "            )\n",
              "            (intermediate): BertIntermediate(\n",
              "              (dense): Linear(in_features=768, out_features=3072, bias=True)\n",
              "              (intermediate_act_fn): GELUActivation()\n",
              "            )\n",
              "            (output): BertOutput(\n",
              "              (dense): Linear(in_features=3072, out_features=768, bias=True)\n",
              "              (LayerNorm): LayerNorm((768,), eps=1e-12, elementwise_affine=True)\n",
              "              (dropout): Dropout(p=0.1, inplace=False)\n",
              "            )\n",
              "          )\n",
              "          (4): BertLayer(\n",
              "            (attention): BertAttention(\n",
              "              (self): BertSelfAttention(\n",
              "                (query): Linear(in_features=768, out_features=768, bias=True)\n",
              "                (key): Linear(in_features=768, out_features=768, bias=True)\n",
              "                (value): Linear(in_features=768, out_features=768, bias=True)\n",
              "                (dropout): Dropout(p=0.1, inplace=False)\n",
              "              )\n",
              "              (output): BertSelfOutput(\n",
              "                (dense): Linear(in_features=768, out_features=768, bias=True)\n",
              "                (LayerNorm): LayerNorm((768,), eps=1e-12, elementwise_affine=True)\n",
              "                (dropout): Dropout(p=0.1, inplace=False)\n",
              "              )\n",
              "            )\n",
              "            (intermediate): BertIntermediate(\n",
              "              (dense): Linear(in_features=768, out_features=3072, bias=True)\n",
              "              (intermediate_act_fn): GELUActivation()\n",
              "            )\n",
              "            (output): BertOutput(\n",
              "              (dense): Linear(in_features=3072, out_features=768, bias=True)\n",
              "              (LayerNorm): LayerNorm((768,), eps=1e-12, elementwise_affine=True)\n",
              "              (dropout): Dropout(p=0.1, inplace=False)\n",
              "            )\n",
              "          )\n",
              "          (5): BertLayer(\n",
              "            (attention): BertAttention(\n",
              "              (self): BertSelfAttention(\n",
              "                (query): Linear(in_features=768, out_features=768, bias=True)\n",
              "                (key): Linear(in_features=768, out_features=768, bias=True)\n",
              "                (value): Linear(in_features=768, out_features=768, bias=True)\n",
              "                (dropout): Dropout(p=0.1, inplace=False)\n",
              "              )\n",
              "              (output): BertSelfOutput(\n",
              "                (dense): Linear(in_features=768, out_features=768, bias=True)\n",
              "                (LayerNorm): LayerNorm((768,), eps=1e-12, elementwise_affine=True)\n",
              "                (dropout): Dropout(p=0.1, inplace=False)\n",
              "              )\n",
              "            )\n",
              "            (intermediate): BertIntermediate(\n",
              "              (dense): Linear(in_features=768, out_features=3072, bias=True)\n",
              "              (intermediate_act_fn): GELUActivation()\n",
              "            )\n",
              "            (output): BertOutput(\n",
              "              (dense): Linear(in_features=3072, out_features=768, bias=True)\n",
              "              (LayerNorm): LayerNorm((768,), eps=1e-12, elementwise_affine=True)\n",
              "              (dropout): Dropout(p=0.1, inplace=False)\n",
              "            )\n",
              "          )\n",
              "          (6): BertLayer(\n",
              "            (attention): BertAttention(\n",
              "              (self): BertSelfAttention(\n",
              "                (query): Linear(in_features=768, out_features=768, bias=True)\n",
              "                (key): Linear(in_features=768, out_features=768, bias=True)\n",
              "                (value): Linear(in_features=768, out_features=768, bias=True)\n",
              "                (dropout): Dropout(p=0.1, inplace=False)\n",
              "              )\n",
              "              (output): BertSelfOutput(\n",
              "                (dense): Linear(in_features=768, out_features=768, bias=True)\n",
              "                (LayerNorm): LayerNorm((768,), eps=1e-12, elementwise_affine=True)\n",
              "                (dropout): Dropout(p=0.1, inplace=False)\n",
              "              )\n",
              "            )\n",
              "            (intermediate): BertIntermediate(\n",
              "              (dense): Linear(in_features=768, out_features=3072, bias=True)\n",
              "              (intermediate_act_fn): GELUActivation()\n",
              "            )\n",
              "            (output): BertOutput(\n",
              "              (dense): Linear(in_features=3072, out_features=768, bias=True)\n",
              "              (LayerNorm): LayerNorm((768,), eps=1e-12, elementwise_affine=True)\n",
              "              (dropout): Dropout(p=0.1, inplace=False)\n",
              "            )\n",
              "          )\n",
              "          (7): BertLayer(\n",
              "            (attention): BertAttention(\n",
              "              (self): BertSelfAttention(\n",
              "                (query): Linear(in_features=768, out_features=768, bias=True)\n",
              "                (key): Linear(in_features=768, out_features=768, bias=True)\n",
              "                (value): Linear(in_features=768, out_features=768, bias=True)\n",
              "                (dropout): Dropout(p=0.1, inplace=False)\n",
              "              )\n",
              "              (output): BertSelfOutput(\n",
              "                (dense): Linear(in_features=768, out_features=768, bias=True)\n",
              "                (LayerNorm): LayerNorm((768,), eps=1e-12, elementwise_affine=True)\n",
              "                (dropout): Dropout(p=0.1, inplace=False)\n",
              "              )\n",
              "            )\n",
              "            (intermediate): BertIntermediate(\n",
              "              (dense): Linear(in_features=768, out_features=3072, bias=True)\n",
              "              (intermediate_act_fn): GELUActivation()\n",
              "            )\n",
              "            (output): BertOutput(\n",
              "              (dense): Linear(in_features=3072, out_features=768, bias=True)\n",
              "              (LayerNorm): LayerNorm((768,), eps=1e-12, elementwise_affine=True)\n",
              "              (dropout): Dropout(p=0.1, inplace=False)\n",
              "            )\n",
              "          )\n",
              "          (8): BertLayer(\n",
              "            (attention): BertAttention(\n",
              "              (self): BertSelfAttention(\n",
              "                (query): Linear(in_features=768, out_features=768, bias=True)\n",
              "                (key): Linear(in_features=768, out_features=768, bias=True)\n",
              "                (value): Linear(in_features=768, out_features=768, bias=True)\n",
              "                (dropout): Dropout(p=0.1, inplace=False)\n",
              "              )\n",
              "              (output): BertSelfOutput(\n",
              "                (dense): Linear(in_features=768, out_features=768, bias=True)\n",
              "                (LayerNorm): LayerNorm((768,), eps=1e-12, elementwise_affine=True)\n",
              "                (dropout): Dropout(p=0.1, inplace=False)\n",
              "              )\n",
              "            )\n",
              "            (intermediate): BertIntermediate(\n",
              "              (dense): Linear(in_features=768, out_features=3072, bias=True)\n",
              "              (intermediate_act_fn): GELUActivation()\n",
              "            )\n",
              "            (output): BertOutput(\n",
              "              (dense): Linear(in_features=3072, out_features=768, bias=True)\n",
              "              (LayerNorm): LayerNorm((768,), eps=1e-12, elementwise_affine=True)\n",
              "              (dropout): Dropout(p=0.1, inplace=False)\n",
              "            )\n",
              "          )\n",
              "          (9): BertLayer(\n",
              "            (attention): BertAttention(\n",
              "              (self): BertSelfAttention(\n",
              "                (query): Linear(in_features=768, out_features=768, bias=True)\n",
              "                (key): Linear(in_features=768, out_features=768, bias=True)\n",
              "                (value): Linear(in_features=768, out_features=768, bias=True)\n",
              "                (dropout): Dropout(p=0.1, inplace=False)\n",
              "              )\n",
              "              (output): BertSelfOutput(\n",
              "                (dense): Linear(in_features=768, out_features=768, bias=True)\n",
              "                (LayerNorm): LayerNorm((768,), eps=1e-12, elementwise_affine=True)\n",
              "                (dropout): Dropout(p=0.1, inplace=False)\n",
              "              )\n",
              "            )\n",
              "            (intermediate): BertIntermediate(\n",
              "              (dense): Linear(in_features=768, out_features=3072, bias=True)\n",
              "              (intermediate_act_fn): GELUActivation()\n",
              "            )\n",
              "            (output): BertOutput(\n",
              "              (dense): Linear(in_features=3072, out_features=768, bias=True)\n",
              "              (LayerNorm): LayerNorm((768,), eps=1e-12, elementwise_affine=True)\n",
              "              (dropout): Dropout(p=0.1, inplace=False)\n",
              "            )\n",
              "          )\n",
              "          (10): BertLayer(\n",
              "            (attention): BertAttention(\n",
              "              (self): BertSelfAttention(\n",
              "                (query): Linear(in_features=768, out_features=768, bias=True)\n",
              "                (key): Linear(in_features=768, out_features=768, bias=True)\n",
              "                (value): Linear(in_features=768, out_features=768, bias=True)\n",
              "                (dropout): Dropout(p=0.1, inplace=False)\n",
              "              )\n",
              "              (output): BertSelfOutput(\n",
              "                (dense): Linear(in_features=768, out_features=768, bias=True)\n",
              "                (LayerNorm): LayerNorm((768,), eps=1e-12, elementwise_affine=True)\n",
              "                (dropout): Dropout(p=0.1, inplace=False)\n",
              "              )\n",
              "            )\n",
              "            (intermediate): BertIntermediate(\n",
              "              (dense): Linear(in_features=768, out_features=3072, bias=True)\n",
              "              (intermediate_act_fn): GELUActivation()\n",
              "            )\n",
              "            (output): BertOutput(\n",
              "              (dense): Linear(in_features=3072, out_features=768, bias=True)\n",
              "              (LayerNorm): LayerNorm((768,), eps=1e-12, elementwise_affine=True)\n",
              "              (dropout): Dropout(p=0.1, inplace=False)\n",
              "            )\n",
              "          )\n",
              "          (11): BertLayer(\n",
              "            (attention): BertAttention(\n",
              "              (self): BertSelfAttention(\n",
              "                (query): Linear(in_features=768, out_features=768, bias=True)\n",
              "                (key): Linear(in_features=768, out_features=768, bias=True)\n",
              "                (value): Linear(in_features=768, out_features=768, bias=True)\n",
              "                (dropout): Dropout(p=0.1, inplace=False)\n",
              "              )\n",
              "              (output): BertSelfOutput(\n",
              "                (dense): Linear(in_features=768, out_features=768, bias=True)\n",
              "                (LayerNorm): LayerNorm((768,), eps=1e-12, elementwise_affine=True)\n",
              "                (dropout): Dropout(p=0.1, inplace=False)\n",
              "              )\n",
              "            )\n",
              "            (intermediate): BertIntermediate(\n",
              "              (dense): Linear(in_features=768, out_features=3072, bias=True)\n",
              "              (intermediate_act_fn): GELUActivation()\n",
              "            )\n",
              "            (output): BertOutput(\n",
              "              (dense): Linear(in_features=3072, out_features=768, bias=True)\n",
              "              (LayerNorm): LayerNorm((768,), eps=1e-12, elementwise_affine=True)\n",
              "              (dropout): Dropout(p=0.1, inplace=False)\n",
              "            )\n",
              "          )\n",
              "        )\n",
              "      )\n",
              "      (pooler): BertPooler(\n",
              "        (dense): Linear(in_features=768, out_features=768, bias=True)\n",
              "        (activation): Tanh()\n",
              "      )\n",
              "    )\n",
              "    (dropout): Dropout(p=0.1, inplace=False)\n",
              "    (classifier): Linear(in_features=768, out_features=2, bias=True)\n",
              "  )\n",
              ")"
            ]
          },
          "metadata": {},
          "execution_count": 34
        }
      ]
    },
    {
      "cell_type": "code",
      "source": [
        "def lg_splitter(m): return L(m.hf_model.encoder.layer[9],\n",
        "                             m.hf_model.encoder.layer[10],\n",
        "                             m.hf_model.encoder.layer[11],      \n",
        "                             m.hf_model.pooler).map(params)"
      ],
      "metadata": {
        "id": "Qxs5jT-4hxWE"
      },
      "execution_count": null,
      "outputs": []
    },
    {
      "cell_type": "code",
      "source": [
        "from torch import optim\n",
        "\n",
        "lg_learner = Learner(dls, model, loss_func=CrossEntropyLossFlat(), splitter=lg_splitter, opt_func=None, metrics=[accuracy], cbs=[MixedPrecision,FP16TestCallback])\n",
        "lg_learner.opt=OptimWrapper(opt=optim.AdamW(model.parameters(), lr=1e-3))"
      ],
      "metadata": {
        "id": "sQvXI-Y8F1MN"
      },
      "execution_count": null,
      "outputs": []
    },
    {
      "cell_type": "markdown",
      "source": [
        "### Training (2 epochs only output layer tuning)"
      ],
      "metadata": {
        "id": "qItqXrVeI37f"
      }
    },
    {
      "cell_type": "code",
      "source": [
        "lg_learner.freeze_to(-1)\n",
        "lg_learner.lr_find()"
      ],
      "metadata": {
        "colab": {
          "base_uri": "https://localhost:8080/",
          "height": 301
        },
        "id": "nqJvkx4vih63",
        "outputId": "bb8b2e83-6545-43f5-9cbe-85476dd034d8"
      },
      "execution_count": null,
      "outputs": [
        {
          "output_type": "display_data",
          "data": {
            "text/plain": [
              "<IPython.core.display.HTML object>"
            ],
            "text/html": [
              "\n",
              "<style>\n",
              "    /* Turns off some styling */\n",
              "    progress {\n",
              "        /* gets rid of default border in Firefox and Opera. */\n",
              "        border: none;\n",
              "        /* Needs to be in here for Safari polyfill so background images work as expected. */\n",
              "        background-size: auto;\n",
              "    }\n",
              "    progress:not([value]), progress:not([value])::-webkit-progress-bar {\n",
              "        background: repeating-linear-gradient(45deg, #7e7e7e, #7e7e7e 10px, #5c5c5c 10px, #5c5c5c 20px);\n",
              "    }\n",
              "    .progress-bar-interrupted, .progress-bar-interrupted::-webkit-progress-bar {\n",
              "        background: #F44336;\n",
              "    }\n",
              "</style>\n"
            ]
          },
          "metadata": {}
        },
        {
          "output_type": "display_data",
          "data": {
            "text/plain": [
              "<IPython.core.display.HTML object>"
            ],
            "text/html": []
          },
          "metadata": {}
        },
        {
          "output_type": "execute_result",
          "data": {
            "text/plain": [
              "SuggestedLRs(valley=3.0199516913853586e-05)"
            ]
          },
          "metadata": {},
          "execution_count": 37
        },
        {
          "output_type": "display_data",
          "data": {
            "text/plain": [
              "<Figure size 432x288 with 1 Axes>"
            ],
            "image/png": "[encoded data removed]"
          },
          "metadata": {
            "needs_background": "light"
          }
        }
      ]
    },
    {
      "cell_type": "code",
      "source": [
        "lr = 3e-5\n",
        "lg_learner.fit_one_cycle(2, lr)"
      ],
      "metadata": {
        "id": "khZhAq-ZjiN1"
      },
      "execution_count": null,
      "outputs": []
    },
    {
      "cell_type": "markdown",
      "source": [
        "After just two epochs we already obtained 94.1 % accuracy on the validation (testing) set so we saved the model in between. However, it turns out this is the best performance that was achieved during the ULMFit procedure so it is ultimately the version we are using for the trying out of the models parts."
      ],
      "metadata": {
        "id": "rnUvZECALgmd"
      }
    },
    {
      "cell_type": "code",
      "source": [
        "from google.colab import drive\n",
        "drive.mount('/content/drive')\n",
        "# Saving the model\n",
        "lg_learner.export(\"/content/drive/MyDrive/COMP 551/ULMFit_AdamW_FullBERT\")"
      ],
      "metadata": {
        "id": "fJbhbUlXNSjt"
      },
      "execution_count": null,
      "outputs": []
    },
    {
      "cell_type": "markdown",
      "source": [
        "### (ULMFit Continued from above) \n",
        "Overall no better performance than above was achieved using ULMFit"
      ],
      "metadata": {
        "id": "vIYDOYLnKi2-"
      }
    },
    {
      "cell_type": "code",
      "source": [
        "lg_learner.fit_one_cycle(2, lr)"
      ],
      "metadata": {
        "id": "KyHlKAPGKqSo"
      },
      "execution_count": null,
      "outputs": []
    },
    {
      "cell_type": "code",
      "source": [
        "lr /= 2\n",
        "lg_learner.freeze_to(-2)\n",
        "lg_learner.fit_one_cycle(3, slice(lr/(2.6**4),lr))\n",
        "lg_learner.fit_flat_cos(3, slice(lr/(2.6**4),lr))"
      ],
      "metadata": {
        "id": "Rr7Ux63OLCBl"
      },
      "execution_count": null,
      "outputs": []
    },
    {
      "cell_type": "code",
      "source": [
        "lr /= 2\n",
        "lg_learner.fit_one_cycle(3, slice(lr/(2.6**4),lr))"
      ],
      "metadata": {
        "colab": {
          "base_uri": "https://localhost:8080/",
          "height": 143
        },
        "id": "r4xAMQj2ji2r",
        "outputId": "84d2a7e9-0713-4295-ec31-77caa088f66a"
      },
      "execution_count": null,
      "outputs": [
        {
          "output_type": "display_data",
          "data": {
            "text/plain": [
              "<IPython.core.display.HTML object>"
            ],
            "text/html": [
              "\n",
              "<style>\n",
              "    /* Turns off some styling */\n",
              "    progress {\n",
              "        /* gets rid of default border in Firefox and Opera. */\n",
              "        border: none;\n",
              "        /* Needs to be in here for Safari polyfill so background images work as expected. */\n",
              "        background-size: auto;\n",
              "    }\n",
              "    progress:not([value]), progress:not([value])::-webkit-progress-bar {\n",
              "        background: repeating-linear-gradient(45deg, #7e7e7e, #7e7e7e 10px, #5c5c5c 10px, #5c5c5c 20px);\n",
              "    }\n",
              "    .progress-bar-interrupted, .progress-bar-interrupted::-webkit-progress-bar {\n",
              "        background: #F44336;\n",
              "    }\n",
              "</style>\n"
            ]
          },
          "metadata": {}
        },
        {
          "output_type": "display_data",
          "data": {
            "text/plain": [
              "<IPython.core.display.HTML object>"
            ],
            "text/html": [
              "<table border=\"1\" class=\"dataframe\">\n",
              "  <thead>\n",
              "    <tr style=\"text-align: left;\">\n",
              "      <th>epoch</th>\n",
              "      <th>train_loss</th>\n",
              "      <th>valid_loss</th>\n",
              "      <th>accuracy</th>\n",
              "      <th>time</th>\n",
              "    </tr>\n",
              "  </thead>\n",
              "  <tbody>\n",
              "    <tr>\n",
              "      <td>0</td>\n",
              "      <td>0.007718</td>\n",
              "      <td>0.338128</td>\n",
              "      <td>0.939240</td>\n",
              "      <td>04:45</td>\n",
              "    </tr>\n",
              "    <tr>\n",
              "      <td>1</td>\n",
              "      <td>0.001385</td>\n",
              "      <td>0.340029</td>\n",
              "      <td>0.941080</td>\n",
              "      <td>04:45</td>\n",
              "    </tr>\n",
              "    <tr>\n",
              "      <td>2</td>\n",
              "      <td>0.000687</td>\n",
              "      <td>0.344319</td>\n",
              "      <td>0.941360</td>\n",
              "      <td>04:45</td>\n",
              "    </tr>\n",
              "  </tbody>\n",
              "</table>"
            ]
          },
          "metadata": {}
        }
      ]
    },
    {
      "cell_type": "code",
      "source": [
        "lr /= 2 \n",
        "lg_learner.freeze_to(-3)\n",
        "lg_learner.fit_flat_cos(1, slice(lr/(2.6**4),lr))"
      ],
      "metadata": {
        "colab": {
          "base_uri": "https://localhost:8080/",
          "height": 81
        },
        "id": "z0tLVLfuj7Ji",
        "outputId": "c34ec4fb-1b34-413f-b722-4ffe03950788"
      },
      "execution_count": null,
      "outputs": [
        {
          "output_type": "display_data",
          "data": {
            "text/plain": [
              "<IPython.core.display.HTML object>"
            ],
            "text/html": [
              "\n",
              "<style>\n",
              "    /* Turns off some styling */\n",
              "    progress {\n",
              "        /* gets rid of default border in Firefox and Opera. */\n",
              "        border: none;\n",
              "        /* Needs to be in here for Safari polyfill so background images work as expected. */\n",
              "        background-size: auto;\n",
              "    }\n",
              "    progress:not([value]), progress:not([value])::-webkit-progress-bar {\n",
              "        background: repeating-linear-gradient(45deg, #7e7e7e, #7e7e7e 10px, #5c5c5c 10px, #5c5c5c 20px);\n",
              "    }\n",
              "    .progress-bar-interrupted, .progress-bar-interrupted::-webkit-progress-bar {\n",
              "        background: #F44336;\n",
              "    }\n",
              "</style>\n"
            ]
          },
          "metadata": {}
        },
        {
          "output_type": "display_data",
          "data": {
            "text/plain": [
              "<IPython.core.display.HTML object>"
            ],
            "text/html": [
              "<table border=\"1\" class=\"dataframe\">\n",
              "  <thead>\n",
              "    <tr style=\"text-align: left;\">\n",
              "      <th>epoch</th>\n",
              "      <th>train_loss</th>\n",
              "      <th>valid_loss</th>\n",
              "      <th>accuracy</th>\n",
              "      <th>time</th>\n",
              "    </tr>\n",
              "  </thead>\n",
              "  <tbody>\n",
              "    <tr>\n",
              "      <td>0</td>\n",
              "      <td>0.002583</td>\n",
              "      <td>0.398744</td>\n",
              "      <td>0.938640</td>\n",
              "      <td>04:45</td>\n",
              "    </tr>\n",
              "  </tbody>\n",
              "</table>"
            ]
          },
          "metadata": {}
        }
      ]
    },
    {
      "cell_type": "markdown",
      "source": [
        "We already obtained over 94.1 % accuracy using only the first two training epochs so the model that was obtained here is not saved but discarded."
      ],
      "metadata": {
        "id": "2vt4vjp3LQi2"
      }
    },
    {
      "cell_type": "markdown",
      "source": [
        "### Training (8 epochs only output layer tuning)"
      ],
      "metadata": {
        "id": "Ej44WlLtJQHv"
      }
    },
    {
      "cell_type": "code",
      "source": [
        "lg_learner.freeze_to(-1)\n",
        "lg_learner.lr_find()"
      ],
      "metadata": {
        "id": "7E38QYNxJh7C"
      },
      "execution_count": null,
      "outputs": []
    },
    {
      "cell_type": "code",
      "source": [
        "lr = 4e-5\n",
        "lg_learner.fit_one_cycle(8, lr)"
      ],
      "metadata": {
        "id": "R6eH7x6SJdzN"
      },
      "execution_count": null,
      "outputs": []
    },
    {
      "cell_type": "code",
      "source": [
        "from google.colab import drive\n",
        "drive.mount('/content/drive')\n",
        "# Saving the model\n",
        "lg_learner.save(\"/content/drive/MyDrive/COMP 551/OneLayer_AdamW_FullBERT\")"
      ],
      "metadata": {
        "id": "mbSDUIsxMc5M"
      },
      "execution_count": null,
      "outputs": []
    },
    {
      "cell_type": "markdown",
      "source": [
        "Longer training performed approximately as well as did the training for only 2 epochs before. This model was saved."
      ],
      "metadata": {
        "id": "dYV7nv8sMQHb"
      }
    },
    {
      "cell_type": "markdown",
      "source": [
        "### Training (Tuning whole model unfrozen)"
      ],
      "metadata": {
        "id": "uBtEhuA3JumH"
      }
    },
    {
      "cell_type": "code",
      "source": [
        "lg_learner.lr_find()"
      ],
      "metadata": {
        "colab": {
          "base_uri": "https://localhost:8080/",
          "height": 301
        },
        "outputId": "bcc06ca9-6476-4f96-b3eb-cd6b84b6c931",
        "id": "3O1FHFaBKIjn"
      },
      "execution_count": null,
      "outputs": [
        {
          "output_type": "display_data",
          "data": {
            "text/plain": [
              "<IPython.core.display.HTML object>"
            ],
            "text/html": [
              "\n",
              "<style>\n",
              "    /* Turns off some styling */\n",
              "    progress {\n",
              "        /* gets rid of default border in Firefox and Opera. */\n",
              "        border: none;\n",
              "        /* Needs to be in here for Safari polyfill so background images work as expected. */\n",
              "        background-size: auto;\n",
              "    }\n",
              "    progress:not([value]), progress:not([value])::-webkit-progress-bar {\n",
              "        background: repeating-linear-gradient(45deg, #7e7e7e, #7e7e7e 10px, #5c5c5c 10px, #5c5c5c 20px);\n",
              "    }\n",
              "    .progress-bar-interrupted, .progress-bar-interrupted::-webkit-progress-bar {\n",
              "        background: #F44336;\n",
              "    }\n",
              "</style>\n"
            ]
          },
          "metadata": {}
        },
        {
          "output_type": "display_data",
          "data": {
            "text/plain": [
              "<IPython.core.display.HTML object>"
            ],
            "text/html": []
          },
          "metadata": {}
        },
        {
          "output_type": "execute_result",
          "data": {
            "text/plain": [
              "SuggestedLRs(valley=3.0199516913853586e-05)"
            ]
          },
          "metadata": {},
          "execution_count": 37
        },
        {
          "output_type": "display_data",
          "data": {
            "text/plain": [
              "<Figure size 432x288 with 1 Axes>"
            ],
            "image/png": "[encoded data removed]"
          },
          "metadata": {
            "needs_background": "light"
          }
        }
      ]
    },
    {
      "cell_type": "code",
      "source": [
        "lr = 3e-5 \n",
        "lg_learner.fit_one_cycle(8, lr)"
      ],
      "metadata": {
        "colab": {
          "base_uri": "https://localhost:8080/",
          "height": 300
        },
        "id": "sJTz_YoZkUxr",
        "outputId": "1dd6f38d-6cbe-46f4-efa2-57de32a35e03"
      },
      "execution_count": null,
      "outputs": [
        {
          "output_type": "display_data",
          "data": {
            "text/plain": [
              "<IPython.core.display.HTML object>"
            ],
            "text/html": [
              "\n",
              "<style>\n",
              "    /* Turns off some styling */\n",
              "    progress {\n",
              "        /* gets rid of default border in Firefox and Opera. */\n",
              "        border: none;\n",
              "        /* Needs to be in here for Safari polyfill so background images work as expected. */\n",
              "        background-size: auto;\n",
              "    }\n",
              "    progress:not([value]), progress:not([value])::-webkit-progress-bar {\n",
              "        background: repeating-linear-gradient(45deg, #7e7e7e, #7e7e7e 10px, #5c5c5c 10px, #5c5c5c 20px);\n",
              "    }\n",
              "    .progress-bar-interrupted, .progress-bar-interrupted::-webkit-progress-bar {\n",
              "        background: #F44336;\n",
              "    }\n",
              "</style>\n"
            ]
          },
          "metadata": {}
        },
        {
          "output_type": "display_data",
          "data": {
            "text/plain": [
              "<IPython.core.display.HTML object>"
            ],
            "text/html": [
              "<table border=\"1\" class=\"dataframe\">\n",
              "  <thead>\n",
              "    <tr style=\"text-align: left;\">\n",
              "      <th>epoch</th>\n",
              "      <th>train_loss</th>\n",
              "      <th>valid_loss</th>\n",
              "      <th>accuracy</th>\n",
              "      <th>time</th>\n",
              "    </tr>\n",
              "  </thead>\n",
              "  <tbody>\n",
              "    <tr>\n",
              "      <td>0</td>\n",
              "      <td>0.209903</td>\n",
              "      <td>0.205899</td>\n",
              "      <td>0.917320</td>\n",
              "      <td>04:42</td>\n",
              "    </tr>\n",
              "    <tr>\n",
              "      <td>1</td>\n",
              "      <td>0.188483</td>\n",
              "      <td>0.171685</td>\n",
              "      <td>0.934320</td>\n",
              "      <td>04:42</td>\n",
              "    </tr>\n",
              "    <tr>\n",
              "      <td>2</td>\n",
              "      <td>0.125676</td>\n",
              "      <td>0.165889</td>\n",
              "      <td>0.938440</td>\n",
              "      <td>04:42</td>\n",
              "    </tr>\n",
              "    <tr>\n",
              "      <td>3</td>\n",
              "      <td>0.052229</td>\n",
              "      <td>0.219639</td>\n",
              "      <td>0.938560</td>\n",
              "      <td>04:42</td>\n",
              "    </tr>\n",
              "    <tr>\n",
              "      <td>4</td>\n",
              "      <td>0.033899</td>\n",
              "      <td>0.223253</td>\n",
              "      <td>0.939880</td>\n",
              "      <td>04:42</td>\n",
              "    </tr>\n",
              "    <tr>\n",
              "      <td>5</td>\n",
              "      <td>0.011763</td>\n",
              "      <td>0.284375</td>\n",
              "      <td>0.940480</td>\n",
              "      <td>04:42</td>\n",
              "    </tr>\n",
              "    <tr>\n",
              "      <td>6</td>\n",
              "      <td>0.010143</td>\n",
              "      <td>0.284674</td>\n",
              "      <td>0.941520</td>\n",
              "      <td>04:42</td>\n",
              "    </tr>\n",
              "    <tr>\n",
              "      <td>7</td>\n",
              "      <td>0.003020</td>\n",
              "      <td>0.291741</td>\n",
              "      <td>0.941440</td>\n",
              "      <td>04:42</td>\n",
              "    </tr>\n",
              "  </tbody>\n",
              "</table>"
            ]
          },
          "metadata": {}
        }
      ]
    },
    {
      "cell_type": "code",
      "source": [
        "from google.colab import drive\n",
        "drive.mount('/content/drive')\n",
        "# Saving the model\n",
        "lg_learner.save(\"/content/drive/MyDrive/COMP 551/AdamW_FullBERT\")"
      ],
      "metadata": {
        "colab": {
          "base_uri": "https://localhost:8080/"
        },
        "id": "-Gp42AHwiwRv",
        "outputId": "1d5a038b-2cea-4e4b-d396-7eca2776ecff"
      },
      "execution_count": null,
      "outputs": [
        {
          "output_type": "stream",
          "name": "stdout",
          "text": [
            "Mounted at /content/drive\n"
          ]
        },
        {
          "output_type": "execute_result",
          "data": {
            "text/plain": [
              "Path('/content/drive/MyDrive/COMP 551/AdamW_FullBERT.pth')"
            ]
          },
          "metadata": {},
          "execution_count": 39
        }
      ]
    }
  ]
}