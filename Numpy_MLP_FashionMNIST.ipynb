{
  "cells": [
    {
      "cell_type": "markdown",
      "metadata": {
        "id": "view-in-github",
        "colab_type": "text"
      },
      "source": [
        "<a href=\"https://colab.research.google.com/github/justincharney/Python_Machine_Learning/blob/main/Numpy_MLP_FashionMNIST.ipynb\" target=\"_parent\"><img src=\"https://colab.research.google.com/assets/colab-badge.svg\" alt=\"Open In Colab\"/></a>"
      ]
    },
    {
      "cell_type": "markdown",
      "metadata": {
        "id": "ViFUQDMK-pL_"
      },
      "source": [
        "# Setup Code"
      ]
    },
    {
      "cell_type": "code",
      "execution_count": null,
      "metadata": {
        "colab": {
          "base_uri": "https://localhost:8080/"
        },
        "id": "jmf1GAVpmIci",
        "outputId": "65271338-e1af-4b90-d0c5-006895e919d0"
      },
      "outputs": [
        {
          "output_type": "stream",
          "name": "stdout",
          "text": [
            "Looking in indexes: https://pypi.org/simple, https://us-python.pkg.dev/colab-wheels/public/simple/\n",
            "Collecting chainer\n",
            "  Downloading chainer-7.8.1.tar.gz (1.0 MB)\n",
            "\u001b[K     |████████████████████████████████| 1.0 MB 14.1 MB/s \n",
            "\u001b[?25hRequirement already satisfied: setuptools in /usr/local/lib/python3.8/dist-packages (from chainer) (57.4.0)\n",
            "Requirement already satisfied: typing_extensions in /usr/local/lib/python3.8/dist-packages (from chainer) (4.1.1)\n",
            "Requirement already satisfied: filelock in /usr/local/lib/python3.8/dist-packages (from chainer) (3.8.0)\n",
            "Requirement already satisfied: numpy>=1.9.0 in /usr/local/lib/python3.8/dist-packages (from chainer) (1.21.6)\n",
            "Requirement already satisfied: protobuf>=3.0.0 in /usr/local/lib/python3.8/dist-packages (from chainer) (3.19.6)\n",
            "Requirement already satisfied: six>=1.9.0 in /usr/local/lib/python3.8/dist-packages (from chainer) (1.15.0)\n",
            "Building wheels for collected packages: chainer\n",
            "  Building wheel for chainer (setup.py) ... \u001b[?25l\u001b[?25hdone\n",
            "  Created wheel for chainer: filename=chainer-7.8.1-py3-none-any.whl size=967740 sha256=ab1cd67943048d3d6dabcae248a78b4b3801fec9da1eeaa9e0b6825fba9c21ab\n",
            "  Stored in directory: /root/.cache/pip/wheels/c5/01/d5/3ef194fa83dbf1d97bab826ca2bf235071f412861189a7b9df\n",
            "Successfully built chainer\n",
            "Installing collected packages: chainer\n",
            "Successfully installed chainer-7.8.1\n"
          ]
        }
      ],
      "source": [
        "!pip install chainer"
      ]
    },
    {
      "cell_type": "code",
      "execution_count": null,
      "metadata": {
        "colab": {
          "base_uri": "https://localhost:8080/"
        },
        "id": "jBq7FoaDkvv4",
        "outputId": "4fae5410-fbd0-49e6-e342-4cf4494f805a"
      },
      "outputs": [
        {
          "output_type": "stream",
          "name": "stdout",
          "text": [
            "  % Total    % Received % Xferd  Average Speed   Time    Time     Time  Current\n",
            "                                 Dload  Upload   Total   Spent    Left  Speed\n",
            "\r  0     0    0     0    0     0      0      0 --:--:-- --:--:-- --:--:--     0\r100  1553  100  1553    0     0   6722      0 --:--:-- --:--:-- --:--:--  6722\n",
            "********************************************************************************\n",
            "CUDA version could not be detected!\n",
            "Try installing Chainer manually by: pip install chainer\n",
            "********************************************************************************\n"
          ]
        }
      ],
      "source": [
        "!curl https://colab.chainer.org/install | sh -\n",
        "import cupy as np\n",
        "import numpy\n",
        "%matplotlib inline\n",
        "import matplotlib.pyplot as plt\n",
        "from tqdm import tqdm"
      ]
    },
    {
      "cell_type": "code",
      "execution_count": null,
      "metadata": {
        "id": "Zgivz7V8kanm"
      },
      "outputs": [],
      "source": [
        "from typing import List\n",
        "from sklearn import datasets\n",
        "from sklearn.utils import shuffle"
      ]
    },
    {
      "cell_type": "code",
      "execution_count": null,
      "metadata": {
        "colab": {
          "base_uri": "https://localhost:8080/"
        },
        "id": "oRWMpfG9sWeF",
        "outputId": "c59d38b6-47c7-418d-fa7f-cab07f393e38"
      },
      "outputs": [
        {
          "output_type": "stream",
          "name": "stdout",
          "text": [
            "Downloading data from https://storage.googleapis.com/tensorflow/tf-keras-datasets/train-labels-idx1-ubyte.gz\n",
            "29515/29515 [==============================] - 0s 0us/step\n",
            "Downloading data from https://storage.googleapis.com/tensorflow/tf-keras-datasets/train-images-idx3-ubyte.gz\n",
            "26421880/26421880 [==============================] - 1s 0us/step\n",
            "Downloading data from https://storage.googleapis.com/tensorflow/tf-keras-datasets/t10k-labels-idx1-ubyte.gz\n",
            "5148/5148 [==============================] - 0s 0us/step\n",
            "Downloading data from https://storage.googleapis.com/tensorflow/tf-keras-datasets/t10k-images-idx3-ubyte.gz\n",
            "4422102/4422102 [==============================] - 0s 0us/step\n"
          ]
        }
      ],
      "source": [
        "import tensorflow as tf\n",
        "\n",
        "fashion_mnist = tf.keras.datasets.fashion_mnist\n",
        "\n",
        "(train_images, train_labels), (test_images, test_labels) = fashion_mnist.load_data()"
      ]
    },
    {
      "cell_type": "code",
      "execution_count": null,
      "metadata": {
        "id": "r-yi8NqrjTvz"
      },
      "outputs": [],
      "source": [
        "# normalize training and testing images\n",
        "train_images = train_images/255\n",
        "test_images = test_images/255"
      ]
    },
    {
      "cell_type": "code",
      "execution_count": null,
      "metadata": {
        "id": "JH_XzLBpj2fJ"
      },
      "outputs": [],
      "source": [
        "#categorical\n",
        "train_y = np.eye(10)[train_labels]"
      ]
    },
    {
      "cell_type": "code",
      "execution_count": null,
      "metadata": {
        "id": "rF0mSv8wfwPB"
      },
      "outputs": [],
      "source": [
        "flattened_train_images = np.array([train_images[i,:,:].flatten() for i in range(len(train_images))])\n",
        "flattened_test_images = np.array([test_images[i,:,:].flatten() for i in range(len(test_images))])"
      ]
    },
    {
      "cell_type": "markdown",
      "metadata": {
        "id": "1YME9C-r9I_t"
      },
      "source": [
        "# Part 1 of Assignment 3 for COMP 551\n",
        "\n"
      ]
    },
    {
      "cell_type": "markdown",
      "metadata": {
        "id": "YQLJfPmT4VX3"
      },
      "source": [
        "## Multilayer Perceptron"
      ]
    },
    {
      "cell_type": "code",
      "execution_count": null,
      "metadata": {
        "id": "XbEoL9c79I_y"
      },
      "outputs": [],
      "source": [
        "class NeuralNetLayer:\n",
        "    def __init__(self):\n",
        "        self.gradient = None\n",
        "        self.parameters = None\n",
        "        \n",
        "    def forward(self, x):\n",
        "        raise NotImplementedError\n",
        "\n",
        "    def backward(self, gradient):\n",
        "        raise NotImplementedError"
      ]
    },
    {
      "cell_type": "code",
      "execution_count": null,
      "metadata": {
        "id": "Ybw3AO5H9I_z"
      },
      "outputs": [],
      "source": [
        "class LinearLayer(NeuralNetLayer):\n",
        "    def __init__(self, input_size, output_size):\n",
        "        super().__init__()\n",
        "        np.random.seed(42)\n",
        "        self.ni = input_size\n",
        "        self.no = output_size\n",
        "        self.w = np.random.randn(output_size, input_size)\n",
        "        self.b = np.random.randn(output_size)\n",
        "        self.cur_input = None\n",
        "        self.parameters = [self.w, self.b]\n",
        "\n",
        "    def forward(self, x):\n",
        "        self.cur_input = x\n",
        "        return (self.w[None, :, :] @ x[:, :, None]).squeeze() + self.b\n",
        "\n",
        "    def backward(self, gradient):\n",
        "        assert self.cur_input is not None, \"Must call forward before backward\"\n",
        "        #dw = gradient.dot(self.cur_input)\n",
        "        dw = gradient[:, :, None] @ self.cur_input[:, None, :]\n",
        "        db = gradient\n",
        "        self.gradient = [dw, db]\n",
        "        return gradient.dot(self.w)"
      ]
    },
    {
      "cell_type": "code",
      "execution_count": null,
      "metadata": {
        "id": "fgTFtm6C9I_1"
      },
      "outputs": [],
      "source": [
        "class ReLULayer(NeuralNetLayer):\n",
        "    def __init__(self):\n",
        "        super().__init__()\n",
        "        \n",
        "    def forward(self, x):\n",
        "        self.gradient = np.where(x > 0, 1.0, 0.0)\n",
        "        return np.maximum(0, x)\n",
        "\n",
        "    def backward(self, gradient):\n",
        "        assert self.gradient is not None, \"Must call forward before backward\"\n",
        "        return gradient * self.gradient"
      ]
    },
    {
      "cell_type": "code",
      "execution_count": null,
      "metadata": {
        "id": "K5aOTeggGl5s"
      },
      "outputs": [],
      "source": [
        "class LeakyReLULayer(NeuralNetLayer):\n",
        "  def __init__(self):\n",
        "    super().__init__()\n",
        "  \n",
        "  def forward(self, x, alpha=1e-5):\n",
        "    self.gradient = np.where(x > 0, 1.0, alpha)\n",
        "    return np.where(x > 0, x, x*alpha)\n",
        "  \n",
        "  def backward(self, gradient):\n",
        "    assert self.gradient is not None, \"Must call forward before backward\"\n",
        "    return gradient * self.gradient"
      ]
    },
    {
      "cell_type": "code",
      "execution_count": null,
      "metadata": {
        "id": "ttD59O1VR0HB"
      },
      "outputs": [],
      "source": [
        "class TanhLayer(NeuralNetLayer):\n",
        "  def __init__(self):\n",
        "        super().__init__()\n",
        "        \n",
        "  def forward(self, x):\n",
        "        self.gradient = 1 - np.tanh(x)**2\n",
        "        return np.tanh(x)\n",
        "\n",
        "  def backward(self, gradient):\n",
        "        assert self.gradient is not None, \"Must call forward before backward\"\n",
        "        return gradient * self.gradient"
      ]
    },
    {
      "cell_type": "code",
      "execution_count": null,
      "metadata": {
        "id": "jHZb7r7jUlh4"
      },
      "outputs": [],
      "source": [
        "sigmoid = lambda x: 1/(1 + np.exp(-x))\n",
        "class SigmoidLayer(NeuralNetLayer):\n",
        "  def __init__(self):\n",
        "        super().__init__()\n",
        "        \n",
        "  def forward(self, x):\n",
        "        self.gradient = sigmoid(x)*(1-sigmoid(x))\n",
        "        return sigmoid(x)\n",
        "\n",
        "  def backward(self, gradient):\n",
        "        assert self.gradient is not None, \"Must call forward before backward\"\n",
        "        return gradient * self.gradient"
      ]
    },
    {
      "cell_type": "code",
      "execution_count": null,
      "metadata": {
        "id": "w5tFvpte9I_2"
      },
      "outputs": [],
      "source": [
        "class SoftmaxOutputLayer(NeuralNetLayer):\n",
        "    def __init__(self):\n",
        "        super().__init__()\n",
        "        self.cur_probs = None\n",
        "\n",
        "    def forward(self, x):\n",
        "        z = x - np.max(x, axis=-1, keepdims=True)\n",
        "        numerator = np.exp(z)\n",
        "        denominator = np.sum(numerator, axis=-1, keepdims=True)\n",
        "        softmax = numerator / denominator\n",
        "        self.cur_probs = softmax\n",
        "        return softmax\n",
        "\n",
        "    def backward(self, target):\n",
        "        assert self.cur_probs is not None, \"Must call forward before backward\"\n",
        "        return self.cur_probs - target"
      ]
    },
    {
      "cell_type": "code",
      "execution_count": null,
      "metadata": {
        "id": "TPkva_sG9I_2"
      },
      "outputs": [],
      "source": [
        "class MLP:\n",
        "    def __init__(self, *args):\n",
        "        self.layers = args\n",
        "\n",
        "    def forward(self, x):\n",
        "        for layer in self.layers[0]:\n",
        "            x = layer.forward(x)\n",
        "        return x\n",
        "\n",
        "    def backward(self, target):\n",
        "        derivatives = []\n",
        "        for layer in self.layers[0][::-1]:\n",
        "            target = layer.backward(target)\n",
        "            derivatives.append(target)\n",
        "        return derivatives\n",
        "    \n",
        "    def cost(self, x, y):\n",
        "      out = self.forward(x)\n",
        "      return -np.sum(y * np.log(out + 10**-100)).mean()\n",
        "            \n",
        "    def predict(self, x):\n",
        "      return np.argmax(self.forward(x), axis=1)"
      ]
    },
    {
      "cell_type": "code",
      "execution_count": null,
      "metadata": {
        "id": "8MDXIiET9I_3"
      },
      "outputs": [],
      "source": [
        "class Optimizer:\n",
        "    def __init__(self, net: MLP):\n",
        "        self.net = net\n",
        "\n",
        "    def step(self, wd):\n",
        "        for layer in self.net.layers[0][::-1]:\n",
        "            if layer.parameters is not None:\n",
        "                self.update(layer.parameters, layer.gradient, wd)\n",
        "\n",
        "    def update(self, params, gradient):\n",
        "        raise NotImplementedError\n",
        "\n",
        "class GradientDescentOptimizer(Optimizer):\n",
        "    def __init__(self, net: MLP, lr: float):\n",
        "        super().__init__(net)\n",
        "        self.lr = lr\n",
        "\n",
        "    def update(self, params, gradient, wd):\n",
        "        for (p, g) in zip(params, gradient):\n",
        "          # added l2 norm weight decay term (for SGD we can reparameterize this to be l2 regularization)\n",
        "          p -= self.lr * g.mean(axis=0) + self.lr * wd * p"
      ]
    },
    {
      "cell_type": "code",
      "execution_count": null,
      "metadata": {
        "id": "e7_OdPUf9I_4"
      },
      "outputs": [],
      "source": [
        "from tqdm import tqdm\n",
        "\n",
        "def train(mlp: MLP, optimizer: Optimizer, data_x, data_y, test_x, test_y, epochs, batch_size=-1, wd=0, plot=False):\n",
        "    losses = []\n",
        "    test_accs = []\n",
        "    train_accs = []\n",
        "    np.random.seed(42) # to make mini-batch GD the same every time\n",
        "    for _ in tqdm(range(epochs)):\n",
        "      if batch_size == -1:\n",
        "        predictions = mlp.forward(data_x)\n",
        "        loss =  -np.sum(data_y * np.log(predictions + 10**-100))/predictions.shape[0] #-(data_y * 1e-9*np.log(predictions)).sum(axis=-1).mean()\n",
        "        #print(loss)\n",
        "        losses.append(loss)\n",
        "        mlp.backward(data_y)\n",
        "        optimizer.step(wd)\n",
        "      else:\n",
        "        rng = np.random.default_rng(seed=42)\n",
        "        num_batches = int(np.ceil(np.divide(data_x.shape[0], batch_size)))\n",
        "        xy = np.column_stack((data_x, data_y))\n",
        "        #shuffle x and y\n",
        "        np.random.shuffle(xy)\n",
        "        for start in range(0, data_x.shape[0], batch_size):\n",
        "          stop = start + batch_size\n",
        "          x_batch, y_batch = xy[start:stop, :-10], xy[start:stop, -10:]\n",
        "          predictions = mlp.forward(x_batch)\n",
        "          loss =  -np.sum(y_batch * np.log(predictions + 10**-100)).mean() #/x_batch.shape[0]\n",
        "          losses.append(loss)\n",
        "          mlp.backward(y_batch)\n",
        "          optimizer.step(wd)\n",
        "      #EVAL AFTER EACH EPOCH\n",
        "      test_preds = np.argmax(mlp.forward(test_x), axis=-1)\n",
        "      test_acc = sum(test_preds==np.array(test_y))/len(test_preds)\n",
        "      test_accs.append(test_acc)\n",
        "\n",
        "      train_preds = np.argmax(mlp.forward(data_x), axis=-1)\n",
        "      train_acc = sum(train_preds==np.argmax(data_y, axis=1))/len(train_preds)\n",
        "      train_accs.append(train_acc)\n",
        "\n",
        "    if plot:\n",
        "      figure, axis = plt.subplots(2, 1)\n",
        "      axis[1].plot(np.asnumpy(np.array(train_accs)), label=\"Train Acc\")\n",
        "      axis[1].plot(np.asnumpy(np.array(test_accs)), label=\"Test Acc\")\n",
        "      axis[1].set_ylabel(\"Accuracy\", fontsize= 14)\n",
        "      axis[1].legend(loc=\"upper left\")\n",
        "      axis[0].plot(np.asnumpy(np.array(losses)))\n",
        "      axis[0].text(int(len(losses)*0.7), int(max(losses)/2), f\"Last loss: {losses[-1].round(4)}\", fontsize= 14)\n",
        "      if batch_size == -1:\n",
        "        axis[0].set_xlabel(\"Epoch\", fontsize= 14)\n",
        "        axis[1].set_xlabel(\"Epoch\", fontsize= 14)\n",
        "      else:\n",
        "        axis[0].set_xlabel(\"Updates\", fontsize= 14)\n",
        "        axis[1].set_xlabel(\"Epoch\", fontsize= 14)\n",
        "      axis[0].set_ylabel(\"Cross entropy loss\", fontsize= 14)\n",
        "      plt.show()\n",
        "    return losses"
      ]
    },
    {
      "cell_type": "code",
      "execution_count": null,
      "metadata": {
        "id": "unoDokG0PEJ3"
      },
      "outputs": [],
      "source": [
        "import copy\n",
        "\n",
        "def find_lr(mlp: MLP, optimizer: Optimizer, data_x, data_y, test_x, test_y, epochs, start_lr=-10, end_lr=1e-9, batch_size=10, wd=0):\n",
        "  learning_rates = np.logspace(start_lr, end_lr, num=20).tolist()\n",
        "  lr_losses = []\n",
        "  max_delta_l = 10\n",
        "\n",
        "  for lr in learning_rates:\n",
        "    net = copy.deepcopy(mlp)\n",
        "    opt = optimizer(net, lr)  # intialize the optimizer\n",
        "    l = train(net, opt, data_x, data_y, test_x, test_y, epochs, batch_size=batch_size, wd=wd) # train for a few epochs and record loss\n",
        "    lr_losses.append(float(np.array(l).mean())) # write the losses to a list to record all losses\n",
        "\n",
        "  figure, axis = plt.subplots(2, 1)\n",
        "  axis[0].plot(np.asnumpy(learning_rates), np.asnumpy(lr_losses))\n",
        "  axis[0].set_title('Results for Learning Rate Range Test / Loss Values for Learning Rate')\n",
        "  axis[0].set_xscale('log')\n",
        "  axis[0].set_ylabel('loss')\n",
        "  axis[0].set_xlabel('learning rate (log scale)')\n",
        "\n",
        "  axis[1].plot(numpy.diff(np.asnumpy(learning_rates)), numpy.diff(np.asnumpy(lr_losses)))\n",
        "\n",
        "  axis[1].set_xscale('log')\n",
        "  axis[1].set_ylabel('derivative of loss')\n",
        "  axis[1].set_xlabel('learning rate (log scale)')\n",
        "  plt.show()\n"
      ]
    },
    {
      "cell_type": "code",
      "execution_count": null,
      "metadata": {
        "id": "C5aFKicM_p00"
      },
      "outputs": [],
      "source": [
        "\n",
        "def find_lr_wd(mlp: MLP, optimizer: Optimizer, data_x, data_y, test_x, test_y, epochs, start_lr=-7, end_lr=0, batch_size=10, wds=[1e-2, 1e-3, 1e-4, 1e-5]):\n",
        "  wd_losses = []\n",
        "  learning_rates = np.logspace(start_lr, end_lr, num=20).tolist()\n",
        "  for wd in wds:\n",
        "    lr_losses = []\n",
        "    for lr in learning_rates:\n",
        "      net = copy.deepcopy(mlp)\n",
        "      opt = optimizer(net, lr)  # intialize the optimizer\n",
        "      l = train(net, opt, data_x, data_y, test_x, test_y, epochs, batch_size=batch_size, wd=wd) # train for a few epochs and record loss\n",
        "      lr_losses.append(float(np.array(l).mean())) # write the losses to a list to record all losses\n",
        "    wd_losses.append(lr_losses)\n",
        "  \n",
        "  figure, axis = plt.subplots(2, 1)\n",
        "  for i, ls in enumerate(wd_losses):\n",
        "    axis[0].plot(np.asnumpy(learning_rates), np.asnumpy(ls), label=str(wds[i]))\n",
        "    axis[0].legend(loc=\"upper left\")\n",
        "    axis[1].plot(numpy.diff(np.asnumpy(learning_rates)), numpy.diff(np.asnumpy(ls)), label=str(wds[i]))\n",
        "    axis[1].legend(loc=\"upper left\")\n",
        "  axis[0].set_title('Results for Learning Rate Range Test / Loss Values for Learning Rate with Weight Decay')\n",
        "  axis[0].set_xscale('log')\n",
        "  axis[0].set_ylabel('loss')\n",
        "  axis[0].set_xlabel('learning rate (log scale)')\n",
        "\n",
        "  axis[1].set_xscale('log')\n",
        "  axis[1].set_ylabel('derivative of loss')\n",
        "  axis[1].set_xlabel('learning rate (log scale)')\n",
        "  plt.show()"
      ]
    },
    {
      "cell_type": "markdown",
      "metadata": {
        "id": "zjYUvPh90tpo"
      },
      "source": [
        "# Checking Gradients (for a linear layer)"
      ]
    },
    {
      "cell_type": "markdown",
      "source": [
        "This code was written to check the gradients for a linear layer in a one layer MLP.\n",
        "\n",
        "---\n",
        "\n"
      ],
      "metadata": {
        "id": "hIUFI9EAWfmh"
      }
    },
    {
      "cell_type": "code",
      "execution_count": null,
      "metadata": {
        "colab": {
          "base_uri": "https://localhost:8080/"
        },
        "id": "boRooO4zv03m",
        "outputId": "31313e03-f251-47e2-fe9b-15b1d5fbb34c"
      },
      "outputs": [
        {
          "output_type": "stream",
          "name": "stderr",
          "text": [
            "100%|██████████| 10/10 [00:15<00:00,  1.59s/it]"
          ]
        },
        {
          "output_type": "stream",
          "name": "stdout",
          "text": [
            "[array([[-0.27103421, -1.06179843],\n",
            "       [-0.70129877, -0.72817051]]), array([1.32091744, 0.00896816])]\n",
            "(2, 2)\n"
          ]
        },
        {
          "output_type": "stream",
          "name": "stderr",
          "text": [
            "\n"
          ]
        }
      ],
      "source": [
        "# creation of an example MLP\n",
        "mlp = MLP(\n",
        "    [LinearLayer(2,2)]\n",
        ")\n",
        "opt = GradientDescentOptimizer(mlp, 1e-3)\n",
        "x = numpy.array([[0.25,0.5],[0.75,1]])\n",
        "y = numpy.array([[1,0],[0,1]])\n",
        "\n",
        "train(mlp, opt, np.array(x), np.array(y), np.array(x), np.array(y), epochs=10)\n",
        "out = mlp.forward(np.array(x))\n",
        "grad = mlp.backward(np.array(y))\n",
        "print(mlp.layers[0][0].parameters)\n",
        "print(grad[0].shape) # 2 weights and 2 biases)"
      ]
    },
    {
      "cell_type": "code",
      "execution_count": null,
      "metadata": {
        "id": "Z3_QnCshy2U3"
      },
      "outputs": [],
      "source": [
        "import random\n",
        "def check_gradient(mpl, x, y, h=1e-6, diff_tolerance=1e-5):\n",
        "    for l, layer in enumerate(mlp.layers[0]):\n",
        "      layer0 = copy.deepcopy(layer)\n",
        "      layer1 = copy.deepcopy(layer)\n",
        "      layer2 = copy.deepcopy(layer)\n",
        "      rndstate = random.getstate()\n",
        "      random.setstate(rndstate)\n",
        "\n",
        "      mlp.forward(np.array(x, 'd'))\n",
        "      grad = layer0.backward(np.array(y,'d'))  # Evaluate function value at original point)\n",
        "      layer_shape= layer0.parameters[0].shape\n",
        "\n",
        "      for i in tqdm(range(layer_shape[0])):\n",
        "        for j in range(layer_shape[1]):\n",
        "\n",
        "          random.setstate(rndstate)\n",
        "          xp = copy.deepcopy(x)\n",
        "          xp[i,j] += h\n",
        "          fxp= layer1.forward(np.array(xp, 'd')).get() #f(xp)\n",
        "\n",
        "          random.setstate(rndstate)\n",
        "          xn = copy.deepcopy(x)\n",
        "          xn[i,j] -= h\n",
        "          fxn = layer2.forward(np.array(xn, 'd')).get() #f(xn)\n",
        "          #calculate numerical gradient\n",
        "          numgrad = (fxp[i,i]-fxn[i,i]) / (2*h)\n",
        "        \n",
        "        # Compare gradients\n",
        "          reldiff = abs(numgrad - grad[i,j].get()) / max(1, abs(numgrad), abs(grad[i,j].get()))\n",
        "          if reldiff > diff_tolerance:\n",
        "            print (\"Gradient check failed.\")\n",
        "            print (\"First gradient error found at index %s\" % str((i,j)))\n",
        "            print (f\"Your gradient:{grad[i,j]}\\n Numerical gradient: {numgrad}\")\n",
        "            return\n",
        "\n",
        "        #it.iternext() # Step to next dimension\n",
        "\n",
        "    print (\"Gradient check passed!\")"
      ]
    },
    {
      "cell_type": "code",
      "execution_count": null,
      "metadata": {
        "colab": {
          "base_uri": "https://localhost:8080/"
        },
        "id": "npg1ZBRCPP6a",
        "outputId": "10e0045b-c669-4759-e511-ab4d3f5fea96"
      },
      "outputs": [
        {
          "output_type": "stream",
          "name": "stderr",
          "text": [
            "100%|██████████| 2/2 [00:00<00:00, 277.38it/s]"
          ]
        },
        {
          "output_type": "stream",
          "name": "stdout",
          "text": [
            "Gradient check passed!\n"
          ]
        },
        {
          "output_type": "stream",
          "name": "stderr",
          "text": [
            "\n"
          ]
        }
      ],
      "source": [
        "check_gradient(mlp, x, y)"
      ]
    },
    {
      "cell_type": "markdown",
      "metadata": {
        "id": "sGWbY20T_y54"
      },
      "source": [
        "#Part 3: Experiments"
      ]
    },
    {
      "cell_type": "markdown",
      "metadata": {
        "id": "_4esdCofEvpP"
      },
      "source": [
        "###MLP with no hidden layer this the same as a multi-class perceptron or multiple-regression in A2"
      ]
    },
    {
      "cell_type": "code",
      "execution_count": null,
      "metadata": {
        "id": "CVpOKU5-_2Zz"
      },
      "outputs": [],
      "source": [
        "#GRADIENT_STEPS = 200\n",
        "\n",
        "mlp0 = MLP(\n",
        "    [LinearLayer(784, 10),\n",
        "    SoftmaxOutputLayer()]\n",
        ")"
      ]
    },
    {
      "cell_type": "code",
      "execution_count": null,
      "metadata": {
        "colab": {
          "base_uri": "https://localhost:8080/",
          "height": 639
        },
        "id": "T148AAtXnLm7",
        "outputId": "f7a1697c-9b0b-4b67-a49e-939ca41ede95"
      },
      "outputs": [
        {
          "name": "stderr",
          "output_type": "stream",
          "text": [
            "100%|██████████| 5/5 [00:00<00:00,  8.71it/s]\n",
            "100%|██████████| 5/5 [00:00<00:00,  9.69it/s]\n",
            "100%|██████████| 5/5 [00:00<00:00,  9.59it/s]\n",
            "100%|██████████| 5/5 [00:00<00:00,  6.25it/s]\n",
            "100%|██████████| 5/5 [00:00<00:00,  9.92it/s]\n",
            "100%|██████████| 5/5 [00:00<00:00,  9.70it/s]\n",
            "100%|██████████| 5/5 [00:00<00:00, 10.03it/s]\n",
            "100%|██████████| 5/5 [00:00<00:00,  9.57it/s]\n",
            "100%|██████████| 5/5 [00:00<00:00, 10.15it/s]\n",
            "100%|██████████| 5/5 [00:00<00:00,  9.42it/s]\n",
            "100%|██████████| 5/5 [00:00<00:00, 10.13it/s]\n",
            "100%|██████████| 5/5 [00:00<00:00,  9.78it/s]\n",
            "100%|██████████| 5/5 [00:00<00:00,  9.84it/s]\n",
            "100%|██████████| 5/5 [00:00<00:00,  9.30it/s]\n",
            "100%|██████████| 5/5 [00:00<00:00,  9.60it/s]\n",
            "100%|██████████| 5/5 [00:00<00:00,  9.70it/s]\n",
            "100%|██████████| 5/5 [00:00<00:00,  9.97it/s]\n",
            "100%|██████████| 5/5 [00:00<00:00,  9.89it/s]\n",
            "100%|██████████| 5/5 [00:00<00:00,  9.97it/s]\n",
            "100%|██████████| 5/5 [00:00<00:00,  9.82it/s]\n"
          ]
        },
        {
          "data": {
            "image/png": "[encoded data removed]",
            "text/plain": [
              "<Figure size 432x288 with 2 Axes>"
            ]
          },
          "metadata": {},
          "output_type": "display_data"
        }
      ],
      "source": [
        "# find LR\n",
        "find_lr(mlp0, GradientDescentOptimizer, flattened_train_images, train_y, flattened_test_images, test_labels, epochs=5, batch_size=600)"
      ]
    },
    {
      "cell_type": "code",
      "execution_count": null,
      "metadata": {
        "colab": {
          "base_uri": "https://localhost:8080/",
          "height": 315
        },
        "id": "jJa_t_YOn8Yd",
        "outputId": "ffdbd6e0-1a44-4e70-893f-ce8d4282674a"
      },
      "outputs": [
        {
          "output_type": "stream",
          "name": "stderr",
          "text": [
            "100%|██████████| 100/100 [02:25<00:00,  1.45s/it]\n"
          ]
        },
        {
          "output_type": "display_data",
          "data": {
            "text/plain": [
              "<Figure size 432x288 with 2 Axes>"
            ],
            "image/png": "[encoded data removed]"
          },
          "metadata": {
            "needs_background": "light"
          }
        }
      ],
      "source": [
        "GRADIENT_STEPS = 100\n",
        "\n",
        "mlp0 = MLP(\n",
        "    [LinearLayer(784, 10),\n",
        "    SoftmaxOutputLayer()]\n",
        ")\n",
        "\n",
        "opt0 = GradientDescentOptimizer(mlp0, 6e-3)\n",
        "\n",
        "loss0 = train(mlp0, opt0, flattened_train_images, train_y, flattened_test_images, test_labels, GRADIENT_STEPS, batch_size=600, plot=True)"
      ]
    },
    {
      "cell_type": "code",
      "execution_count": null,
      "metadata": {
        "colab": {
          "base_uri": "https://localhost:8080/"
        },
        "id": "j7BKX3AwEcx7",
        "outputId": "2315d290-8492-4374-c7be-84083cbc0a0b"
      },
      "outputs": [
        {
          "output_type": "stream",
          "name": "stdout",
          "text": [
            "Accuracy: 0.673\n"
          ]
        }
      ],
      "source": [
        "# testing accuracy\n",
        "predictions = mlp0.predict(flattened_test_images)\n",
        "print(f\"Accuracy: {sum(predictions==np.array(test_labels) )/len(predictions)}\")"
      ]
    },
    {
      "cell_type": "markdown",
      "metadata": {
        "id": "8XI-SrunExOf"
      },
      "source": [
        "###MLP with 1 hidden layer of 128 units and ReLU activation function"
      ]
    },
    {
      "cell_type": "code",
      "source": [
        "# testing using our data\n",
        "HIDDEN_SIZE = 128\n",
        "GRADIENT_STEPS = 100\n",
        "\n",
        "mlp1 = MLP(\n",
        "    [LinearLayer(784, HIDDEN_SIZE),\n",
        "    ReLULayer(),\n",
        "    LinearLayer(HIDDEN_SIZE, 10),\n",
        "    SoftmaxOutputLayer()]\n",
        ")"
      ],
      "metadata": {
        "id": "Ei2E0SliY2Ad"
      },
      "execution_count": null,
      "outputs": []
    },
    {
      "cell_type": "code",
      "source": [
        "#find_lr\n",
        "find_lr(mlp1, GradientDescentOptimizer, flattened_train_images, train_y, flattened_test_images, test_labels, epochs=5, batch_size=600)"
      ],
      "metadata": {
        "colab": {
          "base_uri": "https://localhost:8080/",
          "height": 639
        },
        "id": "MdIYVuNzYzEf",
        "outputId": "0e6bb17c-b8ec-430b-94ab-bd2915f28989"
      },
      "execution_count": null,
      "outputs": [
        {
          "output_type": "stream",
          "name": "stderr",
          "text": [
            "100%|██████████| 5/5 [00:10<00:00,  2.13s/it]\n",
            "100%|██████████| 5/5 [00:09<00:00,  1.90s/it]\n",
            "100%|██████████| 5/5 [00:10<00:00,  2.16s/it]\n",
            "100%|██████████| 5/5 [00:13<00:00,  2.67s/it]\n",
            "100%|██████████| 5/5 [00:10<00:00,  2.15s/it]\n",
            "100%|██████████| 5/5 [00:11<00:00,  2.24s/it]\n",
            "100%|██████████| 5/5 [00:10<00:00,  2.12s/it]\n",
            "100%|██████████| 5/5 [00:10<00:00,  2.12s/it]\n",
            "100%|██████████| 5/5 [00:12<00:00,  2.50s/it]\n",
            "100%|██████████| 5/5 [00:09<00:00,  1.98s/it]\n",
            "100%|██████████| 5/5 [00:09<00:00,  1.88s/it]\n",
            "100%|██████████| 5/5 [00:11<00:00,  2.36s/it]\n",
            "100%|██████████| 5/5 [00:11<00:00,  2.35s/it]\n",
            "100%|██████████| 5/5 [00:13<00:00,  2.65s/it]\n",
            "100%|██████████| 5/5 [00:10<00:00,  2.14s/it]\n",
            "100%|██████████| 5/5 [00:10<00:00,  2.10s/it]\n",
            "100%|██████████| 5/5 [00:11<00:00,  2.25s/it]\n",
            "100%|██████████| 5/5 [00:14<00:00,  2.94s/it]\n",
            "100%|██████████| 5/5 [00:10<00:00,  2.14s/it]\n",
            "100%|██████████| 5/5 [00:11<00:00,  2.32s/it]\n"
          ]
        },
        {
          "output_type": "display_data",
          "data": {
            "text/plain": [
              "<Figure size 432x288 with 2 Axes>"
            ],
            "image/png": "[encoded data removed]"
          },
          "metadata": {
            "needs_background": "light"
          }
        }
      ]
    },
    {
      "cell_type": "code",
      "execution_count": null,
      "metadata": {
        "colab": {
          "base_uri": "https://localhost:8080/",
          "height": 303
        },
        "id": "T1M0_7XTE6I0",
        "outputId": "9b2ca501-d28d-43b0-fc17-ca59dd079b97"
      },
      "outputs": [
        {
          "name": "stderr",
          "output_type": "stream",
          "text": [
            "100%|██████████| 100/100 [01:07<00:00,  1.48it/s]\n"
          ]
        },
        {
          "data": {
            "image/png": "[encoded data removed]",
            "text/plain": [
              "<Figure size 432x288 with 1 Axes>"
            ]
          },
          "metadata": {},
          "output_type": "display_data"
        }
      ],
      "source": [
        "# testing using our data\n",
        "HIDDEN_SIZE = 128\n",
        "GRADIENT_STEPS = 100\n",
        "\n",
        "mlp1 = MLP(\n",
        "    [LinearLayer(784, HIDDEN_SIZE),\n",
        "    ReLULayer(),\n",
        "    LinearLayer(HIDDEN_SIZE, 10),\n",
        "    SoftmaxOutputLayer()]\n",
        ")\n",
        "opt1 = GradientDescentOptimizer(mlp1, 8e-4)\n",
        "losses_1 = train(mlp1, opt1, flattened_train_images, train_y, flattened_test_images, test_labels, GRADIENT_STEPS, batch_size=600, plot=True)"
      ]
    },
    {
      "cell_type": "code",
      "execution_count": null,
      "metadata": {
        "colab": {
          "base_uri": "https://localhost:8080/"
        },
        "id": "u9aMPlpNFImF",
        "outputId": "b55b4fd7-a7c9-4e0d-f8b0-45c6cf52a3cf"
      },
      "outputs": [
        {
          "name": "stdout",
          "output_type": "stream",
          "text": [
            "Accuracy: 0.7118\n"
          ]
        }
      ],
      "source": [
        "# testing accuracy\n",
        "predictions = mlp1.predict(flattened_test_images)\n",
        "print(f\"Accuracy: {sum(predictions==np.array(test_labels))/len(predictions)}\")"
      ]
    },
    {
      "cell_type": "markdown",
      "metadata": {
        "id": "75Snl1iSFdEv"
      },
      "source": [
        "###MLP with 2 layers each having 128 units and relu activations"
      ]
    },
    {
      "cell_type": "code",
      "execution_count": null,
      "metadata": {
        "id": "mKecXBFvFl3Q"
      },
      "outputs": [],
      "source": [
        "HIDDEN_SIZE=128\n",
        "#GRADIENT_STEPS = 10\n",
        "\n",
        "mlp2 = MLP(\n",
        "    [LinearLayer(784, HIDDEN_SIZE),\n",
        "    ReLULayer(),\n",
        "    LinearLayer(HIDDEN_SIZE, HIDDEN_SIZE),\n",
        "    ReLULayer(),\n",
        "    LinearLayer(HIDDEN_SIZE, 10),\n",
        "    SoftmaxOutputLayer()]\n",
        ")"
      ]
    },
    {
      "cell_type": "code",
      "execution_count": null,
      "metadata": {
        "colab": {
          "base_uri": "https://localhost:8080/",
          "height": 639
        },
        "id": "KF7sW-jMsfRj",
        "outputId": "94529f62-8f41-4947-c4dc-47065a3c1d31"
      },
      "outputs": [
        {
          "name": "stderr",
          "output_type": "stream",
          "text": [
            "100%|██████████| 5/5 [00:04<00:00,  1.25it/s]\n",
            "100%|██████████| 5/5 [00:03<00:00,  1.28it/s]\n",
            "100%|██████████| 5/5 [00:03<00:00,  1.27it/s]\n",
            "100%|██████████| 5/5 [00:03<00:00,  1.27it/s]\n",
            "100%|██████████| 5/5 [00:03<00:00,  1.27it/s]\n",
            "100%|██████████| 5/5 [00:03<00:00,  1.26it/s]\n",
            "100%|██████████| 5/5 [00:03<00:00,  1.26it/s]\n",
            "100%|██████████| 5/5 [00:04<00:00,  1.23it/s]\n",
            "100%|██████████| 5/5 [00:03<00:00,  1.26it/s]\n",
            "100%|██████████| 5/5 [00:04<00:00,  1.23it/s]\n",
            "100%|██████████| 5/5 [00:03<00:00,  1.27it/s]\n",
            "100%|██████████| 5/5 [00:03<00:00,  1.27it/s]\n",
            "100%|██████████| 5/5 [00:03<00:00,  1.28it/s]\n",
            "100%|██████████| 5/5 [00:03<00:00,  1.28it/s]\n",
            "100%|██████████| 5/5 [00:03<00:00,  1.27it/s]\n",
            "100%|██████████| 5/5 [00:03<00:00,  1.27it/s]\n",
            "100%|██████████| 5/5 [00:03<00:00,  1.29it/s]\n",
            "100%|██████████| 5/5 [00:03<00:00,  1.30it/s]\n",
            "100%|██████████| 5/5 [00:03<00:00,  1.30it/s]\n",
            "100%|██████████| 5/5 [00:03<00:00,  1.30it/s]\n"
          ]
        },
        {
          "data": {
            "image/png": "[encoded data removed]",
            "text/plain": [
              "<Figure size 432x288 with 2 Axes>"
            ]
          },
          "metadata": {},
          "output_type": "display_data"
        }
      ],
      "source": [
        "#find_lr\n",
        "find_lr(mlp2, GradientDescentOptimizer, flattened_train_images, train_y, flattened_test_images, test_labels, epochs=5, batch_size=600)"
      ]
    },
    {
      "cell_type": "code",
      "execution_count": null,
      "metadata": {
        "colab": {
          "base_uri": "https://localhost:8080/",
          "height": 300
        },
        "id": "tO1nBPGAtJkR",
        "outputId": "126ec413-2b72-4421-9da8-65b3720c978e"
      },
      "outputs": [
        {
          "name": "stderr",
          "output_type": "stream",
          "text": [
            "100%|██████████| 100/100 [01:20<00:00,  1.25it/s]\n"
          ]
        },
        {
          "data": {
            "image/png": "[encoded data removed]",
            "text/plain": [
              "<Figure size 432x288 with 1 Axes>"
            ]
          },
          "metadata": {},
          "output_type": "display_data"
        }
      ],
      "source": [
        "HIDDEN_SIZE = 128\n",
        "GRADIENT_STEPS = 100\n",
        "\n",
        "mlp2 = MLP(\n",
        "    LinearLayer(784, HIDDEN_SIZE),\n",
        "    ReLULayer(),\n",
        "    LinearLayer(HIDDEN_SIZE, HIDDEN_SIZE),\n",
        "    ReLULayer(),\n",
        "    LinearLayer(HIDDEN_SIZE, 10),\n",
        "    SoftmaxOutputLayer()\n",
        ")\n",
        "\n",
        "opt2 = GradientDescentOptimizer(mlp2, 1e-2)\n",
        "losses_2 = train(mlp2, opt2, flattened_train_images, train_y, flattened_test_images, test_labels, GRADIENT_STEPS, batch_size=600, plot=True)"
      ]
    },
    {
      "cell_type": "code",
      "execution_count": null,
      "metadata": {
        "colab": {
          "base_uri": "https://localhost:8080/"
        },
        "id": "vPCeQ8jgF7kl",
        "outputId": "97f77477-6e2e-45e0-9ac0-6a620586ae03"
      },
      "outputs": [
        {
          "name": "stdout",
          "output_type": "stream",
          "text": [
            "Accuracy: 0.732\n"
          ]
        }
      ],
      "source": [
        "predictions = mlp2.predict(flattened_test_images)\n",
        "print(f\"Accuracy: {sum(predictions==np.array(test_labels))/len(predictions)}\")"
      ]
    },
    {
      "cell_type": "markdown",
      "metadata": {
        "id": "VSOyZU1CGFCl"
      },
      "source": [
        "###MLP with 2 layers each having 128 units and tanh activations"
      ]
    },
    {
      "cell_type": "code",
      "execution_count": null,
      "metadata": {
        "id": "DsE4l9k4GHaK"
      },
      "outputs": [],
      "source": [
        "HIDDEN_SIZE=128\n",
        "\n",
        "mlp3 = MLP(\n",
        "    [LinearLayer(784, HIDDEN_SIZE),\n",
        "    TanhLayer(),\n",
        "    LinearLayer(HIDDEN_SIZE, HIDDEN_SIZE),\n",
        "    TanhLayer(),\n",
        "    LinearLayer(HIDDEN_SIZE, 10),\n",
        "    SoftmaxOutputLayer()]\n",
        ")"
      ]
    },
    {
      "cell_type": "code",
      "execution_count": null,
      "metadata": {
        "colab": {
          "base_uri": "https://localhost:8080/",
          "height": 639
        },
        "id": "qUpCjeB4u2dZ",
        "outputId": "c2e20615-1013-4ba2-e6f6-95b1d43a5f91"
      },
      "outputs": [
        {
          "name": "stderr",
          "output_type": "stream",
          "text": [
            "100%|██████████| 5/5 [00:05<00:00,  1.01s/it]\n",
            "100%|██████████| 5/5 [00:04<00:00,  1.24it/s]\n",
            "100%|██████████| 5/5 [00:04<00:00,  1.23it/s]\n",
            "100%|██████████| 5/5 [00:04<00:00,  1.23it/s]\n",
            "100%|██████████| 5/5 [00:04<00:00,  1.22it/s]\n",
            "100%|██████████| 5/5 [00:04<00:00,  1.22it/s]\n",
            "100%|██████████| 5/5 [00:04<00:00,  1.22it/s]\n",
            "100%|██████████| 5/5 [00:04<00:00,  1.21it/s]\n",
            "100%|██████████| 5/5 [00:04<00:00,  1.21it/s]\n",
            "100%|██████████| 5/5 [00:04<00:00,  1.22it/s]\n",
            "100%|██████████| 5/5 [00:04<00:00,  1.22it/s]\n",
            "100%|██████████| 5/5 [00:04<00:00,  1.22it/s]\n",
            "100%|██████████| 5/5 [00:04<00:00,  1.23it/s]\n",
            "100%|██████████| 5/5 [00:04<00:00,  1.23it/s]\n",
            "100%|██████████| 5/5 [00:04<00:00,  1.23it/s]\n",
            "100%|██████████| 5/5 [00:04<00:00,  1.23it/s]\n",
            "100%|██████████| 5/5 [00:04<00:00,  1.23it/s]\n",
            "100%|██████████| 5/5 [00:04<00:00,  1.24it/s]\n",
            "100%|██████████| 5/5 [00:04<00:00,  1.24it/s]\n",
            "100%|██████████| 5/5 [00:04<00:00,  1.24it/s]\n"
          ]
        },
        {
          "data": {
            "image/png": "[encoded data removed]",
            "text/plain": [
              "<Figure size 432x288 with 2 Axes>"
            ]
          },
          "metadata": {},
          "output_type": "display_data"
        }
      ],
      "source": [
        "# find lr\n",
        "find_lr(mlp3, GradientDescentOptimizer, flattened_train_images, train_y, flattened_test_images, test_labels, epochs=5, batch_size=600)"
      ]
    },
    {
      "cell_type": "code",
      "execution_count": null,
      "metadata": {
        "colab": {
          "base_uri": "https://localhost:8080/",
          "height": 300
        },
        "id": "nsrwqhiPvUU3",
        "outputId": "225ceb4a-85ac-4364-ca4f-1ac6a757a5c1"
      },
      "outputs": [
        {
          "name": "stderr",
          "output_type": "stream",
          "text": [
            "100%|██████████| 100/100 [01:23<00:00,  1.20it/s]\n"
          ]
        },
        {
          "data": {
            "image/png": "[encoded data removed]",
            "text/plain": [
              "<Figure size 432x288 with 1 Axes>"
            ]
          },
          "metadata": {},
          "output_type": "display_data"
        }
      ],
      "source": [
        "HIDDEN_SIZE=128\n",
        "GRADIENT_STEPS = 100\n",
        "\n",
        "mlp3 = MLP(\n",
        "    [LinearLayer(784, HIDDEN_SIZE),\n",
        "    TanhLayer(),\n",
        "    LinearLayer(HIDDEN_SIZE, HIDDEN_SIZE),\n",
        "    TanhLayer(),\n",
        "    LinearLayer(HIDDEN_SIZE, 10),\n",
        "    SoftmaxOutputLayer()]\n",
        ")\n",
        "opt3 = GradientDescentOptimizer(mlp3, 1e-1)\n",
        "losses_3 = train(mlp3, opt3, flattened_train_images, train_y, flattened_test_images, test_labels, GRADIENT_STEPS, batch_size=600, plot=True)"
      ]
    },
    {
      "cell_type": "code",
      "execution_count": null,
      "metadata": {
        "colab": {
          "base_uri": "https://localhost:8080/"
        },
        "id": "P19xjAnWGbBV",
        "outputId": "7b9e8b8d-5dda-4115-eb94-97c18c8fa8d7"
      },
      "outputs": [
        {
          "name": "stdout",
          "output_type": "stream",
          "text": [
            "Accuracy: 0.7785\n"
          ]
        }
      ],
      "source": [
        "predictions = mlp3.predict(flattened_test_images)\n",
        "print(f\"Accuracy: {sum(predictions==np.array(test_labels))/len(predictions)}\")"
      ]
    },
    {
      "cell_type": "markdown",
      "metadata": {
        "id": "rgsEqk08Ge5y"
      },
      "source": [
        "###MLP with 2 layers each having 128 units and leaky-relu activations"
      ]
    },
    {
      "cell_type": "code",
      "execution_count": null,
      "metadata": {
        "id": "0k_R8aoAZQ9H"
      },
      "outputs": [],
      "source": [
        "HIDDEN_SIZE=128\n",
        "\n",
        "mlp4 = MLP(\n",
        "    [LinearLayer(784, HIDDEN_SIZE),\n",
        "    LeakyReLULayer(),\n",
        "    LinearLayer(HIDDEN_SIZE, HIDDEN_SIZE),\n",
        "    LeakyReLULayer(),\n",
        "    LinearLayer(HIDDEN_SIZE, 10),\n",
        "    SoftmaxOutputLayer()]\n",
        ")"
      ]
    },
    {
      "cell_type": "code",
      "execution_count": null,
      "metadata": {
        "colab": {
          "base_uri": "https://localhost:8080/",
          "height": 639
        },
        "id": "ky1n5NBFwDup",
        "outputId": "ff933a16-5dee-4739-9514-77d8e7e7edd5"
      },
      "outputs": [
        {
          "name": "stderr",
          "output_type": "stream",
          "text": [
            "100%|██████████| 5/5 [00:04<00:00,  1.11it/s]\n",
            "100%|██████████| 5/5 [00:03<00:00,  1.26it/s]\n",
            "100%|██████████| 5/5 [00:03<00:00,  1.26it/s]\n",
            "100%|██████████| 5/5 [00:04<00:00,  1.23it/s]\n",
            "100%|██████████| 5/5 [00:04<00:00,  1.25it/s]\n",
            "100%|██████████| 5/5 [00:04<00:00,  1.25it/s]\n",
            "100%|██████████| 5/5 [00:04<00:00,  1.24it/s]\n",
            "100%|██████████| 5/5 [00:04<00:00,  1.24it/s]\n",
            "100%|██████████| 5/5 [00:04<00:00,  1.24it/s]\n",
            "100%|██████████| 5/5 [00:04<00:00,  1.24it/s]\n",
            "100%|██████████| 5/5 [00:04<00:00,  1.25it/s]\n",
            "100%|██████████| 5/5 [00:04<00:00,  1.25it/s]\n",
            "100%|██████████| 5/5 [00:03<00:00,  1.25it/s]\n",
            "100%|██████████| 5/5 [00:03<00:00,  1.25it/s]\n",
            "100%|██████████| 5/5 [00:03<00:00,  1.26it/s]\n",
            "100%|██████████| 5/5 [00:03<00:00,  1.26it/s]\n",
            "100%|██████████| 5/5 [00:03<00:00,  1.26it/s]\n",
            "100%|██████████| 5/5 [00:03<00:00,  1.29it/s]\n",
            "100%|██████████| 5/5 [00:03<00:00,  1.29it/s]\n",
            "100%|██████████| 5/5 [00:03<00:00,  1.29it/s]\n"
          ]
        },
        {
          "data": {
            "image/png": "[encoded data removed]",
            "text/plain": [
              "<Figure size 432x288 with 2 Axes>"
            ]
          },
          "metadata": {},
          "output_type": "display_data"
        }
      ],
      "source": [
        "# find lr\n",
        "find_lr(mlp4, GradientDescentOptimizer, flattened_train_images, train_y, flattened_test_images, test_labels, epochs=5, batch_size=600)"
      ]
    },
    {
      "cell_type": "code",
      "execution_count": null,
      "metadata": {
        "colab": {
          "base_uri": "https://localhost:8080/",
          "height": 300
        },
        "id": "mvZIk4GNwIOw",
        "outputId": "ee7da6a2-78cf-4f40-b67e-26a80056c64a"
      },
      "outputs": [
        {
          "name": "stderr",
          "output_type": "stream",
          "text": [
            "100%|██████████| 100/100 [01:22<00:00,  1.22it/s]\n"
          ]
        },
        {
          "data": {
            "image/png": "[encoded data removed]",
            "text/plain": [
              "<Figure size 432x288 with 1 Axes>"
            ]
          },
          "metadata": {},
          "output_type": "display_data"
        }
      ],
      "source": [
        "HIDDEN_SIZE=128\n",
        "GRADIENT_STEPS = 100\n",
        "\n",
        "mlp4 = MLP(\n",
        "    [LinearLayer(784, HIDDEN_SIZE),\n",
        "    LeakyReLULayer(),\n",
        "    LinearLayer(HIDDEN_SIZE, HIDDEN_SIZE),\n",
        "    LeakyReLULayer(),\n",
        "    LinearLayer(HIDDEN_SIZE, 10),\n",
        "    SoftmaxOutputLayer()]\n",
        ")\n",
        "\n",
        "opt4 = GradientDescentOptimizer(mlp4, 1e-2)\n",
        "losses_4 = train(mlp4, opt4, flattened_train_images, train_y, flattened_test_images, test_labels, GRADIENT_STEPS, batch_size=600, plot=True)"
      ]
    },
    {
      "cell_type": "code",
      "execution_count": null,
      "metadata": {
        "colab": {
          "base_uri": "https://localhost:8080/"
        },
        "id": "Yr9UI_1Gbzjn",
        "outputId": "8b054eac-d652-42bb-a230-3ace9ab8e8e8"
      },
      "outputs": [
        {
          "name": "stdout",
          "output_type": "stream",
          "text": [
            "Accuracy: 0.7311\n"
          ]
        }
      ],
      "source": [
        "predictions = mlp4.predict(flattened_test_images)\n",
        "print(f\"Accuracy: {sum(predictions==np.array(test_labels))/len(predictions)}\")"
      ]
    },
    {
      "cell_type": "markdown",
      "metadata": {
        "id": "ydZrEfmWdASE"
      },
      "source": [
        "### 2 layer MLP with relu and l2 normalization"
      ]
    },
    {
      "cell_type": "code",
      "execution_count": null,
      "metadata": {
        "id": "0kGDEtvtdHCB"
      },
      "outputs": [],
      "source": [
        "HIDDEN_SIZE=128\n",
        "\n",
        "mlp5 = MLP(\n",
        "    [LinearLayer(784, HIDDEN_SIZE),\n",
        "    ReLULayer(),\n",
        "    LinearLayer(HIDDEN_SIZE, HIDDEN_SIZE),\n",
        "    ReLULayer(),\n",
        "    LinearLayer(HIDDEN_SIZE, 10),\n",
        "    SoftmaxOutputLayer()]\n",
        ")"
      ]
    },
    {
      "cell_type": "code",
      "execution_count": null,
      "metadata": {
        "colab": {
          "base_uri": "https://localhost:8080/",
          "height": 1000
        },
        "id": "GKA85UFPAb5r",
        "outputId": "f6e4898f-ed4f-426e-f0e8-cb335d278053"
      },
      "outputs": [
        {
          "name": "stderr",
          "output_type": "stream",
          "text": [
            "100%|██████████| 5/5 [00:04<00:00,  1.24it/s]\n",
            "100%|██████████| 5/5 [00:03<00:00,  1.26it/s]\n",
            "100%|██████████| 5/5 [00:03<00:00,  1.26it/s]\n",
            "100%|██████████| 5/5 [00:03<00:00,  1.25it/s]\n",
            "100%|██████████| 5/5 [00:03<00:00,  1.26it/s]\n",
            "100%|██████████| 5/5 [00:03<00:00,  1.26it/s]\n",
            "100%|██████████| 5/5 [00:03<00:00,  1.27it/s]\n",
            "100%|██████████| 5/5 [00:03<00:00,  1.27it/s]\n",
            "100%|██████████| 5/5 [00:03<00:00,  1.28it/s]\n",
            "100%|██████████| 5/5 [00:03<00:00,  1.28it/s]\n",
            "100%|██████████| 5/5 [00:03<00:00,  1.28it/s]\n",
            "100%|██████████| 5/5 [00:03<00:00,  1.28it/s]\n",
            "100%|██████████| 5/5 [00:03<00:00,  1.28it/s]\n",
            "100%|██████████| 5/5 [00:03<00:00,  1.29it/s]\n",
            "100%|██████████| 5/5 [00:03<00:00,  1.29it/s]\n",
            "100%|██████████| 5/5 [00:03<00:00,  1.29it/s]\n",
            "100%|██████████| 5/5 [00:03<00:00,  1.29it/s]\n",
            "100%|██████████| 5/5 [00:03<00:00,  1.29it/s]\n",
            "100%|██████████| 5/5 [00:03<00:00,  1.29it/s]\n",
            "100%|██████████| 5/5 [00:03<00:00,  1.29it/s]\n",
            "100%|██████████| 5/5 [00:03<00:00,  1.28it/s]\n",
            "100%|██████████| 5/5 [00:03<00:00,  1.28it/s]\n",
            "100%|██████████| 5/5 [00:03<00:00,  1.27it/s]\n",
            "100%|██████████| 5/5 [00:03<00:00,  1.27it/s]\n",
            "100%|██████████| 5/5 [00:03<00:00,  1.27it/s]\n",
            "100%|██████████| 5/5 [00:03<00:00,  1.27it/s]\n",
            "100%|██████████| 5/5 [00:03<00:00,  1.27it/s]\n",
            "100%|██████████| 5/5 [00:03<00:00,  1.27it/s]\n",
            "100%|██████████| 5/5 [00:03<00:00,  1.28it/s]\n",
            "100%|██████████| 5/5 [00:03<00:00,  1.28it/s]\n",
            "100%|██████████| 5/5 [00:03<00:00,  1.28it/s]\n",
            "100%|██████████| 5/5 [00:03<00:00,  1.28it/s]\n",
            "100%|██████████| 5/5 [00:03<00:00,  1.28it/s]\n",
            "100%|██████████| 5/5 [00:03<00:00,  1.28it/s]\n",
            "100%|██████████| 5/5 [00:03<00:00,  1.28it/s]\n",
            "100%|██████████| 5/5 [00:03<00:00,  1.28it/s]\n",
            "100%|██████████| 5/5 [00:03<00:00,  1.29it/s]\n",
            "100%|██████████| 5/5 [00:03<00:00,  1.29it/s]\n",
            "100%|██████████| 5/5 [00:03<00:00,  1.29it/s]\n",
            "100%|██████████| 5/5 [00:03<00:00,  1.29it/s]\n",
            "100%|██████████| 5/5 [00:03<00:00,  1.28it/s]\n",
            "100%|██████████| 5/5 [00:03<00:00,  1.28it/s]\n",
            "100%|██████████| 5/5 [00:03<00:00,  1.28it/s]\n",
            "100%|██████████| 5/5 [00:03<00:00,  1.28it/s]\n",
            "100%|██████████| 5/5 [00:03<00:00,  1.28it/s]\n",
            "100%|██████████| 5/5 [00:03<00:00,  1.28it/s]\n",
            "100%|██████████| 5/5 [00:03<00:00,  1.28it/s]\n",
            "100%|██████████| 5/5 [00:03<00:00,  1.28it/s]\n",
            "100%|██████████| 5/5 [00:03<00:00,  1.28it/s]\n",
            "100%|██████████| 5/5 [00:03<00:00,  1.28it/s]\n",
            "100%|██████████| 5/5 [00:03<00:00,  1.28it/s]\n",
            "100%|██████████| 5/5 [00:03<00:00,  1.28it/s]\n",
            "100%|██████████| 5/5 [00:03<00:00,  1.28it/s]\n",
            "100%|██████████| 5/5 [00:03<00:00,  1.28it/s]\n",
            "100%|██████████| 5/5 [00:03<00:00,  1.28it/s]\n",
            "100%|██████████| 5/5 [00:03<00:00,  1.28it/s]\n",
            "100%|██████████| 5/5 [00:03<00:00,  1.29it/s]\n",
            "100%|██████████| 5/5 [00:03<00:00,  1.29it/s]\n",
            "100%|██████████| 5/5 [00:03<00:00,  1.29it/s]\n",
            "100%|██████████| 5/5 [00:03<00:00,  1.29it/s]\n",
            "100%|██████████| 5/5 [00:03<00:00,  1.28it/s]\n",
            "100%|██████████| 5/5 [00:03<00:00,  1.28it/s]\n",
            "100%|██████████| 5/5 [00:03<00:00,  1.28it/s]\n",
            "100%|██████████| 5/5 [00:03<00:00,  1.28it/s]\n",
            "100%|██████████| 5/5 [00:03<00:00,  1.28it/s]\n",
            "100%|██████████| 5/5 [00:03<00:00,  1.28it/s]\n",
            "100%|██████████| 5/5 [00:03<00:00,  1.28it/s]\n",
            "100%|██████████| 5/5 [00:03<00:00,  1.28it/s]\n",
            "100%|██████████| 5/5 [00:03<00:00,  1.28it/s]\n",
            "100%|██████████| 5/5 [00:03<00:00,  1.28it/s]\n",
            "100%|██████████| 5/5 [00:03<00:00,  1.28it/s]\n",
            "100%|██████████| 5/5 [00:03<00:00,  1.28it/s]\n",
            "100%|██████████| 5/5 [00:03<00:00,  1.28it/s]\n",
            "100%|██████████| 5/5 [00:03<00:00,  1.28it/s]\n",
            "100%|██████████| 5/5 [00:03<00:00,  1.28it/s]\n",
            "100%|██████████| 5/5 [00:03<00:00,  1.28it/s]\n",
            "100%|██████████| 5/5 [00:03<00:00,  1.29it/s]\n",
            "100%|██████████| 5/5 [00:03<00:00,  1.29it/s]\n",
            "100%|██████████| 5/5 [00:03<00:00,  1.29it/s]\n",
            "100%|██████████| 5/5 [00:03<00:00,  1.29it/s]\n"
          ]
        },
        {
          "data": {
            "image/png": "[encoded data removed]",
            "text/plain": [
              "<Figure size 432x288 with 2 Axes>"
            ]
          },
          "metadata": {},
          "output_type": "display_data"
        }
      ],
      "source": [
        "# find wd\n",
        "find_lr_wd(mlp5, GradientDescentOptimizer, flattened_train_images, train_y, flattened_test_images, test_labels, epochs=5, batch_size=600)"
      ]
    },
    {
      "cell_type": "code",
      "execution_count": null,
      "metadata": {
        "colab": {
          "base_uri": "https://localhost:8080/",
          "height": 300
        },
        "id": "KyGVMI1AB52K",
        "outputId": "1c64b436-946a-4606-999e-14af84fee635"
      },
      "outputs": [
        {
          "name": "stderr",
          "output_type": "stream",
          "text": [
            "100%|██████████| 100/100 [01:20<00:00,  1.24it/s]\n"
          ]
        },
        {
          "data": {
            "image/png": "[encoded data removed]",
            "text/plain": [
              "<Figure size 432x288 with 1 Axes>"
            ]
          },
          "metadata": {},
          "output_type": "display_data"
        }
      ],
      "source": [
        "HIDDEN_SIZE=128\n",
        "GRADIENT_STEPS = 100\n",
        "\n",
        "mlp5 = MLP(\n",
        "    [LinearLayer(784, HIDDEN_SIZE),\n",
        "    ReLULayer(),\n",
        "    LinearLayer(HIDDEN_SIZE, HIDDEN_SIZE),\n",
        "    ReLULayer(),\n",
        "    LinearLayer(HIDDEN_SIZE, 10),\n",
        "    SoftmaxOutputLayer()]\n",
        ")\n",
        "\n",
        "opt5 = GradientDescentOptimizer(mlp5, 5e-3)\n",
        "losses_5 = train(mlp5, opt5, flattened_train_images, train_y, flattened_test_images, test_labels, GRADIENT_STEPS, batch_size=600, plot=True, wd=1e-2)"
      ]
    },
    {
      "cell_type": "code",
      "execution_count": null,
      "metadata": {
        "colab": {
          "base_uri": "https://localhost:8080/"
        },
        "id": "qJEPjDu_kDBw",
        "outputId": "b58220cb-dbe2-4c70-cb76-6b4fcc4d27bd"
      },
      "outputs": [
        {
          "name": "stdout",
          "output_type": "stream",
          "text": [
            "Accuracy: 0.7819\n"
          ]
        }
      ],
      "source": [
        "predictions = mlp5.predict(flattened_test_images)\n",
        "print(f\"Accuracy: {sum(predictions==np.array(test_labels))/len(predictions)}\")"
      ]
    },
    {
      "cell_type": "markdown",
      "metadata": {
        "id": "8NclurGHrtdY"
      },
      "source": [
        "### MLP with 2 layers and ReLU but unormalized images"
      ]
    },
    {
      "cell_type": "code",
      "execution_count": null,
      "metadata": {
        "id": "bpopmq52rz3S"
      },
      "outputs": [],
      "source": [
        "train_images_un = train_images * 255\n",
        "test_images_un = test_images * 255\n",
        "\n",
        "flattened_train_images_un = np.array([train_images_un[i,:,:].flatten() for i in range(len(train_images_un))])\n",
        "flattened_test_images_un = np.array([test_images_un[i,:,:].flatten() for i in range(len(test_images_un))])"
      ]
    },
    {
      "cell_type": "code",
      "execution_count": null,
      "metadata": {
        "id": "IiJ1Q-E0tXVY"
      },
      "outputs": [],
      "source": [
        "train_y = np.array(train_y)"
      ]
    },
    {
      "cell_type": "code",
      "execution_count": null,
      "metadata": {
        "id": "LuCuGFuxshyR"
      },
      "outputs": [],
      "source": [
        "HIDDEN_SIZE = 128\n",
        "GRADIENT_STEPS = 100\n",
        "\n",
        "mlp6 = MLP(\n",
        "    [LinearLayer(784, HIDDEN_SIZE),\n",
        "    ReLULayer(),\n",
        "    LinearLayer(HIDDEN_SIZE, HIDDEN_SIZE),\n",
        "    ReLULayer(),\n",
        "    LinearLayer(HIDDEN_SIZE, 10),\n",
        "    SoftmaxOutputLayer()]\n",
        ")"
      ]
    },
    {
      "cell_type": "code",
      "execution_count": null,
      "metadata": {
        "colab": {
          "base_uri": "https://localhost:8080/",
          "height": 639
        },
        "id": "J5iN6Og8uITq",
        "outputId": "800aaac6-afad-47b4-e1d3-018a82362d30"
      },
      "outputs": [
        {
          "name": "stderr",
          "output_type": "stream",
          "text": [
            "100%|██████████| 5/5 [00:03<00:00,  1.28it/s]\n",
            "100%|██████████| 5/5 [00:03<00:00,  1.30it/s]\n",
            "100%|██████████| 5/5 [00:03<00:00,  1.30it/s]\n",
            "100%|██████████| 5/5 [00:03<00:00,  1.29it/s]\n",
            "100%|██████████| 5/5 [00:03<00:00,  1.29it/s]\n",
            "100%|██████████| 5/5 [00:03<00:00,  1.28it/s]\n",
            "100%|██████████| 5/5 [00:03<00:00,  1.29it/s]\n",
            "100%|██████████| 5/5 [00:03<00:00,  1.28it/s]\n",
            "100%|██████████| 5/5 [00:03<00:00,  1.29it/s]\n",
            "100%|██████████| 5/5 [00:03<00:00,  1.29it/s]\n",
            "100%|██████████| 5/5 [00:03<00:00,  1.28it/s]\n",
            "100%|██████████| 5/5 [00:03<00:00,  1.29it/s]\n",
            "100%|██████████| 5/5 [00:03<00:00,  1.29it/s]\n",
            "100%|██████████| 5/5 [00:03<00:00,  1.29it/s]\n",
            "100%|██████████| 5/5 [00:03<00:00,  1.29it/s]\n",
            "100%|██████████| 5/5 [00:03<00:00,  1.30it/s]\n",
            "100%|██████████| 5/5 [00:03<00:00,  1.30it/s]\n",
            "100%|██████████| 5/5 [00:03<00:00,  1.30it/s]\n",
            "100%|██████████| 5/5 [00:03<00:00,  1.30it/s]\n",
            "100%|██████████| 5/5 [00:03<00:00,  1.30it/s]\n"
          ]
        },
        {
          "data": {
            "image/png": "[encoded data removed]",
            "text/plain": [
              "<Figure size 432x288 with 2 Axes>"
            ]
          },
          "metadata": {},
          "output_type": "display_data"
        }
      ],
      "source": [
        "# find lr\n",
        "find_lr(mlp6, GradientDescentOptimizer, flattened_train_images_un, train_y, flattened_test_images_un, test_labels, epochs=5, batch_size=600)"
      ]
    },
    {
      "cell_type": "code",
      "execution_count": null,
      "metadata": {
        "colab": {
          "base_uri": "https://localhost:8080/",
          "height": 300
        },
        "id": "yYyE-ozQuSxX",
        "outputId": "3251d5be-45fe-4916-ba97-34188680715e"
      },
      "outputs": [
        {
          "name": "stderr",
          "output_type": "stream",
          "text": [
            "100%|██████████| 100/100 [01:18<00:00,  1.27it/s]\n"
          ]
        },
        {
          "data": {
            "image/png": "[encoded data removed]",
            "text/plain": [
              "<Figure size 432x288 with 1 Axes>"
            ]
          },
          "metadata": {},
          "output_type": "display_data"
        }
      ],
      "source": [
        "HIDDEN_SIZE = 128\n",
        "GRADIENT_STEPS = 100\n",
        "\n",
        "mlp6 = MLP(\n",
        "    [LinearLayer(784, HIDDEN_SIZE),\n",
        "    ReLULayer(),\n",
        "    LinearLayer(HIDDEN_SIZE, HIDDEN_SIZE),\n",
        "    ReLULayer(),\n",
        "    LinearLayer(HIDDEN_SIZE, 10),\n",
        "    SoftmaxOutputLayer()]\n",
        ")\n",
        "\n",
        "opt6 = GradientDescentOptimizer(mlp6, 3e-4)\n",
        "losses_6 = train(mlp6, opt6, flattened_train_images_un, train_y, flattened_test_images_un, test_labels, GRADIENT_STEPS, batch_size=600, plot=True)"
      ]
    },
    {
      "cell_type": "code",
      "execution_count": null,
      "metadata": {
        "colab": {
          "base_uri": "https://localhost:8080/"
        },
        "id": "RuPlM8Alsq9z",
        "outputId": "e1ec48bf-81ba-4685-9f3d-3541ce6475df"
      },
      "outputs": [
        {
          "name": "stdout",
          "output_type": "stream",
          "text": [
            "Accuracy: 0.1\n"
          ]
        }
      ],
      "source": [
        "predictions = mlp6.predict(flattened_test_images_un)\n",
        "print(f\"Accuracy: {sum(predictions==np.array(test_labels))/len(predictions)}\")"
      ]
    },
    {
      "cell_type": "markdown",
      "metadata": {
        "id": "Bl0oXDz5v4Yj"
      },
      "source": [
        "#MLP Hyperparameter Tuning"
      ]
    },
    {
      "cell_type": "code",
      "execution_count": null,
      "metadata": {
        "colab": {
          "base_uri": "https://localhost:8080/"
        },
        "id": "PO1bWHbXv9D0",
        "outputId": "58d094e0-4205-4208-b3ef-70b252f6e7ed"
      },
      "outputs": [
        {
          "name": "stdout",
          "output_type": "stream",
          "text": [
            "\u001b[K     |████████████████████████████████| 348 kB 35.6 MB/s \n",
            "\u001b[K     |████████████████████████████████| 81 kB 11.6 MB/s \n",
            "\u001b[K     |████████████████████████████████| 209 kB 69.7 MB/s \n",
            "\u001b[K     |████████████████████████████████| 78 kB 8.6 MB/s \n",
            "\u001b[K     |████████████████████████████████| 50 kB 5.0 MB/s \n",
            "\u001b[K     |████████████████████████████████| 147 kB 72.2 MB/s \n",
            "\u001b[K     |████████████████████████████████| 112 kB 68.4 MB/s \n",
            "\u001b[?25h  Building wheel for pyperclip (setup.py) ... \u001b[?25l\u001b[?25hdone\n"
          ]
        }
      ],
      "source": [
        "!pip install optuna -q"
      ]
    },
    {
      "cell_type": "code",
      "execution_count": null,
      "metadata": {
        "id": "J6QsXy85wOTq"
      },
      "outputs": [],
      "source": [
        "import optuna\n",
        "\n",
        "def model(trial):\n",
        "  n_layers = trial.suggest_int(\"n_layers\", 2, 4)\n",
        "  layers = []\n",
        "\n",
        "  in_features = 784\n",
        "  for i in range(n_layers):\n",
        "    # Suggest the number of units in each layer\n",
        "    out_features = trial.suggest_categorical(\"n_units_l{}\".format(i), [128, 256])\n",
        "    layers.append(LinearLayer(in_features, out_features))\n",
        "    layers.append(TanhLayer())\n",
        "\n",
        "    in_features = out_features\n",
        "  \n",
        "  layers.append(LinearLayer(in_features, 10))\n",
        "  layers.append(SoftmaxOutputLayer())\n",
        "\n",
        "  mlp = MLP(layers)\n",
        "  return mlp\n"
      ]
    },
    {
      "cell_type": "code",
      "execution_count": null,
      "metadata": {
        "id": "UtKK3hU11aCu"
      },
      "outputs": [],
      "source": [
        "def hyperparameters(trial, model):\n",
        "  lr = trial.suggest_float(\"learning_rate\", 1e-5, 9e-1)\n",
        "  wd = trial.suggest_float('regularization', 1e-5, 1e-1)\n",
        "  opt = GradientDescentOptimizer(model, lr)\n",
        "\n",
        "  return wd, opt"
      ]
    },
    {
      "cell_type": "code",
      "execution_count": null,
      "metadata": {
        "id": "dndCenyy26yl"
      },
      "outputs": [],
      "source": [
        "def train_and_eval(model, optimizer, train_x, train_y, test_x, test_y, epochs, wd, trial, batch_size=600):\n",
        "  #TRAIN\n",
        "  for epoch in range(epochs):\n",
        "    num_batches = int(np.ceil(np.divide(train_x.shape[0], batch_size)))\n",
        "    xy = np.column_stack((train_x, train_y))\n",
        "    #shuffle x and y\n",
        "    np.random.shuffle(xy)\n",
        "    for start in range(0, train_x.shape[0], batch_size):\n",
        "      stop = start + batch_size\n",
        "      x_batch, y_batch = xy[start:stop, :-10], xy[start:stop, -10:]\n",
        "      predictions = model.forward(x_batch)\n",
        "      loss =  -np.sum(y_batch * np.log(predictions + 10**-100)).mean() #/x_batch.shape[0]\n",
        "      model.backward(y_batch)\n",
        "      optimizer.step(wd)\n",
        "\n",
        "    #EVAL AFTER EACH EPOCH\n",
        "    preds = np.argmax(model.forward(test_x), axis=1)\n",
        "    acc = sum(preds==np.array(test_y))/len(preds)\n",
        "    \n",
        "    trial.report(acc, epoch)\n",
        "    if trial.should_prune():\n",
        "      raise optuna.exceptions.TrialPruned()\n",
        "  \n",
        "  return acc"
      ]
    },
    {
      "cell_type": "code",
      "execution_count": null,
      "metadata": {
        "id": "095Xyra45GKe"
      },
      "outputs": [],
      "source": [
        "def objective(trial):\n",
        "\n",
        "  m = model(trial)\n",
        "\n",
        "  wd, opt = hyperparameters(trial, m)\n",
        "\n",
        "  acc = train_and_eval(m, opt, flattened_train_images, train_y,\n",
        "                       flattened_test_images, np.array(test_labels), 50,\n",
        "                       wd, trial)\n",
        "  return acc"
      ]
    },
    {
      "cell_type": "code",
      "execution_count": null,
      "metadata": {
        "colab": {
          "base_uri": "https://localhost:8080/"
        },
        "id": "lw3yCoaO6EJG",
        "outputId": "08b51239-d100-4228-f98e-33166759dcd2"
      },
      "outputs": [
        {
          "name": "stderr",
          "output_type": "stream",
          "text": [
            "\u001b[32m[I 2022-12-05 02:41:55,655]\u001b[0m A new study created in memory with name: no-name-ecbd8bcd-872e-4e96-b256-31c18c412c77\u001b[0m\n",
            "\u001b[32m[I 2022-12-05 02:43:23,808]\u001b[0m Trial 0 finished with value: 0.7055 and parameters: {'n_layers': 4, 'n_units_l0': 128, 'n_units_l1': 128, 'n_units_l2': 256, 'n_units_l3': 256, 'learning_rate': 0.01885337953387646, 'regularization': 0.005626888557767642}. Best is trial 0 with value: 0.7055.\u001b[0m\n",
            "\u001b[32m[I 2022-12-05 02:45:13,898]\u001b[0m Trial 1 finished with value: 0.8202 and parameters: {'n_layers': 4, 'n_units_l0': 256, 'n_units_l1': 128, 'n_units_l2': 128, 'n_units_l3': 256, 'learning_rate': 0.3028010290444339, 'regularization': 0.003924862511418764}. Best is trial 1 with value: 0.8202.\u001b[0m\n",
            "\u001b[32m[I 2022-12-05 02:47:03,669]\u001b[0m Trial 2 finished with value: 0.1 and parameters: {'n_layers': 4, 'n_units_l0': 256, 'n_units_l1': 128, 'n_units_l2': 128, 'n_units_l3': 256, 'learning_rate': 0.6336193769505752, 'regularization': 0.09582508731414639}. Best is trial 1 with value: 0.8202.\u001b[0m\n",
            "\u001b[32m[I 2022-12-05 02:48:19,764]\u001b[0m Trial 3 finished with value: 0.6255 and parameters: {'n_layers': 4, 'n_units_l0': 128, 'n_units_l1': 256, 'n_units_l2': 128, 'n_units_l3': 128, 'learning_rate': 0.23052350801144636, 'regularization': 0.0868452829266136}. Best is trial 1 with value: 0.8202.\u001b[0m\n",
            "\u001b[32m[I 2022-12-05 02:49:52,767]\u001b[0m Trial 4 finished with value: 0.837 and parameters: {'n_layers': 4, 'n_units_l0': 128, 'n_units_l1': 256, 'n_units_l2': 256, 'n_units_l3': 128, 'learning_rate': 0.14115865310715814, 'regularization': 0.008934246119715942}. Best is trial 4 with value: 0.837.\u001b[0m\n",
            "\u001b[32m[I 2022-12-05 02:51:32,036]\u001b[0m Trial 5 finished with value: 0.755 and parameters: {'n_layers': 2, 'n_units_l0': 256, 'n_units_l1': 256, 'learning_rate': 0.29091929952394313, 'regularization': 0.036776807491033035}. Best is trial 4 with value: 0.837.\u001b[0m\n",
            "\u001b[32m[I 2022-12-05 02:51:33,185]\u001b[0m Trial 6 pruned. \u001b[0m\n",
            "\u001b[32m[I 2022-12-05 02:53:16,137]\u001b[0m Trial 7 finished with value: 0.7752 and parameters: {'n_layers': 4, 'n_units_l0': 256, 'n_units_l1': 128, 'n_units_l2': 128, 'n_units_l3': 128, 'learning_rate': 0.3509716297043452, 'regularization': 0.012503389750718073}. Best is trial 4 with value: 0.837.\u001b[0m\n",
            "\u001b[32m[I 2022-12-05 02:54:13,486]\u001b[0m Trial 8 finished with value: 0.7219 and parameters: {'n_layers': 2, 'n_units_l0': 128, 'n_units_l1': 256, 'learning_rate': 0.239290652147683, 'regularization': 0.0436540419518333}. Best is trial 4 with value: 0.837.\u001b[0m\n",
            "\u001b[32m[I 2022-12-05 02:56:40,331]\u001b[0m Trial 9 finished with value: 0.7858 and parameters: {'n_layers': 4, 'n_units_l0': 256, 'n_units_l1': 256, 'n_units_l2': 256, 'n_units_l3': 256, 'learning_rate': 0.13929343350151518, 'regularization': 0.03042356351697488}. Best is trial 4 with value: 0.837.\u001b[0m\n",
            "\u001b[32m[I 2022-12-05 02:56:41,971]\u001b[0m Trial 10 pruned. \u001b[0m\n",
            "\u001b[32m[I 2022-12-05 02:56:44,033]\u001b[0m Trial 11 pruned. \u001b[0m\n",
            "\u001b[32m[I 2022-12-05 02:56:45,589]\u001b[0m Trial 12 pruned. \u001b[0m\n",
            "\u001b[32m[I 2022-12-05 02:57:12,355]\u001b[0m Trial 13 pruned. \u001b[0m\n",
            "\u001b[32m[I 2022-12-05 02:57:47,518]\u001b[0m Trial 14 pruned. \u001b[0m\n",
            "\u001b[32m[I 2022-12-05 02:58:01,305]\u001b[0m Trial 15 pruned. \u001b[0m\n",
            "\u001b[32m[I 2022-12-05 02:59:17,950]\u001b[0m Trial 16 finished with value: 0.7942 and parameters: {'n_layers': 4, 'n_units_l0': 128, 'n_units_l1': 128, 'n_units_l2': 256, 'n_units_l3': 128, 'learning_rate': 0.15392280861490665, 'regularization': 0.03101821381062683}. Best is trial 4 with value: 0.837.\u001b[0m\n",
            "\u001b[32m[I 2022-12-05 03:00:57,249]\u001b[0m Trial 17 finished with value: 0.8703 and parameters: {'n_layers': 2, 'n_units_l0': 256, 'n_units_l1': 256, 'learning_rate': 0.5102002641004556, 'regularization': 0.0008630881450338093}. Best is trial 17 with value: 0.8703.\u001b[0m\n",
            "\u001b[32m[I 2022-12-05 03:00:58,416]\u001b[0m Trial 18 pruned. \u001b[0m\n",
            "\u001b[32m[I 2022-12-05 03:02:37,832]\u001b[0m Trial 19 finished with value: 0.7564 and parameters: {'n_layers': 2, 'n_units_l0': 256, 'n_units_l1': 256, 'learning_rate': 0.48431565066498733, 'regularization': 0.010242195178595793}. Best is trial 17 with value: 0.8703.\u001b[0m\n",
            "\u001b[32m[I 2022-12-05 03:02:38,997]\u001b[0m Trial 20 pruned. \u001b[0m\n",
            "\u001b[32m[I 2022-12-05 03:02:43,431]\u001b[0m Trial 21 pruned. \u001b[0m\n",
            "\u001b[32m[I 2022-12-05 03:04:34,832]\u001b[0m Trial 22 finished with value: 0.8408 and parameters: {'n_layers': 3, 'n_units_l0': 256, 'n_units_l1': 256, 'n_units_l2': 128, 'learning_rate': 0.5305664512774302, 'regularization': 0.001353839779430765}. Best is trial 17 with value: 0.8703.\u001b[0m\n",
            "\u001b[32m[I 2022-12-05 03:04:49,629]\u001b[0m Trial 23 pruned. \u001b[0m\n",
            "\u001b[32m[I 2022-12-05 03:06:29,113]\u001b[0m Trial 24 finished with value: 0.8442 and parameters: {'n_layers': 2, 'n_units_l0': 256, 'n_units_l1': 256, 'learning_rate': 0.6776894236203119, 'regularization': 0.0008881529419561118}. Best is trial 17 with value: 0.8703.\u001b[0m\n",
            "\u001b[32m[I 2022-12-05 03:06:33,101]\u001b[0m Trial 25 pruned. \u001b[0m\n",
            "\u001b[32m[I 2022-12-05 03:08:12,376]\u001b[0m Trial 26 finished with value: 0.8598 and parameters: {'n_layers': 2, 'n_units_l0': 256, 'n_units_l1': 256, 'learning_rate': 0.8951309963571761, 'regularization': 0.0005014735310952677}. Best is trial 17 with value: 0.8703.\u001b[0m\n",
            "\u001b[32m[I 2022-12-05 03:08:14,379]\u001b[0m Trial 27 pruned. \u001b[0m\n",
            "\u001b[32m[I 2022-12-05 03:08:16,461]\u001b[0m Trial 28 pruned. \u001b[0m\n",
            "\u001b[32m[I 2022-12-05 03:08:18,469]\u001b[0m Trial 29 pruned. \u001b[0m\n"
          ]
        }
      ],
      "source": [
        "study = optuna.create_study(direction=\"maximize\", sampler=optuna.samplers.TPESampler(), pruner=optuna.pruners.MedianPruner())\n",
        "study.optimize(objective, n_trials=30)"
      ]
    },
    {
      "cell_type": "code",
      "execution_count": null,
      "metadata": {
        "colab": {
          "base_uri": "https://localhost:8080/"
        },
        "id": "tQKP7askB0AN",
        "outputId": "349ab255-204c-46b3-daad-416eda846f34"
      },
      "outputs": [
        {
          "name": "stdout",
          "output_type": "stream",
          "text": [
            "n_layers: 2\n",
            "n_units_l0: 256\n",
            "n_units_l1: 256\n",
            "learning_rate: 0.5102002641004556\n",
            "regularization: 0.0008630881450338093\n"
          ]
        }
      ],
      "source": [
        "best_trial = study.best_trial\n",
        "\n",
        "for key, value in best_trial.params.items():\n",
        "    print(\"{}: {}\".format(key, value))"
      ]
    },
    {
      "cell_type": "code",
      "execution_count": null,
      "metadata": {
        "colab": {
          "base_uri": "https://localhost:8080/",
          "height": 542
        },
        "id": "C3DcX3HhCOAY",
        "outputId": "c08c5c19-56f4-4024-e0bf-866461ea733a"
      },
      "outputs": [
        {
          "data": {
            "text/html": [
              "<html>\n",
              "<head><meta charset=\"utf-8\" /></head>\n",
              "<body>\n",
              "    <div>            <script src=\"https://cdnjs.cloudflare.com/ajax/libs/mathjax/2.7.5/MathJax.js?config=TeX-AMS-MML_SVG\"></script><script type=\"text/javascript\">if (window.MathJax) {MathJax.Hub.Config({SVG: {font: \"STIX-Web\"}});}</script>                <script type=\"text/javascript\">window.PlotlyConfig = {MathJaxConfig: 'local'};</script>\n",
              "        <script src=\"https://cdn.plot.ly/plotly-2.8.3.min.js\"></script>                <div id=\"91c839ab-bf2c-42aa-8cbf-d2532182f348\" class=\"plotly-graph-div\" style=\"height:525px; width:100%;\"></div>            <script type=\"text/javascript\">                                    window.PLOTLYENV=window.PLOTLYENV || {};                                    if (document.getElementById(\"91c839ab-bf2c-42aa-8cbf-d2532182f348\")) {                    Plotly.newPlot(                        \"91c839ab-bf2c-42aa-8cbf-d2532182f348\",                        [{\"dimensions\":[{\"label\":\"Objective Value\",\"range\":[0.1,0.837],\"values\":[0.7942,0.7055,0.6255,0.837,0.7752,0.8202,0.1,0.7858]},{\"label\":\"learning_rate\",\"range\":[0.01885337953387646,0.6336193769505752],\"values\":[0.15392280861490665,0.01885337953387646,0.23052350801144636,0.14115865310715814,0.3509716297043452,0.3028010290444339,0.6336193769505752,0.13929343350151518]},{\"label\":\"n_layers\",\"range\":[4,4],\"values\":[4,4,4,4,4,4,4,4]},{\"label\":\"n_units_l0\",\"range\":[0,1],\"ticktext\":[\"128\",\"256\"],\"tickvals\":[0,1],\"values\":[0,0,0,0,1,1,1,1]},{\"label\":\"n_units_l1\",\"range\":[0,1],\"ticktext\":[\"128\",\"256\"],\"tickvals\":[0,1],\"values\":[0,0,1,1,0,0,0,1]},{\"label\":\"n_units_l2\",\"range\":[0,1],\"ticktext\":[\"128\",\"256\"],\"tickvals\":[0,1],\"values\":[1,1,0,1,0,0,0,1]},{\"label\":\"n_units_l3\",\"range\":[0,1],\"ticktext\":[\"128\",\"256\"],\"tickvals\":[0,1],\"values\":[0,1,0,0,0,1,1,1]},{\"label\":\"regularization\",\"range\":[0.003924862511418764,0.09582508731414639],\"values\":[0.03101821381062683,0.005626888557767642,0.0868452829266136,0.008934246119715942,0.012503389750718073,0.003924862511418764,0.09582508731414639,0.03042356351697488]}],\"labelangle\":30,\"labelside\":\"bottom\",\"line\":{\"color\":[0.7942,0.7055,0.6255,0.837,0.7752,0.8202,0.1,0.7858],\"colorbar\":{\"title\":{\"text\":\"Objective Value\"}},\"colorscale\":[[0.0,\"rgb(247,251,255)\"],[0.125,\"rgb(222,235,247)\"],[0.25,\"rgb(198,219,239)\"],[0.375,\"rgb(158,202,225)\"],[0.5,\"rgb(107,174,214)\"],[0.625,\"rgb(66,146,198)\"],[0.75,\"rgb(33,113,181)\"],[0.875,\"rgb(8,81,156)\"],[1.0,\"rgb(8,48,107)\"]],\"reversescale\":false,\"showscale\":true},\"type\":\"parcoords\"}],                        {\"title\":{\"text\":\"Parallel Coordinate Plot\"},\"template\":{\"data\":{\"bar\":[{\"error_x\":{\"color\":\"#2a3f5f\"},\"error_y\":{\"color\":\"#2a3f5f\"},\"marker\":{\"line\":{\"color\":\"#E5ECF6\",\"width\":0.5},\"pattern\":{\"fillmode\":\"overlay\",\"size\":10,\"solidity\":0.2}},\"type\":\"bar\"}],\"barpolar\":[{\"marker\":{\"line\":{\"color\":\"#E5ECF6\",\"width\":0.5},\"pattern\":{\"fillmode\":\"overlay\",\"size\":10,\"solidity\":0.2}},\"type\":\"barpolar\"}],\"carpet\":[{\"aaxis\":{\"endlinecolor\":\"#2a3f5f\",\"gridcolor\":\"white\",\"linecolor\":\"white\",\"minorgridcolor\":\"white\",\"startlinecolor\":\"#2a3f5f\"},\"baxis\":{\"endlinecolor\":\"#2a3f5f\",\"gridcolor\":\"white\",\"linecolor\":\"white\",\"minorgridcolor\":\"white\",\"startlinecolor\":\"#2a3f5f\"},\"type\":\"carpet\"}],\"choropleth\":[{\"colorbar\":{\"outlinewidth\":0,\"ticks\":\"\"},\"type\":\"choropleth\"}],\"contour\":[{\"colorbar\":{\"outlinewidth\":0,\"ticks\":\"\"},\"colorscale\":[[0.0,\"#0d0887\"],[0.1111111111111111,\"#46039f\"],[0.2222222222222222,\"#7201a8\"],[0.3333333333333333,\"#9c179e\"],[0.4444444444444444,\"#bd3786\"],[0.5555555555555556,\"#d8576b\"],[0.6666666666666666,\"#ed7953\"],[0.7777777777777778,\"#fb9f3a\"],[0.8888888888888888,\"#fdca26\"],[1.0,\"#f0f921\"]],\"type\":\"contour\"}],\"contourcarpet\":[{\"colorbar\":{\"outlinewidth\":0,\"ticks\":\"\"},\"type\":\"contourcarpet\"}],\"heatmap\":[{\"colorbar\":{\"outlinewidth\":0,\"ticks\":\"\"},\"colorscale\":[[0.0,\"#0d0887\"],[0.1111111111111111,\"#46039f\"],[0.2222222222222222,\"#7201a8\"],[0.3333333333333333,\"#9c179e\"],[0.4444444444444444,\"#bd3786\"],[0.5555555555555556,\"#d8576b\"],[0.6666666666666666,\"#ed7953\"],[0.7777777777777778,\"#fb9f3a\"],[0.8888888888888888,\"#fdca26\"],[1.0,\"#f0f921\"]],\"type\":\"heatmap\"}],\"heatmapgl\":[{\"colorbar\":{\"outlinewidth\":0,\"ticks\":\"\"},\"colorscale\":[[0.0,\"#0d0887\"],[0.1111111111111111,\"#46039f\"],[0.2222222222222222,\"#7201a8\"],[0.3333333333333333,\"#9c179e\"],[0.4444444444444444,\"#bd3786\"],[0.5555555555555556,\"#d8576b\"],[0.6666666666666666,\"#ed7953\"],[0.7777777777777778,\"#fb9f3a\"],[0.8888888888888888,\"#fdca26\"],[1.0,\"#f0f921\"]],\"type\":\"heatmapgl\"}],\"histogram\":[{\"marker\":{\"pattern\":{\"fillmode\":\"overlay\",\"size\":10,\"solidity\":0.2}},\"type\":\"histogram\"}],\"histogram2d\":[{\"colorbar\":{\"outlinewidth\":0,\"ticks\":\"\"},\"colorscale\":[[0.0,\"#0d0887\"],[0.1111111111111111,\"#46039f\"],[0.2222222222222222,\"#7201a8\"],[0.3333333333333333,\"#9c179e\"],[0.4444444444444444,\"#bd3786\"],[0.5555555555555556,\"#d8576b\"],[0.6666666666666666,\"#ed7953\"],[0.7777777777777778,\"#fb9f3a\"],[0.8888888888888888,\"#fdca26\"],[1.0,\"#f0f921\"]],\"type\":\"histogram2d\"}],\"histogram2dcontour\":[{\"colorbar\":{\"outlinewidth\":0,\"ticks\":\"\"},\"colorscale\":[[0.0,\"#0d0887\"],[0.1111111111111111,\"#46039f\"],[0.2222222222222222,\"#7201a8\"],[0.3333333333333333,\"#9c179e\"],[0.4444444444444444,\"#bd3786\"],[0.5555555555555556,\"#d8576b\"],[0.6666666666666666,\"#ed7953\"],[0.7777777777777778,\"#fb9f3a\"],[0.8888888888888888,\"#fdca26\"],[1.0,\"#f0f921\"]],\"type\":\"histogram2dcontour\"}],\"mesh3d\":[{\"colorbar\":{\"outlinewidth\":0,\"ticks\":\"\"},\"type\":\"mesh3d\"}],\"parcoords\":[{\"line\":{\"colorbar\":{\"outlinewidth\":0,\"ticks\":\"\"}},\"type\":\"parcoords\"}],\"pie\":[{\"automargin\":true,\"type\":\"pie\"}],\"scatter\":[{\"marker\":{\"colorbar\":{\"outlinewidth\":0,\"ticks\":\"\"}},\"type\":\"scatter\"}],\"scatter3d\":[{\"line\":{\"colorbar\":{\"outlinewidth\":0,\"ticks\":\"\"}},\"marker\":{\"colorbar\":{\"outlinewidth\":0,\"ticks\":\"\"}},\"type\":\"scatter3d\"}],\"scattercarpet\":[{\"marker\":{\"colorbar\":{\"outlinewidth\":0,\"ticks\":\"\"}},\"type\":\"scattercarpet\"}],\"scattergeo\":[{\"marker\":{\"colorbar\":{\"outlinewidth\":0,\"ticks\":\"\"}},\"type\":\"scattergeo\"}],\"scattergl\":[{\"marker\":{\"colorbar\":{\"outlinewidth\":0,\"ticks\":\"\"}},\"type\":\"scattergl\"}],\"scattermapbox\":[{\"marker\":{\"colorbar\":{\"outlinewidth\":0,\"ticks\":\"\"}},\"type\":\"scattermapbox\"}],\"scatterpolar\":[{\"marker\":{\"colorbar\":{\"outlinewidth\":0,\"ticks\":\"\"}},\"type\":\"scatterpolar\"}],\"scatterpolargl\":[{\"marker\":{\"colorbar\":{\"outlinewidth\":0,\"ticks\":\"\"}},\"type\":\"scatterpolargl\"}],\"scatterternary\":[{\"marker\":{\"colorbar\":{\"outlinewidth\":0,\"ticks\":\"\"}},\"type\":\"scatterternary\"}],\"surface\":[{\"colorbar\":{\"outlinewidth\":0,\"ticks\":\"\"},\"colorscale\":[[0.0,\"#0d0887\"],[0.1111111111111111,\"#46039f\"],[0.2222222222222222,\"#7201a8\"],[0.3333333333333333,\"#9c179e\"],[0.4444444444444444,\"#bd3786\"],[0.5555555555555556,\"#d8576b\"],[0.6666666666666666,\"#ed7953\"],[0.7777777777777778,\"#fb9f3a\"],[0.8888888888888888,\"#fdca26\"],[1.0,\"#f0f921\"]],\"type\":\"surface\"}],\"table\":[{\"cells\":{\"fill\":{\"color\":\"#EBF0F8\"},\"line\":{\"color\":\"white\"}},\"header\":{\"fill\":{\"color\":\"#C8D4E3\"},\"line\":{\"color\":\"white\"}},\"type\":\"table\"}]},\"layout\":{\"annotationdefaults\":{\"arrowcolor\":\"#2a3f5f\",\"arrowhead\":0,\"arrowwidth\":1},\"autotypenumbers\":\"strict\",\"coloraxis\":{\"colorbar\":{\"outlinewidth\":0,\"ticks\":\"\"}},\"colorscale\":{\"diverging\":[[0,\"#8e0152\"],[0.1,\"#c51b7d\"],[0.2,\"#de77ae\"],[0.3,\"#f1b6da\"],[0.4,\"#fde0ef\"],[0.5,\"#f7f7f7\"],[0.6,\"#e6f5d0\"],[0.7,\"#b8e186\"],[0.8,\"#7fbc41\"],[0.9,\"#4d9221\"],[1,\"#276419\"]],\"sequential\":[[0.0,\"#0d0887\"],[0.1111111111111111,\"#46039f\"],[0.2222222222222222,\"#7201a8\"],[0.3333333333333333,\"#9c179e\"],[0.4444444444444444,\"#bd3786\"],[0.5555555555555556,\"#d8576b\"],[0.6666666666666666,\"#ed7953\"],[0.7777777777777778,\"#fb9f3a\"],[0.8888888888888888,\"#fdca26\"],[1.0,\"#f0f921\"]],\"sequentialminus\":[[0.0,\"#0d0887\"],[0.1111111111111111,\"#46039f\"],[0.2222222222222222,\"#7201a8\"],[0.3333333333333333,\"#9c179e\"],[0.4444444444444444,\"#bd3786\"],[0.5555555555555556,\"#d8576b\"],[0.6666666666666666,\"#ed7953\"],[0.7777777777777778,\"#fb9f3a\"],[0.8888888888888888,\"#fdca26\"],[1.0,\"#f0f921\"]]},\"colorway\":[\"#636efa\",\"#EF553B\",\"#00cc96\",\"#ab63fa\",\"#FFA15A\",\"#19d3f3\",\"#FF6692\",\"#B6E880\",\"#FF97FF\",\"#FECB52\"],\"font\":{\"color\":\"#2a3f5f\"},\"geo\":{\"bgcolor\":\"white\",\"lakecolor\":\"white\",\"landcolor\":\"#E5ECF6\",\"showlakes\":true,\"showland\":true,\"subunitcolor\":\"white\"},\"hoverlabel\":{\"align\":\"left\"},\"hovermode\":\"closest\",\"mapbox\":{\"style\":\"light\"},\"paper_bgcolor\":\"white\",\"plot_bgcolor\":\"#E5ECF6\",\"polar\":{\"angularaxis\":{\"gridcolor\":\"white\",\"linecolor\":\"white\",\"ticks\":\"\"},\"bgcolor\":\"#E5ECF6\",\"radialaxis\":{\"gridcolor\":\"white\",\"linecolor\":\"white\",\"ticks\":\"\"}},\"scene\":{\"xaxis\":{\"backgroundcolor\":\"#E5ECF6\",\"gridcolor\":\"white\",\"gridwidth\":2,\"linecolor\":\"white\",\"showbackground\":true,\"ticks\":\"\",\"zerolinecolor\":\"white\"},\"yaxis\":{\"backgroundcolor\":\"#E5ECF6\",\"gridcolor\":\"white\",\"gridwidth\":2,\"linecolor\":\"white\",\"showbackground\":true,\"ticks\":\"\",\"zerolinecolor\":\"white\"},\"zaxis\":{\"backgroundcolor\":\"#E5ECF6\",\"gridcolor\":\"white\",\"gridwidth\":2,\"linecolor\":\"white\",\"showbackground\":true,\"ticks\":\"\",\"zerolinecolor\":\"white\"}},\"shapedefaults\":{\"line\":{\"color\":\"#2a3f5f\"}},\"ternary\":{\"aaxis\":{\"gridcolor\":\"white\",\"linecolor\":\"white\",\"ticks\":\"\"},\"baxis\":{\"gridcolor\":\"white\",\"linecolor\":\"white\",\"ticks\":\"\"},\"bgcolor\":\"#E5ECF6\",\"caxis\":{\"gridcolor\":\"white\",\"linecolor\":\"white\",\"ticks\":\"\"}},\"title\":{\"x\":0.05},\"xaxis\":{\"automargin\":true,\"gridcolor\":\"white\",\"linecolor\":\"white\",\"ticks\":\"\",\"title\":{\"standoff\":15},\"zerolinecolor\":\"white\",\"zerolinewidth\":2},\"yaxis\":{\"automargin\":true,\"gridcolor\":\"white\",\"linecolor\":\"white\",\"ticks\":\"\",\"title\":{\"standoff\":15},\"zerolinecolor\":\"white\",\"zerolinewidth\":2}}}},                        {\"responsive\": true}                    ).then(function(){\n",
              "                            \n",
              "var gd = document.getElementById('91c839ab-bf2c-42aa-8cbf-d2532182f348');\n",
              "var x = new MutationObserver(function (mutations, observer) {{\n",
              "        var display = window.getComputedStyle(gd).display;\n",
              "        if (!display || display === 'none') {{\n",
              "            console.log([gd, 'removed!']);\n",
              "            Plotly.purge(gd);\n",
              "            observer.disconnect();\n",
              "        }}\n",
              "}});\n",
              "\n",
              "// Listen for the removal of the full notebook cells\n",
              "var notebookContainer = gd.closest('#notebook-container');\n",
              "if (notebookContainer) {{\n",
              "    x.observe(notebookContainer, {childList: true});\n",
              "}}\n",
              "\n",
              "// Listen for the clearing of the current output cell\n",
              "var outputEl = gd.closest('.output');\n",
              "if (outputEl) {{\n",
              "    x.observe(outputEl, {childList: true});\n",
              "}}\n",
              "\n",
              "                        })                };                            </script>        </div>\n",
              "</body>\n",
              "</html>"
            ]
          },
          "metadata": {},
          "output_type": "display_data"
        }
      ],
      "source": [
        "optuna.visualization.plot_parallel_coordinate(study)"
      ]
    },
    {
      "cell_type": "code",
      "execution_count": null,
      "metadata": {
        "colab": {
          "base_uri": "https://localhost:8080/",
          "height": 542
        },
        "id": "FdCxJMXDCSM-",
        "outputId": "ef13f570-158a-41c9-8a33-95a68529063b"
      },
      "outputs": [
        {
          "data": {
            "text/html": [
              "<html>\n",
              "<head><meta charset=\"utf-8\" /></head>\n",
              "<body>\n",
              "    <div>            <script src=\"https://cdnjs.cloudflare.com/ajax/libs/mathjax/2.7.5/MathJax.js?config=TeX-AMS-MML_SVG\"></script><script type=\"text/javascript\">if (window.MathJax) {MathJax.Hub.Config({SVG: {font: \"STIX-Web\"}});}</script>                <script type=\"text/javascript\">window.PlotlyConfig = {MathJaxConfig: 'local'};</script>\n",
              "        <script src=\"https://cdn.plot.ly/plotly-2.8.3.min.js\"></script>                <div id=\"6a7c655f-e237-44da-bbca-6eb498a90e2b\" class=\"plotly-graph-div\" style=\"height:525px; width:100%;\"></div>            <script type=\"text/javascript\">                                    window.PLOTLYENV=window.PLOTLYENV || {};                                    if (document.getElementById(\"6a7c655f-e237-44da-bbca-6eb498a90e2b\")) {                    Plotly.newPlot(                        \"6a7c655f-e237-44da-bbca-6eb498a90e2b\",                        [{\"cliponaxis\":false,\"hovertemplate\":[\"n_units_l0 (CategoricalDistribution): 0.010067413151025703<extra></extra>\",\"n_units_l1 (CategoricalDistribution): 0.016028783728862614<extra></extra>\",\"n_layers (IntDistribution): 0.029417482728764818<extra></extra>\",\"learning_rate (FloatDistribution): 0.09789186737204751<extra></extra>\",\"regularization (FloatDistribution): 0.8465944530192995<extra></extra>\"],\"marker\":{\"color\":\"rgb(66,146,198)\"},\"orientation\":\"h\",\"text\":[\"0.01\",\"0.02\",\"0.03\",\"0.10\",\"0.85\"],\"textposition\":\"outside\",\"x\":[0.010067413151025703,0.016028783728862614,0.029417482728764818,0.09789186737204751,0.8465944530192995],\"y\":[\"n_units_l0\",\"n_units_l1\",\"n_layers\",\"learning_rate\",\"regularization\"],\"type\":\"bar\"}],                        {\"showlegend\":false,\"title\":{\"text\":\"Hyperparameter Importances\"},\"xaxis\":{\"title\":{\"text\":\"Importance for Objective Value\"}},\"yaxis\":{\"title\":{\"text\":\"Hyperparameter\"}},\"template\":{\"data\":{\"bar\":[{\"error_x\":{\"color\":\"#2a3f5f\"},\"error_y\":{\"color\":\"#2a3f5f\"},\"marker\":{\"line\":{\"color\":\"#E5ECF6\",\"width\":0.5},\"pattern\":{\"fillmode\":\"overlay\",\"size\":10,\"solidity\":0.2}},\"type\":\"bar\"}],\"barpolar\":[{\"marker\":{\"line\":{\"color\":\"#E5ECF6\",\"width\":0.5},\"pattern\":{\"fillmode\":\"overlay\",\"size\":10,\"solidity\":0.2}},\"type\":\"barpolar\"}],\"carpet\":[{\"aaxis\":{\"endlinecolor\":\"#2a3f5f\",\"gridcolor\":\"white\",\"linecolor\":\"white\",\"minorgridcolor\":\"white\",\"startlinecolor\":\"#2a3f5f\"},\"baxis\":{\"endlinecolor\":\"#2a3f5f\",\"gridcolor\":\"white\",\"linecolor\":\"white\",\"minorgridcolor\":\"white\",\"startlinecolor\":\"#2a3f5f\"},\"type\":\"carpet\"}],\"choropleth\":[{\"colorbar\":{\"outlinewidth\":0,\"ticks\":\"\"},\"type\":\"choropleth\"}],\"contour\":[{\"colorbar\":{\"outlinewidth\":0,\"ticks\":\"\"},\"colorscale\":[[0.0,\"#0d0887\"],[0.1111111111111111,\"#46039f\"],[0.2222222222222222,\"#7201a8\"],[0.3333333333333333,\"#9c179e\"],[0.4444444444444444,\"#bd3786\"],[0.5555555555555556,\"#d8576b\"],[0.6666666666666666,\"#ed7953\"],[0.7777777777777778,\"#fb9f3a\"],[0.8888888888888888,\"#fdca26\"],[1.0,\"#f0f921\"]],\"type\":\"contour\"}],\"contourcarpet\":[{\"colorbar\":{\"outlinewidth\":0,\"ticks\":\"\"},\"type\":\"contourcarpet\"}],\"heatmap\":[{\"colorbar\":{\"outlinewidth\":0,\"ticks\":\"\"},\"colorscale\":[[0.0,\"#0d0887\"],[0.1111111111111111,\"#46039f\"],[0.2222222222222222,\"#7201a8\"],[0.3333333333333333,\"#9c179e\"],[0.4444444444444444,\"#bd3786\"],[0.5555555555555556,\"#d8576b\"],[0.6666666666666666,\"#ed7953\"],[0.7777777777777778,\"#fb9f3a\"],[0.8888888888888888,\"#fdca26\"],[1.0,\"#f0f921\"]],\"type\":\"heatmap\"}],\"heatmapgl\":[{\"colorbar\":{\"outlinewidth\":0,\"ticks\":\"\"},\"colorscale\":[[0.0,\"#0d0887\"],[0.1111111111111111,\"#46039f\"],[0.2222222222222222,\"#7201a8\"],[0.3333333333333333,\"#9c179e\"],[0.4444444444444444,\"#bd3786\"],[0.5555555555555556,\"#d8576b\"],[0.6666666666666666,\"#ed7953\"],[0.7777777777777778,\"#fb9f3a\"],[0.8888888888888888,\"#fdca26\"],[1.0,\"#f0f921\"]],\"type\":\"heatmapgl\"}],\"histogram\":[{\"marker\":{\"pattern\":{\"fillmode\":\"overlay\",\"size\":10,\"solidity\":0.2}},\"type\":\"histogram\"}],\"histogram2d\":[{\"colorbar\":{\"outlinewidth\":0,\"ticks\":\"\"},\"colorscale\":[[0.0,\"#0d0887\"],[0.1111111111111111,\"#46039f\"],[0.2222222222222222,\"#7201a8\"],[0.3333333333333333,\"#9c179e\"],[0.4444444444444444,\"#bd3786\"],[0.5555555555555556,\"#d8576b\"],[0.6666666666666666,\"#ed7953\"],[0.7777777777777778,\"#fb9f3a\"],[0.8888888888888888,\"#fdca26\"],[1.0,\"#f0f921\"]],\"type\":\"histogram2d\"}],\"histogram2dcontour\":[{\"colorbar\":{\"outlinewidth\":0,\"ticks\":\"\"},\"colorscale\":[[0.0,\"#0d0887\"],[0.1111111111111111,\"#46039f\"],[0.2222222222222222,\"#7201a8\"],[0.3333333333333333,\"#9c179e\"],[0.4444444444444444,\"#bd3786\"],[0.5555555555555556,\"#d8576b\"],[0.6666666666666666,\"#ed7953\"],[0.7777777777777778,\"#fb9f3a\"],[0.8888888888888888,\"#fdca26\"],[1.0,\"#f0f921\"]],\"type\":\"histogram2dcontour\"}],\"mesh3d\":[{\"colorbar\":{\"outlinewidth\":0,\"ticks\":\"\"},\"type\":\"mesh3d\"}],\"parcoords\":[{\"line\":{\"colorbar\":{\"outlinewidth\":0,\"ticks\":\"\"}},\"type\":\"parcoords\"}],\"pie\":[{\"automargin\":true,\"type\":\"pie\"}],\"scatter\":[{\"marker\":{\"colorbar\":{\"outlinewidth\":0,\"ticks\":\"\"}},\"type\":\"scatter\"}],\"scatter3d\":[{\"line\":{\"colorbar\":{\"outlinewidth\":0,\"ticks\":\"\"}},\"marker\":{\"colorbar\":{\"outlinewidth\":0,\"ticks\":\"\"}},\"type\":\"scatter3d\"}],\"scattercarpet\":[{\"marker\":{\"colorbar\":{\"outlinewidth\":0,\"ticks\":\"\"}},\"type\":\"scattercarpet\"}],\"scattergeo\":[{\"marker\":{\"colorbar\":{\"outlinewidth\":0,\"ticks\":\"\"}},\"type\":\"scattergeo\"}],\"scattergl\":[{\"marker\":{\"colorbar\":{\"outlinewidth\":0,\"ticks\":\"\"}},\"type\":\"scattergl\"}],\"scattermapbox\":[{\"marker\":{\"colorbar\":{\"outlinewidth\":0,\"ticks\":\"\"}},\"type\":\"scattermapbox\"}],\"scatterpolar\":[{\"marker\":{\"colorbar\":{\"outlinewidth\":0,\"ticks\":\"\"}},\"type\":\"scatterpolar\"}],\"scatterpolargl\":[{\"marker\":{\"colorbar\":{\"outlinewidth\":0,\"ticks\":\"\"}},\"type\":\"scatterpolargl\"}],\"scatterternary\":[{\"marker\":{\"colorbar\":{\"outlinewidth\":0,\"ticks\":\"\"}},\"type\":\"scatterternary\"}],\"surface\":[{\"colorbar\":{\"outlinewidth\":0,\"ticks\":\"\"},\"colorscale\":[[0.0,\"#0d0887\"],[0.1111111111111111,\"#46039f\"],[0.2222222222222222,\"#7201a8\"],[0.3333333333333333,\"#9c179e\"],[0.4444444444444444,\"#bd3786\"],[0.5555555555555556,\"#d8576b\"],[0.6666666666666666,\"#ed7953\"],[0.7777777777777778,\"#fb9f3a\"],[0.8888888888888888,\"#fdca26\"],[1.0,\"#f0f921\"]],\"type\":\"surface\"}],\"table\":[{\"cells\":{\"fill\":{\"color\":\"#EBF0F8\"},\"line\":{\"color\":\"white\"}},\"header\":{\"fill\":{\"color\":\"#C8D4E3\"},\"line\":{\"color\":\"white\"}},\"type\":\"table\"}]},\"layout\":{\"annotationdefaults\":{\"arrowcolor\":\"#2a3f5f\",\"arrowhead\":0,\"arrowwidth\":1},\"autotypenumbers\":\"strict\",\"coloraxis\":{\"colorbar\":{\"outlinewidth\":0,\"ticks\":\"\"}},\"colorscale\":{\"diverging\":[[0,\"#8e0152\"],[0.1,\"#c51b7d\"],[0.2,\"#de77ae\"],[0.3,\"#f1b6da\"],[0.4,\"#fde0ef\"],[0.5,\"#f7f7f7\"],[0.6,\"#e6f5d0\"],[0.7,\"#b8e186\"],[0.8,\"#7fbc41\"],[0.9,\"#4d9221\"],[1,\"#276419\"]],\"sequential\":[[0.0,\"#0d0887\"],[0.1111111111111111,\"#46039f\"],[0.2222222222222222,\"#7201a8\"],[0.3333333333333333,\"#9c179e\"],[0.4444444444444444,\"#bd3786\"],[0.5555555555555556,\"#d8576b\"],[0.6666666666666666,\"#ed7953\"],[0.7777777777777778,\"#fb9f3a\"],[0.8888888888888888,\"#fdca26\"],[1.0,\"#f0f921\"]],\"sequentialminus\":[[0.0,\"#0d0887\"],[0.1111111111111111,\"#46039f\"],[0.2222222222222222,\"#7201a8\"],[0.3333333333333333,\"#9c179e\"],[0.4444444444444444,\"#bd3786\"],[0.5555555555555556,\"#d8576b\"],[0.6666666666666666,\"#ed7953\"],[0.7777777777777778,\"#fb9f3a\"],[0.8888888888888888,\"#fdca26\"],[1.0,\"#f0f921\"]]},\"colorway\":[\"#636efa\",\"#EF553B\",\"#00cc96\",\"#ab63fa\",\"#FFA15A\",\"#19d3f3\",\"#FF6692\",\"#B6E880\",\"#FF97FF\",\"#FECB52\"],\"font\":{\"color\":\"#2a3f5f\"},\"geo\":{\"bgcolor\":\"white\",\"lakecolor\":\"white\",\"landcolor\":\"#E5ECF6\",\"showlakes\":true,\"showland\":true,\"subunitcolor\":\"white\"},\"hoverlabel\":{\"align\":\"left\"},\"hovermode\":\"closest\",\"mapbox\":{\"style\":\"light\"},\"paper_bgcolor\":\"white\",\"plot_bgcolor\":\"#E5ECF6\",\"polar\":{\"angularaxis\":{\"gridcolor\":\"white\",\"linecolor\":\"white\",\"ticks\":\"\"},\"bgcolor\":\"#E5ECF6\",\"radialaxis\":{\"gridcolor\":\"white\",\"linecolor\":\"white\",\"ticks\":\"\"}},\"scene\":{\"xaxis\":{\"backgroundcolor\":\"#E5ECF6\",\"gridcolor\":\"white\",\"gridwidth\":2,\"linecolor\":\"white\",\"showbackground\":true,\"ticks\":\"\",\"zerolinecolor\":\"white\"},\"yaxis\":{\"backgroundcolor\":\"#E5ECF6\",\"gridcolor\":\"white\",\"gridwidth\":2,\"linecolor\":\"white\",\"showbackground\":true,\"ticks\":\"\",\"zerolinecolor\":\"white\"},\"zaxis\":{\"backgroundcolor\":\"#E5ECF6\",\"gridcolor\":\"white\",\"gridwidth\":2,\"linecolor\":\"white\",\"showbackground\":true,\"ticks\":\"\",\"zerolinecolor\":\"white\"}},\"shapedefaults\":{\"line\":{\"color\":\"#2a3f5f\"}},\"ternary\":{\"aaxis\":{\"gridcolor\":\"white\",\"linecolor\":\"white\",\"ticks\":\"\"},\"baxis\":{\"gridcolor\":\"white\",\"linecolor\":\"white\",\"ticks\":\"\"},\"bgcolor\":\"#E5ECF6\",\"caxis\":{\"gridcolor\":\"white\",\"linecolor\":\"white\",\"ticks\":\"\"}},\"title\":{\"x\":0.05},\"xaxis\":{\"automargin\":true,\"gridcolor\":\"white\",\"linecolor\":\"white\",\"ticks\":\"\",\"title\":{\"standoff\":15},\"zerolinecolor\":\"white\",\"zerolinewidth\":2},\"yaxis\":{\"automargin\":true,\"gridcolor\":\"white\",\"linecolor\":\"white\",\"ticks\":\"\",\"title\":{\"standoff\":15},\"zerolinecolor\":\"white\",\"zerolinewidth\":2}}}},                        {\"responsive\": true}                    ).then(function(){\n",
              "                            \n",
              "var gd = document.getElementById('6a7c655f-e237-44da-bbca-6eb498a90e2b');\n",
              "var x = new MutationObserver(function (mutations, observer) {{\n",
              "        var display = window.getComputedStyle(gd).display;\n",
              "        if (!display || display === 'none') {{\n",
              "            console.log([gd, 'removed!']);\n",
              "            Plotly.purge(gd);\n",
              "            observer.disconnect();\n",
              "        }}\n",
              "}});\n",
              "\n",
              "// Listen for the removal of the full notebook cells\n",
              "var notebookContainer = gd.closest('#notebook-container');\n",
              "if (notebookContainer) {{\n",
              "    x.observe(notebookContainer, {childList: true});\n",
              "}}\n",
              "\n",
              "// Listen for the clearing of the current output cell\n",
              "var outputEl = gd.closest('.output');\n",
              "if (outputEl) {{\n",
              "    x.observe(outputEl, {childList: true});\n",
              "}}\n",
              "\n",
              "                        })                };                            </script>        </div>\n",
              "</body>\n",
              "</html>"
            ]
          },
          "metadata": {},
          "output_type": "display_data"
        }
      ],
      "source": [
        "optuna.visualization.plot_param_importances(study)"
      ]
    },
    {
      "cell_type": "markdown",
      "metadata": {
        "id": "Op-F0mXXhXl9"
      },
      "source": [
        "###Train Optimized MLP"
      ]
    },
    {
      "cell_type": "code",
      "execution_count": null,
      "metadata": {
        "colab": {
          "base_uri": "https://localhost:8080/",
          "height": 315
        },
        "id": "FjONHxxKha4N",
        "outputId": "69bef726-bf37-4ee9-db65-d37e437b5b74"
      },
      "outputs": [
        {
          "output_type": "stream",
          "name": "stderr",
          "text": [
            "100%|██████████| 100/100 [05:30<00:00,  3.30s/it]\n"
          ]
        },
        {
          "output_type": "display_data",
          "data": {
            "text/plain": [
              "<Figure size 432x288 with 2 Axes>"
            ],
            "image/png": "[encoded data removed]"
          },
          "metadata": {
            "needs_background": "light"
          }
        }
      ],
      "source": [
        "HIDDEN_SIZE=256\n",
        "GRADIENT_STEPS = 100\n",
        "\n",
        "mlp_f = MLP(\n",
        "    [LinearLayer(784, HIDDEN_SIZE),\n",
        "    TanhLayer(),\n",
        "    LinearLayer(HIDDEN_SIZE, HIDDEN_SIZE),\n",
        "    TanhLayer(),\n",
        "    LinearLayer(HIDDEN_SIZE, 10),\n",
        "    SoftmaxOutputLayer()]\n",
        ")\n",
        "\n",
        "opt_f = GradientDescentOptimizer(mlp_f, 0.5102002641004556)\n",
        "losses_f = train(mlp_f, opt_f, flattened_train_images, np.array(train_y), flattened_test_images, np.array(test_labels), GRADIENT_STEPS, batch_size=600, plot=True, wd=0.0008630881450338093)"
      ]
    },
    {
      "cell_type": "code",
      "execution_count": null,
      "metadata": {
        "colab": {
          "base_uri": "https://localhost:8080/"
        },
        "id": "3cJDaK5Yifcn",
        "outputId": "327c7b6c-3d1a-4d55-b9d5-65feeca21b76"
      },
      "outputs": [
        {
          "output_type": "stream",
          "name": "stdout",
          "text": [
            "Accuracy: 0.87\n"
          ]
        }
      ],
      "source": [
        "predictions = mlp_f.predict(flattened_test_images)\n",
        "print(f\"Accuracy: {sum(predictions==np.array(test_labels))/len(predictions)}\")"
      ]
    },
    {
      "cell_type": "markdown",
      "metadata": {
        "id": "L3StRRcZpSEx"
      },
      "source": [
        "#CNN"
      ]
    },
    {
      "cell_type": "code",
      "execution_count": null,
      "metadata": {
        "id": "o2SV114KpUeG"
      },
      "outputs": [],
      "source": [
        "from keras import datasets, layers, models, optimizers\n",
        "from keras.callbacks import EarlyStopping, ReduceLROnPlateau"
      ]
    },
    {
      "cell_type": "code",
      "execution_count": null,
      "metadata": {
        "id": "Fg_zH8BQfeFh"
      },
      "outputs": [],
      "source": [
        "def objective(trial):\n",
        "  input_shape = (28, 28, 1)\n",
        "  dropout = trial.suggest_categorical('dropout before MLP', [0, 1])\n",
        "\n",
        "  model = models.Sequential()\n",
        "  model.add(\n",
        "      layers.Conv2D(filters=trial.suggest_categorical('filters', [32, 64]),\n",
        "               kernel_size=trial.suggest_categorical('kernel_size', [3, 5, 7]),\n",
        "               dilation_rate=trial.suggest_categorical('dilation', [1, 2, 3]),\n",
        "               activation='relu',\n",
        "               padding='same',\n",
        "               input_shape=(28,28,1)))\n",
        "  model.add(layers.MaxPool2D(padding='same'))\n",
        "  model.add(\n",
        "      layers.Conv2D(filters=trial.suggest_categorical('filters_2', [32, 64]),\n",
        "               kernel_size=trial.suggest_categorical('kernel_size_2', [3, 5, 7]),\n",
        "               dilation_rate=trial.suggest_categorical('dilation_2', [1, 2, 3]),\n",
        "               activation='relu',\n",
        "               padding='same'))\n",
        "  model.add(layers.MaxPool2D(padding='same'))\n",
        "  if dropout == 1:\n",
        "    model.add(layers.Dropout(0.2))\n",
        "  model.add(layers.Flatten())\n",
        "  model.add(layers.Dense(128, activation = 'relu'))\n",
        "  model.add(layers.Dense(128, activation = 'relu'))\n",
        "  model.add(layers.Dense(10, activation='softmax'))\n",
        "\n",
        "  # We compile our model with a sampled learning rate.\n",
        "  lr = trial.suggest_float('lr', 1e-5, 1e-1, log=True)\n",
        "  model.compile(loss='categorical_crossentropy', optimizer=optimizers.Adam(lr), metrics=['accuracy'])\n",
        "\n",
        "  #define early stopping and reduce lr\n",
        "  early_stopping = EarlyStopping(monitor = 'val_loss',min_delta = 0, patience = 3,verbose = 0,mode = 'auto');\n",
        "  reduce_lr = ReduceLROnPlateau(monitor = 'val_loss', factor = 0.1, mode='auto', min_lr=1e-5)\n",
        "\n",
        "  h = model.fit(train_images, train_y, validation_data=(test_images, numpy.eye(10)[test_labels]), epochs=5, batch_size=64,\n",
        "          callbacks = [early_stopping, reduce_lr], verbose=0)\n",
        "  \n",
        "  val_accuracy = numpy.min(h.history['val_accuracy'])\n",
        "\n",
        "  return val_accuracy"
      ]
    },
    {
      "cell_type": "code",
      "execution_count": null,
      "metadata": {
        "colab": {
          "base_uri": "https://localhost:8080/"
        },
        "id": "pRvxwDq5pEPB",
        "outputId": "7db21d05-c33c-44ae-e6b6-ad829adbf322"
      },
      "outputs": [
        {
          "name": "stderr",
          "output_type": "stream",
          "text": [
            "\u001b[32m[I 2022-12-05 14:40:29,009]\u001b[0m A new study created in memory with name: no-name-5a60bd13-c435-4807-ae8a-6b889c4c8e8b\u001b[0m\n",
            "\u001b[32m[I 2022-12-05 14:41:10,716]\u001b[0m Trial 0 finished with value: 0.8080000281333923 and parameters: {'dropout before MLP': 1, 'filters': 32, 'kernel_size': 3, 'dilation': 2, 'filters_2': 32, 'kernel_size_2': 7, 'dilation_2': 3, 'lr': 0.024931988699404925}. Best is trial 0 with value: 0.8080000281333923.\u001b[0m\n",
            "\u001b[32m[I 2022-12-05 14:41:55,188]\u001b[0m Trial 1 finished with value: 0.8773000240325928 and parameters: {'dropout before MLP': 1, 'filters': 64, 'kernel_size': 5, 'dilation': 2, 'filters_2': 64, 'kernel_size_2': 7, 'dilation_2': 2, 'lr': 0.004314541592559897}. Best is trial 1 with value: 0.8773000240325928.\u001b[0m\n",
            "\u001b[32m[I 2022-12-05 14:42:37,283]\u001b[0m Trial 2 finished with value: 0.8654999732971191 and parameters: {'dropout before MLP': 0, 'filters': 64, 'kernel_size': 3, 'dilation': 3, 'filters_2': 64, 'kernel_size_2': 5, 'dilation_2': 2, 'lr': 0.0009939297268112784}. Best is trial 1 with value: 0.8773000240325928.\u001b[0m\n",
            "\u001b[32m[I 2022-12-05 14:43:18,950]\u001b[0m Trial 3 finished with value: 0.777899980545044 and parameters: {'dropout before MLP': 0, 'filters': 64, 'kernel_size': 7, 'dilation': 3, 'filters_2': 64, 'kernel_size_2': 3, 'dilation_2': 1, 'lr': 6.349090505875594e-05}. Best is trial 1 with value: 0.8773000240325928.\u001b[0m\n",
            "\u001b[32m[I 2022-12-05 14:43:44,986]\u001b[0m Trial 4 finished with value: 0.6987000107765198 and parameters: {'dropout before MLP': 1, 'filters': 64, 'kernel_size': 7, 'dilation': 3, 'filters_2': 32, 'kernel_size_2': 3, 'dilation_2': 1, 'lr': 1.0948100562432973e-05}. Best is trial 1 with value: 0.8773000240325928.\u001b[0m\n",
            "\u001b[32m[I 2022-12-05 14:44:11,213]\u001b[0m Trial 5 finished with value: 0.8443999886512756 and parameters: {'dropout before MLP': 0, 'filters': 32, 'kernel_size': 7, 'dilation': 3, 'filters_2': 64, 'kernel_size_2': 5, 'dilation_2': 2, 'lr': 0.0005426306340992428}. Best is trial 1 with value: 0.8773000240325928.\u001b[0m\n",
            "\u001b[32m[I 2022-12-05 14:44:32,359]\u001b[0m Trial 6 finished with value: 0.8687000274658203 and parameters: {'dropout before MLP': 0, 'filters': 32, 'kernel_size': 7, 'dilation': 1, 'filters_2': 32, 'kernel_size_2': 3, 'dilation_2': 2, 'lr': 0.00202145872768021}. Best is trial 1 with value: 0.8773000240325928.\u001b[0m\n",
            "\u001b[32m[I 2022-12-05 14:44:55,913]\u001b[0m Trial 7 finished with value: 0.8755999803543091 and parameters: {'dropout before MLP': 0, 'filters': 64, 'kernel_size': 7, 'dilation': 1, 'filters_2': 64, 'kernel_size_2': 5, 'dilation_2': 1, 'lr': 0.0022258033306918946}. Best is trial 1 with value: 0.8773000240325928.\u001b[0m\n",
            "\u001b[32m[I 2022-12-05 14:45:37,585]\u001b[0m Trial 8 finished with value: 0.826200008392334 and parameters: {'dropout before MLP': 0, 'filters': 32, 'kernel_size': 5, 'dilation': 3, 'filters_2': 64, 'kernel_size_2': 3, 'dilation_2': 2, 'lr': 0.0002270156404479869}. Best is trial 1 with value: 0.8773000240325928.\u001b[0m\n",
            "\u001b[32m[I 2022-12-05 14:45:58,718]\u001b[0m Trial 9 finished with value: 0.8765000104904175 and parameters: {'dropout before MLP': 0, 'filters': 64, 'kernel_size': 5, 'dilation': 1, 'filters_2': 64, 'kernel_size_2': 3, 'dilation_2': 1, 'lr': 0.0006932227307273857}. Best is trial 1 with value: 0.8773000240325928.\u001b[0m\n",
            "\u001b[32m[I 2022-12-05 14:46:48,483]\u001b[0m Trial 10 finished with value: 0.6830000281333923 and parameters: {'dropout before MLP': 1, 'filters': 64, 'kernel_size': 5, 'dilation': 2, 'filters_2': 32, 'kernel_size_2': 7, 'dilation_2': 3, 'lr': 0.06858605160500257}. Best is trial 1 with value: 0.8773000240325928.\u001b[0m\n",
            "\u001b[32m[I 2022-12-05 14:47:54,610]\u001b[0m Trial 11 finished with value: 0.8623999953269958 and parameters: {'dropout before MLP': 1, 'filters': 64, 'kernel_size': 5, 'dilation': 2, 'filters_2': 64, 'kernel_size_2': 7, 'dilation_2': 1, 'lr': 0.008307541295272688}. Best is trial 1 with value: 0.8773000240325928.\u001b[0m\n",
            "\u001b[32m[I 2022-12-05 14:48:36,286]\u001b[0m Trial 12 finished with value: 0.866599977016449 and parameters: {'dropout before MLP': 1, 'filters': 64, 'kernel_size': 5, 'dilation': 1, 'filters_2': 64, 'kernel_size_2': 7, 'dilation_2': 2, 'lr': 0.009052535849346628}. Best is trial 1 with value: 0.8773000240325928.\u001b[0m\n",
            "\u001b[32m[I 2022-12-05 14:49:17,894]\u001b[0m Trial 13 finished with value: 0.8409000039100647 and parameters: {'dropout before MLP': 1, 'filters': 64, 'kernel_size': 5, 'dilation': 1, 'filters_2': 64, 'kernel_size_2': 7, 'dilation_2': 1, 'lr': 0.00013669187562853142}. Best is trial 1 with value: 0.8773000240325928.\u001b[0m\n",
            "\u001b[32m[I 2022-12-05 14:49:49,674]\u001b[0m Trial 14 finished with value: 0.8708000183105469 and parameters: {'dropout before MLP': 1, 'filters': 64, 'kernel_size': 5, 'dilation': 2, 'filters_2': 64, 'kernel_size_2': 3, 'dilation_2': 3, 'lr': 0.0044305351280420555}. Best is trial 1 with value: 0.8773000240325928.\u001b[0m\n",
            "\u001b[32m[I 2022-12-05 14:50:31,276]\u001b[0m Trial 15 finished with value: 0.8730000257492065 and parameters: {'dropout before MLP': 0, 'filters': 64, 'kernel_size': 5, 'dilation': 1, 'filters_2': 64, 'kernel_size_2': 7, 'dilation_2': 1, 'lr': 0.0003479193217975993}. Best is trial 1 with value: 0.8773000240325928.\u001b[0m\n",
            "\u001b[32m[I 2022-12-05 14:51:01,758]\u001b[0m Trial 16 finished with value: 0.7620000243186951 and parameters: {'dropout before MLP': 0, 'filters': 64, 'kernel_size': 5, 'dilation': 2, 'filters_2': 64, 'kernel_size_2': 3, 'dilation_2': 2, 'lr': 3.678038163503011e-05}. Best is trial 1 with value: 0.8773000240325928.\u001b[0m\n",
            "\u001b[32m[I 2022-12-05 14:51:44,027]\u001b[0m Trial 17 finished with value: 0.8083000183105469 and parameters: {'dropout before MLP': 1, 'filters': 64, 'kernel_size': 5, 'dilation': 2, 'filters_2': 64, 'kernel_size_2': 7, 'dilation_2': 2, 'lr': 0.02367611573541148}. Best is trial 1 with value: 0.8773000240325928.\u001b[0m\n",
            "\u001b[32m[I 2022-12-05 14:52:01,753]\u001b[0m Trial 18 finished with value: 0.8802000284194946 and parameters: {'dropout before MLP': 1, 'filters': 32, 'kernel_size': 3, 'dilation': 1, 'filters_2': 32, 'kernel_size_2': 3, 'dilation_2': 1, 'lr': 0.0017383270891642964}. Best is trial 18 with value: 0.8802000284194946.\u001b[0m\n",
            "\u001b[32m[I 2022-12-05 14:52:27,985]\u001b[0m Trial 19 finished with value: 0.8769000172615051 and parameters: {'dropout before MLP': 1, 'filters': 32, 'kernel_size': 3, 'dilation': 2, 'filters_2': 32, 'kernel_size_2': 5, 'dilation_2': 3, 'lr': 0.002111313809149961}. Best is trial 18 with value: 0.8802000284194946.\u001b[0m\n",
            "\u001b[32m[I 2022-12-05 14:52:49,104]\u001b[0m Trial 20 finished with value: 0.8535000085830688 and parameters: {'dropout before MLP': 1, 'filters': 32, 'kernel_size': 3, 'dilation': 1, 'filters_2': 32, 'kernel_size_2': 7, 'dilation_2': 1, 'lr': 0.011497857710907475}. Best is trial 18 with value: 0.8802000284194946.\u001b[0m\n",
            "\u001b[32m[I 2022-12-05 14:53:15,800]\u001b[0m Trial 21 finished with value: 0.8513000011444092 and parameters: {'dropout before MLP': 1, 'filters': 32, 'kernel_size': 3, 'dilation': 2, 'filters_2': 32, 'kernel_size_2': 5, 'dilation_2': 3, 'lr': 0.0028865191617680774}. Best is trial 18 with value: 0.8802000284194946.\u001b[0m\n",
            "\u001b[32m[I 2022-12-05 14:53:41,708]\u001b[0m Trial 22 finished with value: 0.8745999932289124 and parameters: {'dropout before MLP': 1, 'filters': 32, 'kernel_size': 3, 'dilation': 2, 'filters_2': 32, 'kernel_size_2': 5, 'dilation_2': 3, 'lr': 0.0015178228731834728}. Best is trial 18 with value: 0.8802000284194946.\u001b[0m\n",
            "\u001b[32m[I 2022-12-05 14:54:23,346]\u001b[0m Trial 23 finished with value: 0.8799999952316284 and parameters: {'dropout before MLP': 1, 'filters': 32, 'kernel_size': 3, 'dilation': 2, 'filters_2': 32, 'kernel_size_2': 5, 'dilation_2': 3, 'lr': 0.004858425347397004}. Best is trial 18 with value: 0.8802000284194946.\u001b[0m\n",
            "\u001b[32m[I 2022-12-05 14:54:49,431]\u001b[0m Trial 24 finished with value: 0.8816999793052673 and parameters: {'dropout before MLP': 1, 'filters': 32, 'kernel_size': 3, 'dilation': 2, 'filters_2': 32, 'kernel_size_2': 5, 'dilation_2': 3, 'lr': 0.004526856840098499}. Best is trial 24 with value: 0.8816999793052673.\u001b[0m\n",
            "\u001b[32m[I 2022-12-05 14:55:15,252]\u001b[0m Trial 25 finished with value: 0.8083999752998352 and parameters: {'dropout before MLP': 1, 'filters': 32, 'kernel_size': 3, 'dilation': 2, 'filters_2': 32, 'kernel_size_2': 5, 'dilation_2': 3, 'lr': 0.023788316737323015}. Best is trial 24 with value: 0.8816999793052673.\u001b[0m\n",
            "\u001b[32m[I 2022-12-05 14:55:39,428]\u001b[0m Trial 26 finished with value: 0.7361999750137329 and parameters: {'dropout before MLP': 1, 'filters': 32, 'kernel_size': 3, 'dilation': 1, 'filters_2': 32, 'kernel_size_2': 5, 'dilation_2': 3, 'lr': 0.07590748067986225}. Best is trial 24 with value: 0.8816999793052673.\u001b[0m\n",
            "\u001b[32m[I 2022-12-05 14:56:06,191]\u001b[0m Trial 27 finished with value: 0.873199999332428 and parameters: {'dropout before MLP': 1, 'filters': 32, 'kernel_size': 3, 'dilation': 2, 'filters_2': 32, 'kernel_size_2': 5, 'dilation_2': 3, 'lr': 0.007803089533122322}. Best is trial 24 with value: 0.8816999793052673.\u001b[0m\n",
            "\u001b[32m[I 2022-12-05 14:56:48,281]\u001b[0m Trial 28 finished with value: 0.8809999823570251 and parameters: {'dropout before MLP': 1, 'filters': 32, 'kernel_size': 3, 'dilation': 1, 'filters_2': 32, 'kernel_size_2': 5, 'dilation_2': 3, 'lr': 0.0009973442945714398}. Best is trial 24 with value: 0.8816999793052673.\u001b[0m\n",
            "\u001b[32m[I 2022-12-05 14:57:29,960]\u001b[0m Trial 29 finished with value: 0.8700000047683716 and parameters: {'dropout before MLP': 1, 'filters': 32, 'kernel_size': 3, 'dilation': 1, 'filters_2': 32, 'kernel_size_2': 5, 'dilation_2': 3, 'lr': 0.0008440056071153921}. Best is trial 24 with value: 0.8816999793052673.\u001b[0m\n"
          ]
        }
      ],
      "source": [
        "study = optuna.create_study(direction='maximize',sampler=optuna.samplers.TPESampler(), pruner=optuna.pruners.MedianPruner())\n",
        "study.optimize(objective, n_trials=30)"
      ]
    },
    {
      "cell_type": "code",
      "execution_count": null,
      "metadata": {
        "colab": {
          "base_uri": "https://localhost:8080/"
        },
        "id": "DKO1zaDouWbh",
        "outputId": "97b98164-e24a-4f69-cb33-1bfe4a3621e7"
      },
      "outputs": [
        {
          "name": "stdout",
          "output_type": "stream",
          "text": [
            "dropout before MLP: 1\n",
            "filters: 32\n",
            "kernel_size: 3\n",
            "dilation: 2\n",
            "filters_2: 32\n",
            "kernel_size_2: 5\n",
            "dilation_2: 3\n",
            "lr: 0.004526856840098499\n"
          ]
        }
      ],
      "source": [
        "best_trial = study.best_trial\n",
        "\n",
        "for key, value in best_trial.params.items():\n",
        "    print(\"{}: {}\".format(key, value))"
      ]
    },
    {
      "cell_type": "code",
      "execution_count": null,
      "metadata": {
        "colab": {
          "base_uri": "https://localhost:8080/",
          "height": 542
        },
        "id": "3U_cq9vLugf-",
        "outputId": "04c0b1bd-cd0a-4811-e2d9-a77487eda9fa"
      },
      "outputs": [
        {
          "data": {
            "text/html": [
              "<html>\n",
              "<head><meta charset=\"utf-8\" /></head>\n",
              "<body>\n",
              "    <div>            <script src=\"https://cdnjs.cloudflare.com/ajax/libs/mathjax/2.7.5/MathJax.js?config=TeX-AMS-MML_SVG\"></script><script type=\"text/javascript\">if (window.MathJax) {MathJax.Hub.Config({SVG: {font: \"STIX-Web\"}});}</script>                <script type=\"text/javascript\">window.PlotlyConfig = {MathJaxConfig: 'local'};</script>\n",
              "        <script src=\"https://cdn.plot.ly/plotly-2.8.3.min.js\"></script>                <div id=\"a800a230-81c2-4311-bbda-50e0e5052987\" class=\"plotly-graph-div\" style=\"height:525px; width:100%;\"></div>            <script type=\"text/javascript\">                                    window.PLOTLYENV=window.PLOTLYENV || {};                                    if (document.getElementById(\"a800a230-81c2-4311-bbda-50e0e5052987\")) {                    Plotly.newPlot(                        \"a800a230-81c2-4311-bbda-50e0e5052987\",                        [{\"cliponaxis\":false,\"hovertemplate\":[\"dropout before MLP (CategoricalDistribution): 2.639158031070376e-06<extra></extra>\",\"filters_2 (CategoricalDistribution): 2.343986769192557e-05<extra></extra>\",\"kernel_size_2 (CategoricalDistribution): 0.0019242919567867055<extra></extra>\",\"filters (CategoricalDistribution): 0.0032431988174379143<extra></extra>\",\"dilation_2 (CategoricalDistribution): 0.007575904242574267<extra></extra>\",\"kernel_size (CategoricalDistribution): 0.009167879524748016<extra></extra>\",\"dilation (CategoricalDistribution): 0.04473896641196227<extra></extra>\",\"lr (FloatDistribution): 0.9333236800207678<extra></extra>\"],\"marker\":{\"color\":\"rgb(66,146,198)\"},\"orientation\":\"h\",\"text\":[\"<0.01\",\"<0.01\",\"<0.01\",\"<0.01\",\"<0.01\",\"<0.01\",\"0.04\",\"0.93\"],\"textposition\":\"outside\",\"x\":[2.639158031070376e-06,2.343986769192557e-05,0.0019242919567867055,0.0032431988174379143,0.007575904242574267,0.009167879524748016,0.04473896641196227,0.9333236800207678],\"y\":[\"dropout before MLP\",\"filters_2\",\"kernel_size_2\",\"filters\",\"dilation_2\",\"kernel_size\",\"dilation\",\"lr\"],\"type\":\"bar\"}],                        {\"showlegend\":false,\"title\":{\"text\":\"Hyperparameter Importances\"},\"xaxis\":{\"title\":{\"text\":\"Importance for Objective Value\"}},\"yaxis\":{\"title\":{\"text\":\"Hyperparameter\"}},\"template\":{\"data\":{\"bar\":[{\"error_x\":{\"color\":\"#2a3f5f\"},\"error_y\":{\"color\":\"#2a3f5f\"},\"marker\":{\"line\":{\"color\":\"#E5ECF6\",\"width\":0.5},\"pattern\":{\"fillmode\":\"overlay\",\"size\":10,\"solidity\":0.2}},\"type\":\"bar\"}],\"barpolar\":[{\"marker\":{\"line\":{\"color\":\"#E5ECF6\",\"width\":0.5},\"pattern\":{\"fillmode\":\"overlay\",\"size\":10,\"solidity\":0.2}},\"type\":\"barpolar\"}],\"carpet\":[{\"aaxis\":{\"endlinecolor\":\"#2a3f5f\",\"gridcolor\":\"white\",\"linecolor\":\"white\",\"minorgridcolor\":\"white\",\"startlinecolor\":\"#2a3f5f\"},\"baxis\":{\"endlinecolor\":\"#2a3f5f\",\"gridcolor\":\"white\",\"linecolor\":\"white\",\"minorgridcolor\":\"white\",\"startlinecolor\":\"#2a3f5f\"},\"type\":\"carpet\"}],\"choropleth\":[{\"colorbar\":{\"outlinewidth\":0,\"ticks\":\"\"},\"type\":\"choropleth\"}],\"contour\":[{\"colorbar\":{\"outlinewidth\":0,\"ticks\":\"\"},\"colorscale\":[[0.0,\"#0d0887\"],[0.1111111111111111,\"#46039f\"],[0.2222222222222222,\"#7201a8\"],[0.3333333333333333,\"#9c179e\"],[0.4444444444444444,\"#bd3786\"],[0.5555555555555556,\"#d8576b\"],[0.6666666666666666,\"#ed7953\"],[0.7777777777777778,\"#fb9f3a\"],[0.8888888888888888,\"#fdca26\"],[1.0,\"#f0f921\"]],\"type\":\"contour\"}],\"contourcarpet\":[{\"colorbar\":{\"outlinewidth\":0,\"ticks\":\"\"},\"type\":\"contourcarpet\"}],\"heatmap\":[{\"colorbar\":{\"outlinewidth\":0,\"ticks\":\"\"},\"colorscale\":[[0.0,\"#0d0887\"],[0.1111111111111111,\"#46039f\"],[0.2222222222222222,\"#7201a8\"],[0.3333333333333333,\"#9c179e\"],[0.4444444444444444,\"#bd3786\"],[0.5555555555555556,\"#d8576b\"],[0.6666666666666666,\"#ed7953\"],[0.7777777777777778,\"#fb9f3a\"],[0.8888888888888888,\"#fdca26\"],[1.0,\"#f0f921\"]],\"type\":\"heatmap\"}],\"heatmapgl\":[{\"colorbar\":{\"outlinewidth\":0,\"ticks\":\"\"},\"colorscale\":[[0.0,\"#0d0887\"],[0.1111111111111111,\"#46039f\"],[0.2222222222222222,\"#7201a8\"],[0.3333333333333333,\"#9c179e\"],[0.4444444444444444,\"#bd3786\"],[0.5555555555555556,\"#d8576b\"],[0.6666666666666666,\"#ed7953\"],[0.7777777777777778,\"#fb9f3a\"],[0.8888888888888888,\"#fdca26\"],[1.0,\"#f0f921\"]],\"type\":\"heatmapgl\"}],\"histogram\":[{\"marker\":{\"pattern\":{\"fillmode\":\"overlay\",\"size\":10,\"solidity\":0.2}},\"type\":\"histogram\"}],\"histogram2d\":[{\"colorbar\":{\"outlinewidth\":0,\"ticks\":\"\"},\"colorscale\":[[0.0,\"#0d0887\"],[0.1111111111111111,\"#46039f\"],[0.2222222222222222,\"#7201a8\"],[0.3333333333333333,\"#9c179e\"],[0.4444444444444444,\"#bd3786\"],[0.5555555555555556,\"#d8576b\"],[0.6666666666666666,\"#ed7953\"],[0.7777777777777778,\"#fb9f3a\"],[0.8888888888888888,\"#fdca26\"],[1.0,\"#f0f921\"]],\"type\":\"histogram2d\"}],\"histogram2dcontour\":[{\"colorbar\":{\"outlinewidth\":0,\"ticks\":\"\"},\"colorscale\":[[0.0,\"#0d0887\"],[0.1111111111111111,\"#46039f\"],[0.2222222222222222,\"#7201a8\"],[0.3333333333333333,\"#9c179e\"],[0.4444444444444444,\"#bd3786\"],[0.5555555555555556,\"#d8576b\"],[0.6666666666666666,\"#ed7953\"],[0.7777777777777778,\"#fb9f3a\"],[0.8888888888888888,\"#fdca26\"],[1.0,\"#f0f921\"]],\"type\":\"histogram2dcontour\"}],\"mesh3d\":[{\"colorbar\":{\"outlinewidth\":0,\"ticks\":\"\"},\"type\":\"mesh3d\"}],\"parcoords\":[{\"line\":{\"colorbar\":{\"outlinewidth\":0,\"ticks\":\"\"}},\"type\":\"parcoords\"}],\"pie\":[{\"automargin\":true,\"type\":\"pie\"}],\"scatter\":[{\"marker\":{\"colorbar\":{\"outlinewidth\":0,\"ticks\":\"\"}},\"type\":\"scatter\"}],\"scatter3d\":[{\"line\":{\"colorbar\":{\"outlinewidth\":0,\"ticks\":\"\"}},\"marker\":{\"colorbar\":{\"outlinewidth\":0,\"ticks\":\"\"}},\"type\":\"scatter3d\"}],\"scattercarpet\":[{\"marker\":{\"colorbar\":{\"outlinewidth\":0,\"ticks\":\"\"}},\"type\":\"scattercarpet\"}],\"scattergeo\":[{\"marker\":{\"colorbar\":{\"outlinewidth\":0,\"ticks\":\"\"}},\"type\":\"scattergeo\"}],\"scattergl\":[{\"marker\":{\"colorbar\":{\"outlinewidth\":0,\"ticks\":\"\"}},\"type\":\"scattergl\"}],\"scattermapbox\":[{\"marker\":{\"colorbar\":{\"outlinewidth\":0,\"ticks\":\"\"}},\"type\":\"scattermapbox\"}],\"scatterpolar\":[{\"marker\":{\"colorbar\":{\"outlinewidth\":0,\"ticks\":\"\"}},\"type\":\"scatterpolar\"}],\"scatterpolargl\":[{\"marker\":{\"colorbar\":{\"outlinewidth\":0,\"ticks\":\"\"}},\"type\":\"scatterpolargl\"}],\"scatterternary\":[{\"marker\":{\"colorbar\":{\"outlinewidth\":0,\"ticks\":\"\"}},\"type\":\"scatterternary\"}],\"surface\":[{\"colorbar\":{\"outlinewidth\":0,\"ticks\":\"\"},\"colorscale\":[[0.0,\"#0d0887\"],[0.1111111111111111,\"#46039f\"],[0.2222222222222222,\"#7201a8\"],[0.3333333333333333,\"#9c179e\"],[0.4444444444444444,\"#bd3786\"],[0.5555555555555556,\"#d8576b\"],[0.6666666666666666,\"#ed7953\"],[0.7777777777777778,\"#fb9f3a\"],[0.8888888888888888,\"#fdca26\"],[1.0,\"#f0f921\"]],\"type\":\"surface\"}],\"table\":[{\"cells\":{\"fill\":{\"color\":\"#EBF0F8\"},\"line\":{\"color\":\"white\"}},\"header\":{\"fill\":{\"color\":\"#C8D4E3\"},\"line\":{\"color\":\"white\"}},\"type\":\"table\"}]},\"layout\":{\"annotationdefaults\":{\"arrowcolor\":\"#2a3f5f\",\"arrowhead\":0,\"arrowwidth\":1},\"autotypenumbers\":\"strict\",\"coloraxis\":{\"colorbar\":{\"outlinewidth\":0,\"ticks\":\"\"}},\"colorscale\":{\"diverging\":[[0,\"#8e0152\"],[0.1,\"#c51b7d\"],[0.2,\"#de77ae\"],[0.3,\"#f1b6da\"],[0.4,\"#fde0ef\"],[0.5,\"#f7f7f7\"],[0.6,\"#e6f5d0\"],[0.7,\"#b8e186\"],[0.8,\"#7fbc41\"],[0.9,\"#4d9221\"],[1,\"#276419\"]],\"sequential\":[[0.0,\"#0d0887\"],[0.1111111111111111,\"#46039f\"],[0.2222222222222222,\"#7201a8\"],[0.3333333333333333,\"#9c179e\"],[0.4444444444444444,\"#bd3786\"],[0.5555555555555556,\"#d8576b\"],[0.6666666666666666,\"#ed7953\"],[0.7777777777777778,\"#fb9f3a\"],[0.8888888888888888,\"#fdca26\"],[1.0,\"#f0f921\"]],\"sequentialminus\":[[0.0,\"#0d0887\"],[0.1111111111111111,\"#46039f\"],[0.2222222222222222,\"#7201a8\"],[0.3333333333333333,\"#9c179e\"],[0.4444444444444444,\"#bd3786\"],[0.5555555555555556,\"#d8576b\"],[0.6666666666666666,\"#ed7953\"],[0.7777777777777778,\"#fb9f3a\"],[0.8888888888888888,\"#fdca26\"],[1.0,\"#f0f921\"]]},\"colorway\":[\"#636efa\",\"#EF553B\",\"#00cc96\",\"#ab63fa\",\"#FFA15A\",\"#19d3f3\",\"#FF6692\",\"#B6E880\",\"#FF97FF\",\"#FECB52\"],\"font\":{\"color\":\"#2a3f5f\"},\"geo\":{\"bgcolor\":\"white\",\"lakecolor\":\"white\",\"landcolor\":\"#E5ECF6\",\"showlakes\":true,\"showland\":true,\"subunitcolor\":\"white\"},\"hoverlabel\":{\"align\":\"left\"},\"hovermode\":\"closest\",\"mapbox\":{\"style\":\"light\"},\"paper_bgcolor\":\"white\",\"plot_bgcolor\":\"#E5ECF6\",\"polar\":{\"angularaxis\":{\"gridcolor\":\"white\",\"linecolor\":\"white\",\"ticks\":\"\"},\"bgcolor\":\"#E5ECF6\",\"radialaxis\":{\"gridcolor\":\"white\",\"linecolor\":\"white\",\"ticks\":\"\"}},\"scene\":{\"xaxis\":{\"backgroundcolor\":\"#E5ECF6\",\"gridcolor\":\"white\",\"gridwidth\":2,\"linecolor\":\"white\",\"showbackground\":true,\"ticks\":\"\",\"zerolinecolor\":\"white\"},\"yaxis\":{\"backgroundcolor\":\"#E5ECF6\",\"gridcolor\":\"white\",\"gridwidth\":2,\"linecolor\":\"white\",\"showbackground\":true,\"ticks\":\"\",\"zerolinecolor\":\"white\"},\"zaxis\":{\"backgroundcolor\":\"#E5ECF6\",\"gridcolor\":\"white\",\"gridwidth\":2,\"linecolor\":\"white\",\"showbackground\":true,\"ticks\":\"\",\"zerolinecolor\":\"white\"}},\"shapedefaults\":{\"line\":{\"color\":\"#2a3f5f\"}},\"ternary\":{\"aaxis\":{\"gridcolor\":\"white\",\"linecolor\":\"white\",\"ticks\":\"\"},\"baxis\":{\"gridcolor\":\"white\",\"linecolor\":\"white\",\"ticks\":\"\"},\"bgcolor\":\"#E5ECF6\",\"caxis\":{\"gridcolor\":\"white\",\"linecolor\":\"white\",\"ticks\":\"\"}},\"title\":{\"x\":0.05},\"xaxis\":{\"automargin\":true,\"gridcolor\":\"white\",\"linecolor\":\"white\",\"ticks\":\"\",\"title\":{\"standoff\":15},\"zerolinecolor\":\"white\",\"zerolinewidth\":2},\"yaxis\":{\"automargin\":true,\"gridcolor\":\"white\",\"linecolor\":\"white\",\"ticks\":\"\",\"title\":{\"standoff\":15},\"zerolinecolor\":\"white\",\"zerolinewidth\":2}}}},                        {\"responsive\": true}                    ).then(function(){\n",
              "                            \n",
              "var gd = document.getElementById('a800a230-81c2-4311-bbda-50e0e5052987');\n",
              "var x = new MutationObserver(function (mutations, observer) {{\n",
              "        var display = window.getComputedStyle(gd).display;\n",
              "        if (!display || display === 'none') {{\n",
              "            console.log([gd, 'removed!']);\n",
              "            Plotly.purge(gd);\n",
              "            observer.disconnect();\n",
              "        }}\n",
              "}});\n",
              "\n",
              "// Listen for the removal of the full notebook cells\n",
              "var notebookContainer = gd.closest('#notebook-container');\n",
              "if (notebookContainer) {{\n",
              "    x.observe(notebookContainer, {childList: true});\n",
              "}}\n",
              "\n",
              "// Listen for the clearing of the current output cell\n",
              "var outputEl = gd.closest('.output');\n",
              "if (outputEl) {{\n",
              "    x.observe(outputEl, {childList: true});\n",
              "}}\n",
              "\n",
              "                        })                };                            </script>        </div>\n",
              "</body>\n",
              "</html>"
            ]
          },
          "metadata": {},
          "output_type": "display_data"
        }
      ],
      "source": [
        "optuna.visualization.plot_param_importances(study)"
      ]
    },
    {
      "cell_type": "markdown",
      "metadata": {
        "id": "tOMF1PY5qLQW"
      },
      "source": [
        "###Train Optimized CNN"
      ]
    },
    {
      "cell_type": "code",
      "execution_count": null,
      "metadata": {
        "id": "zNGo0Qf0pnH2"
      },
      "outputs": [],
      "source": [
        "model = models.Sequential()\n",
        "model.add(layers.InputLayer((28,28,1)))\n",
        "model.add(layers.Conv2D(32, (3, 3), padding='same', dilation_rate=2, activation='relu'))\n",
        "model.add(layers.MaxPooling2D((2, 2), padding='same'))\n",
        "model.add(layers.Conv2D(32, (3, 3), dilation_rate=2, padding='same', activation='relu'))\n",
        "model.add(layers.MaxPooling2D((2, 2), padding='same'))\n",
        "model.add(layers.Dropout(0.2))\n",
        "model.add(layers.Flatten())\n",
        "model.add(layers.Dense(128, activation='relu'))\n",
        "model.add(layers.Dropout(0.2))\n",
        "model.add(layers.Dense(128, activation='relu'))\n",
        "model.add(layers.Dense(10, activation='softmax'))"
      ]
    },
    {
      "cell_type": "code",
      "execution_count": null,
      "metadata": {
        "colab": {
          "base_uri": "https://localhost:8080/"
        },
        "id": "80k7OIz8qRn7",
        "outputId": "6d844a6c-b164-439c-d11b-b65a987fee8a"
      },
      "outputs": [
        {
          "name": "stdout",
          "output_type": "stream",
          "text": [
            "Model: \"sequential_1\"\n",
            "_________________________________________________________________\n",
            " Layer (type)                Output Shape              Param #   \n",
            "=================================================================\n",
            " conv2d_2 (Conv2D)           (None, 28, 28, 32)        320       \n",
            "                                                                 \n",
            " max_pooling2d_2 (MaxPooling  (None, 14, 14, 32)       0         \n",
            " 2D)                                                             \n",
            "                                                                 \n",
            " conv2d_3 (Conv2D)           (None, 14, 14, 32)        9248      \n",
            "                                                                 \n",
            " max_pooling2d_3 (MaxPooling  (None, 7, 7, 32)         0         \n",
            " 2D)                                                             \n",
            "                                                                 \n",
            " dropout_1 (Dropout)         (None, 7, 7, 32)          0         \n",
            "                                                                 \n",
            " flatten_1 (Flatten)         (None, 1568)              0         \n",
            "                                                                 \n",
            " dense_3 (Dense)             (None, 128)               200832    \n",
            "                                                                 \n",
            " dropout_2 (Dropout)         (None, 128)               0         \n",
            "                                                                 \n",
            " dense_4 (Dense)             (None, 128)               16512     \n",
            "                                                                 \n",
            " dense_5 (Dense)             (None, 10)                1290      \n",
            "                                                                 \n",
            "=================================================================\n",
            "Total params: 228,202\n",
            "Trainable params: 228,202\n",
            "Non-trainable params: 0\n",
            "_________________________________________________________________\n"
          ]
        }
      ],
      "source": [
        "model.summary()"
      ]
    },
    {
      "cell_type": "code",
      "execution_count": null,
      "metadata": {
        "id": "cpa0K75cq0dG"
      },
      "outputs": [],
      "source": [
        "model.compile(optimizer= optimizers.Adam(0.004526856840098499),\n",
        "              loss='categorical_crossentropy', #tf.keras.losses.SparseCategoricalCrossentropy(from_logits=True)\n",
        "              metrics=['accuracy'])"
      ]
    },
    {
      "cell_type": "code",
      "execution_count": null,
      "metadata": {
        "colab": {
          "base_uri": "https://localhost:8080/"
        },
        "id": "SPRDOMR5q8Ih",
        "outputId": "018f677d-4617-412f-c99a-e3af88d810e8"
      },
      "outputs": [
        {
          "name": "stdout",
          "output_type": "stream",
          "text": [
            "Epoch 1/50\n",
            "1875/1875 [==============================] - 10s 5ms/step - loss: 0.4770 - accuracy: 0.8242 - val_loss: 0.3547 - val_accuracy: 0.8735 - lr: 0.0045\n",
            "Epoch 2/50\n",
            "1875/1875 [==============================] - 9s 5ms/step - loss: 0.3563 - accuracy: 0.8701 - val_loss: 0.3153 - val_accuracy: 0.8816 - lr: 0.0045\n",
            "Epoch 3/50\n",
            "1875/1875 [==============================] - 8s 4ms/step - loss: 0.3301 - accuracy: 0.8788 - val_loss: 0.3166 - val_accuracy: 0.8794 - lr: 0.0045\n",
            "Epoch 4/50\n",
            "1875/1875 [==============================] - 9s 5ms/step - loss: 0.3146 - accuracy: 0.8860 - val_loss: 0.3021 - val_accuracy: 0.8891 - lr: 0.0045\n",
            "Epoch 5/50\n",
            "1875/1875 [==============================] - 11s 6ms/step - loss: 0.3039 - accuracy: 0.8908 - val_loss: 0.3101 - val_accuracy: 0.8869 - lr: 0.0045\n",
            "Epoch 6/50\n",
            "1875/1875 [==============================] - 10s 5ms/step - loss: 0.2924 - accuracy: 0.8946 - val_loss: 0.3002 - val_accuracy: 0.8909 - lr: 0.0045\n",
            "Epoch 7/50\n",
            "1875/1875 [==============================] - 8s 4ms/step - loss: 0.2885 - accuracy: 0.8939 - val_loss: 0.3009 - val_accuracy: 0.8949 - lr: 0.0045\n",
            "Epoch 8/50\n",
            "1875/1875 [==============================] - 7s 4ms/step - loss: 0.2831 - accuracy: 0.8975 - val_loss: 0.2822 - val_accuracy: 0.8977 - lr: 0.0045\n",
            "Epoch 9/50\n",
            "1875/1875 [==============================] - 8s 4ms/step - loss: 0.2765 - accuracy: 0.9002 - val_loss: 0.2909 - val_accuracy: 0.8959 - lr: 0.0045\n",
            "Epoch 10/50\n",
            "1875/1875 [==============================] - 7s 4ms/step - loss: 0.2690 - accuracy: 0.9026 - val_loss: 0.2853 - val_accuracy: 0.9013 - lr: 0.0045\n",
            "Epoch 11/50\n",
            "1875/1875 [==============================] - 8s 4ms/step - loss: 0.2704 - accuracy: 0.9035 - val_loss: 0.3005 - val_accuracy: 0.8955 - lr: 0.0045\n"
          ]
        },
        {
          "data": {
            "text/plain": [
              "<keras.callbacks.History at 0x7f9e9e16bee0>"
            ]
          },
          "execution_count": 51,
          "metadata": {},
          "output_type": "execute_result"
        }
      ],
      "source": [
        "from keras.callbacks import ModelCheckpoint\n",
        "#define callbacks\n",
        "early_stopping = EarlyStopping(monitor = 'val_loss',min_delta = 0, patience = 3,verbose = 0,mode = 'auto');\n",
        "reduce_lr = ReduceLROnPlateau(monitor = 'val_loss', factor = 0.1, mode='auto', min_lr=1e-7)\n",
        "checkpoint = ModelCheckpoint(monitor = 'val_accuracy', save_best_only=True, mode='max', filepath='best_model.hdf5')\n",
        "\n",
        "model.fit(train_images, numpy.eye(10)[train_labels], validation_data=(test_images, numpy.eye(10)[test_labels]), epochs=50,\n",
        "          callbacks = [early_stopping, reduce_lr, checkpoint])"
      ]
    },
    {
      "cell_type": "code",
      "execution_count": null,
      "metadata": {
        "colab": {
          "base_uri": "https://localhost:8080/"
        },
        "id": "ec-no9mXqBQ8",
        "outputId": "1b47cf9d-0662-49e3-f0b3-66470a6e5dd6"
      },
      "outputs": [
        {
          "name": "stdout",
          "output_type": "stream",
          "text": [
            "313/313 [==============================] - 1s 2ms/step\n",
            "Accuracy: 0.8977\n"
          ]
        }
      ],
      "source": [
        "#load best model\n",
        "best_m = models.load_model('best_model.hdf5')\n",
        "preds = best_m.predict(test_images)\n",
        "print(f\"Accuracy: {sum(numpy.argmax(preds, axis=1)==numpy.array(test_labels))/len(preds)}\")"
      ]
    }
  ],
  "metadata": {
    "colab": {
      "collapsed_sections": [
        "ViFUQDMK-pL_",
        "zjYUvPh90tpo"
      ],
      "provenance": [],
      "toc_visible": true,
      "include_colab_link": true
    },
    "gpuClass": "standard",
    "kernelspec": {
      "display_name": "Python 3 (ipykernel)",
      "language": "python",
      "name": "python3"
    },
    "language_info": {
      "codemirror_mode": {
        "name": "ipython",
        "version": 3
      },
      "file_extension": ".py",
      "mimetype": "text/x-python",
      "name": "python",
      "nbconvert_exporter": "python",
      "pygments_lexer": "ipython3",
      "version": "3.10.8"
    },
    "accelerator": "GPU"
  },
  "nbformat": 4,
  "nbformat_minor": 0
}